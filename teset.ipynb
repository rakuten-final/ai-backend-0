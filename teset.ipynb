{
 "cells": [
  {
   "cell_type": "code",
   "execution_count": 1,
   "metadata": {},
   "outputs": [],
   "source": [
    "import os\n",
    "import json\n",
    "import requests\n",
    "from dotenv import load_dotenv\n",
    "\n",
    "load_dotenv()\n",
    "\n",
    "googleapi = os.getenv(\"GOOGLE_KEY_API\")\n",
    "\n",
    "def getCoordinates(location_name):\n",
    "    geocode_url = \"https://maps.googleapis.com/maps/api/geocode/json\"\n",
    "    params = {\n",
    "        \"address\": location_name,\n",
    "        \"key\": googleapi\n",
    "    }\n",
    "    \n",
    "    response = requests.get(geocode_url, params=params)\n",
    "    geocode_result = response.json()\n",
    "    \n",
    "    if geocode_result['status'] == 'OK':\n",
    "        location = geocode_result['results'][0]['geometry']['location']\n",
    "        return location['lat'], location['lng']\n",
    "    else:\n",
    "        raise Exception(\"Could not get coordinates for the location.\")\n",
    "\n",
    "def getPlaces(location_name, place_type, keyword, radius=1000):\n",
    "    latti, longi = getCoordinates(location_name)\n",
    "    \n",
    "    url = \"https://maps.googleapis.com/maps/api/place/nearbysearch/json\"\n",
    "    \n",
    "    params = {\n",
    "        \"location\": f\"{latti},{longi}\",\n",
    "        \"radius\": radius,\n",
    "        \"type\": place_type,\n",
    "        \"key\": googleapi,\n",
    "        \"keyword\": keyword\n",
    "    }\n",
    "    \n",
    "    response = requests.get(url, params=params)\n",
    "    \n",
    "    with open(\"response.json\", \"w\") as f:\n",
    "        f.write(json.dumps(response.json(), indent=4))\n",
    "    \n",
    "    return response.json()"
   ]
  },
  {
   "cell_type": "code",
   "execution_count": 6,
   "metadata": {},
   "outputs": [],
   "source": [
    "location_name = \"Belandur, Bengaluru\"\n",
    "place_type = \"meidcal_store\"\n",
    "keyword = \"medical supplies\"\n",
    "result = getPlaces(location_name, place_type, keyword)"
   ]
  },
  {
   "cell_type": "code",
   "execution_count": 8,
   "metadata": {},
   "outputs": [
    {
     "data": {
      "text/plain": [
       "4"
      ]
     },
     "execution_count": 8,
     "metadata": {},
     "output_type": "execute_result"
    }
   ],
   "source": [
    "len(result['results'])"
   ]
  },
  {
   "cell_type": "code",
   "execution_count": null,
   "metadata": {},
   "outputs": [],
   "source": [
    "'new_place_name': 'Belandur, Bangaluru',\n",
    "  'meidcal_store_keys': 'medical supplies',\n",
    "  'grocery_store_keys': 'groceries',\n",
    "  'resturants_keys': 'Any resturants'}}"
   ]
  }
 ],
 "metadata": {
  "kernelspec": {
   "display_name": ".venv",
   "language": "python",
   "name": "python3"
  },
  "language_info": {
   "codemirror_mode": {
    "name": "ipython",
    "version": 3
   },
   "file_extension": ".py",
   "mimetype": "text/x-python",
   "name": "python",
   "nbconvert_exporter": "python",
   "pygments_lexer": "ipython3",
   "version": "3.10.4"
  }
 },
 "nbformat": 4,
 "nbformat_minor": 2
}
