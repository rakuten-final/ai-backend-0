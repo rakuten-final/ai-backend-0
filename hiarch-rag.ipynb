{
 "cells": [
  {
   "cell_type": "code",
   "execution_count": 1,
   "metadata": {},
   "outputs": [
    {
     "name": "stderr",
     "output_type": "stream",
     "text": [
      "/Users/debasmitroy/Desktop/rakuten-codes/backend0/.venv/lib/python3.10/site-packages/tqdm/auto.py:21: TqdmWarning: IProgress not found. Please update jupyter and ipywidgets. See https://ipywidgets.readthedocs.io/en/stable/user_install.html\n",
      "  from .autonotebook import tqdm as notebook_tqdm\n"
     ]
    }
   ],
   "source": [
    "import pandas as pd\n",
    "import numpy as np\n",
    "import matplotlib.pyplot as plt\n",
    "from typing import TypedDict, Literal, List, Union\n",
    "import os\n",
    "import json\n",
    "import re\n",
    "\n",
    "\n",
    "from langchain_core.tools import tool\n",
    "from langchain_openai import ChatOpenAI, OpenAIEmbeddings\n",
    "from langchain_core.messages import HumanMessage, SystemMessage,ToolMessage\n",
    "from langchain_core.pydantic_v1 import BaseModel, Field\n",
    "from langchain_core.prompts import ChatPromptTemplate\n",
    "\n",
    "from langchain_qdrant import QdrantVectorStore\n",
    "from qdrant_client import QdrantClient\n",
    "from qdrant_client.http.models import Distance, VectorParams\n",
    "from dotenv import load_dotenv\n",
    "from tqdm import tqdm\n",
    "from langchain_core.documents import Document\n",
    "import time"
   ]
  },
  {
   "cell_type": "code",
   "execution_count": 2,
   "metadata": {},
   "outputs": [
    {
     "data": {
      "text/plain": [
       "True"
      ]
     },
     "execution_count": 2,
     "metadata": {},
     "output_type": "execute_result"
    }
   ],
   "source": [
    "load_dotenv(\"./.env\")"
   ]
  },
  {
   "cell_type": "markdown",
   "metadata": {},
   "source": [
    "### Langchain Engines"
   ]
  },
  {
   "cell_type": "code",
   "execution_count": 3,
   "metadata": {},
   "outputs": [],
   "source": [
    "class LangchainJSONEngine:\n",
    "    def __init__(self, sampleBaseModel: BaseModel, systemPromptText: str=None, humanPromptText: str=None):\n",
    "        self.llm = llm = ChatOpenAI(model=\"gpt-3.5-turbo\", temperature=0)\n",
    "        self.structured_llm = llm.with_structured_output(sampleBaseModel)\n",
    "        \n",
    "        if systemPromptText is None:\n",
    "            self.systemPromptText = \"\"\"\n",
    "            You are an AI assistant. You are helping a user with a task. The user is asking you questions and you are answering them.\n",
    "            \"\"\"\n",
    "        else:\n",
    "            self.systemPromptText = systemPromptText\n",
    "\n",
    "        if humanPromptText is None:\n",
    "            self.HumanPromptText = \"\"\"\n",
    "            Human: {query}\n",
    "            \"\"\"\n",
    "        else:\n",
    "            self.humanPromptText = humanPromptText\n",
    "\n",
    "        self.prompt = ChatPromptTemplate.from_messages(\n",
    "            [(\"system\", self.systemPromptText), (\"human\", \"Query:\\n\\n {query}\")])\n",
    "        \n",
    "        self.micro_agent = self.prompt | self.structured_llm\n",
    "\n",
    "    def run(self, query: str):\n",
    "        result = self.micro_agent.invoke({\n",
    "            \"query\": query\n",
    "        }) \n",
    "        return result\n",
    "    \n",
    "\n",
    "class LangchainSimpleEngine:\n",
    "    def __init__(self, tools:List[tool]=[], systemPromptText: str=None, humanPromptText: str=None):\n",
    "        self.llm = llm = ChatOpenAI(model=\"gpt-3.5-turbo\", temperature=0)\n",
    "        self.tools = tools\n",
    "        \n",
    "        if len(tools) == 0:\n",
    "            self.llm_with_tools = llm\n",
    "        else:\n",
    "            self.llm_with_tools = llm.bind_tools(tools)\n",
    "            \n",
    "        if systemPromptText is None:\n",
    "            self.systemPromptText = \"\"\"\n",
    "            You are an AI assistant. You are helping a user with a task. The user is asking you questions and you are answering them.\n",
    "            \"\"\"\n",
    "        else:\n",
    "            self.systemPromptText = systemPromptText\n",
    "\n",
    "        if humanPromptText is not None: \n",
    "            print(\"Skipping human prompt text ...\")\n",
    "\n",
    "    def run(self, query: str):\n",
    "        messages = [\n",
    "            SystemMessage(self.systemPromptText),\n",
    "            HumanMessage(content=query)\n",
    "        ]\n",
    "        level1_result = self.llm_with_tools.invoke(messages)\n",
    "        if len(level1_result.tool_calls) == 0:\n",
    "            print(\"No tools to run ...\")\n",
    "            return level1_result\n",
    "        else:\n",
    "            print(\"Running tools ...\")\n",
    "            for tool_call in level1_result.tool_calls:\n",
    "                tool_output = tool_call.invoke()\n",
    "                messages.append(ToolMessage(tool_output, tool_call_id=tool_call[\"id\"]))\n",
    "            level2_result = self.llm_with_tools.invoke(messages)\n",
    "            return level2_result"
   ]
  },
  {
   "cell_type": "markdown",
   "metadata": {},
   "source": [
    "### Get Stored Result"
   ]
  },
  {
   "cell_type": "code",
   "execution_count": 4,
   "metadata": {},
   "outputs": [],
   "source": [
    "def get_stored_result(path:str, type:Literal[\"json\",\"csv\"]):\n",
    "    # Check if the path is valid\n",
    "    if not os.path.exists(path):\n",
    "        return None \n",
    "    if type == \"json\":\n",
    "        return pd.read_json(path).to_dict()\n",
    "    elif type == \"csv\":\n",
    "        with open(path, 'r') as f:\n",
    "            data = json.load(f)\n",
    "        return data\n",
    "    else:\n",
    "        return None \n",
    "    \n",
    "def save_result(result, path:str, type:Literal[\"json\",\"csv\"]):\n",
    "    if type == \"json\":\n",
    "        with open(path, 'w') as f:\n",
    "            json.dump(result, f, indent=4)\n",
    "    elif type == \"csv\":\n",
    "        #  check if the result is a dataframe\n",
    "        if isinstance(result, pd.DataFrame):\n",
    "            result.to_csv(path, index=False)\n",
    "        else:\n",
    "            print(\"The result is not a dataframe\")\n",
    "            raise ValueError(\"The result is not a dataframe\")\n",
    "    else:\n",
    "        print(\"Invalid type\")\n",
    "        raise ValueError(\"Invalid type\")"
   ]
  },
  {
   "cell_type": "markdown",
   "metadata": {},
   "source": [
    "### Vector database"
   ]
  },
  {
   "cell_type": "code",
   "execution_count": 5,
   "metadata": {},
   "outputs": [],
   "source": [
    "def connect_to_qdrant(url:str, collection_name:str, vector_name:str):\n",
    "    qdrant_client = QdrantClient(url)\n",
    "    vector_store = QdrantVectorStore(qdrant_client, collection_name, vector_name)\n",
    "    return vector_store"
   ]
  },
  {
   "cell_type": "markdown",
   "metadata": {},
   "source": [
    "### Reading Flipkart Data"
   ]
  },
  {
   "cell_type": "code",
   "execution_count": 6,
   "metadata": {},
   "outputs": [],
   "source": [
    "def generate_flipkart_dataframe(path:str):\n",
    "        \n",
    "    flip_df_raw = pd.read_csv('./data/flipkart_com-ecommerce_sample.csv')\n",
    "    # Drop rows with missing values\n",
    "    flip_df = flip_df_raw.dropna()\n",
    "    # Reset index\n",
    "    flip_df = flip_df.reset_index(drop=True)\n",
    "\n",
    "    # Drop columns that are not needed\n",
    "    flip_df['product_category_tree'] = flip_df['product_category_tree'].apply(lambda x: list(map(lambda y: y.lower().replace('[\"','').replace('\"]','').strip() , x.split('>>'))))\n",
    "\n",
    "    column_names = list(flip_df.columns)\n",
    "    \n",
    "    first_order_categories = flip_df['product_category_tree'].apply(lambda x: x[0]).tolist()\n",
    "\n",
    "    # print(\"Total categories: \", len((first_order_categories)))\n",
    "    # print(\"Unique categories: \", len(set(first_order_categories)))\n",
    "    # Category wise distribution in one line\n",
    "    cat_distr = pd.Series(first_order_categories).value_counts()\n",
    "    # Drop those categories which have less than 10 products\n",
    "    first_order_categories_distr = cat_distr[cat_distr>10]\n",
    "    # print(first_order_categories_distr)\n",
    "    first_order_categories_trimmed = list(first_order_categories_distr.keys())\n",
    "    # Remove the rows from the dataframe which are not in the first order categories\n",
    "    flip_df = flip_df[flip_df['product_category_tree'].apply(lambda x: x[0] in first_order_categories_trimmed)]\n",
    "\n",
    "    # Reset index\n",
    "    flip_df = flip_df.reset_index(drop=True)\n",
    "\n",
    "    return flip_df"
   ]
  },
  {
   "cell_type": "code",
   "execution_count": 7,
   "metadata": {},
   "outputs": [],
   "source": [
    "flip_df = generate_flipkart_dataframe('./data/flipkart_com-ecommerce_sample.csv')"
   ]
  },
  {
   "cell_type": "code",
   "execution_count": 8,
   "metadata": {},
   "outputs": [],
   "source": [
    "# save_result(flip_df, './data/flipkart_com-ecommerce_sample_cleaned.csv', \"csv\")"
   ]
  },
  {
   "cell_type": "markdown",
   "metadata": {},
   "source": [
    "### Dividing the each first order categories into their respective requirement chart  (LLM)"
   ]
  },
  {
   "cell_type": "code",
   "execution_count": 9,
   "metadata": {},
   "outputs": [],
   "source": [
    "class RequirementBaseModel(BaseModel):\n",
    "    requiremets : List[str] = Field(title=\"Requirements\", description=\"List of requirements\", example=[\"price\", \"rating\", \"brand\", \"discount\",\"age\"])"
   ]
  },
  {
   "cell_type": "code",
   "execution_count": 10,
   "metadata": {},
   "outputs": [],
   "source": [
    "def get_category_wise_data(df, stored_result_path:str, use_stored_result:bool = True):\n",
    "\n",
    "    if use_stored_result is not None and stored_result_path is not None:\n",
    "        stored_result = get_stored_result(stored_result_path, \"json\")\n",
    "        if stored_result is not None:\n",
    "            print(\"Using stored result ...\")\n",
    "            return stored_result\n",
    "\n",
    "    unique_categories = list(df['product_category_tree'].apply(lambda x: x[0]).unique())\n",
    "\n",
    "    \n",
    "    requirement_engine = LangchainJSONEngine(\n",
    "            sampleBaseModel=RequirementBaseModel,\n",
    "            systemPromptText=\n",
    "            \"\"\"You are an AI assistant. \n",
    "            Your task is to determine all possible requirements for a product category. \n",
    "            For example the requirements for clothing could be [ age group ( for kids, adults etc. ) , size ( small, medium, large etc. ), color (white, fancy etc) ... ]\n",
    "            Generate a list of DETAILED requirements for a product category. Atleast 10 requirements should be generated for each category.\n",
    "            Don't use any indexing or numbering in the requirements.\n",
    "            \"\"\"\n",
    "        )\n",
    "    \n",
    "    category_wise_requirements = {}\n",
    "\n",
    "    for category in unique_categories:\n",
    "        print(f\"Running for category: {category} ...\")\n",
    "        requirements = requirement_engine.run(category)\n",
    "        category_wise_requirements[category] = requirements.dict()['requiremets']\n",
    "\n",
    "    if stored_result_path is not None:\n",
    "        save_result(category_wise_requirements, stored_result_path, \"json\")\n",
    "\n",
    "    return category_wise_requirements"
   ]
  },
  {
   "cell_type": "code",
   "execution_count": 11,
   "metadata": {},
   "outputs": [
    {
     "name": "stdout",
     "output_type": "stream",
     "text": [
      "Using stored result ...\n"
     ]
    }
   ],
   "source": [
    "category_wise_requirements = get_category_wise_data(flip_df, stored_result_path=\"./stored-result/category_wise_requirements.json\")"
   ]
  },
  {
   "cell_type": "code",
   "execution_count": 12,
   "metadata": {},
   "outputs": [
    {
     "data": {
      "text/plain": [
       "{0: 'Material (leather, fabric, synthetic)',\n",
       " 1: 'Type (tote, crossbody, clutch, wallet, belt)',\n",
       " 2: 'Color (black, brown, tan, colorful)',\n",
       " 3: 'Size (small, medium, large)',\n",
       " 4: 'Closure (zipper, magnetic, buckle)',\n",
       " 5: 'Brand (designer, luxury, casual)',\n",
       " 6: 'Compartments (single, multiple)',\n",
       " 7: 'Strap type (adjustable, non-adjustable)',\n",
       " 8: 'Pattern (solid, printed, textured)',\n",
       " 9: 'Features (RFID protection, detachable strap, card slots)'}"
      ]
     },
     "execution_count": 12,
     "metadata": {},
     "output_type": "execute_result"
    }
   ],
   "source": [
    "category_wise_requirements['bags, wallets & belts']"
   ]
  },
  {
   "cell_type": "code",
   "execution_count": 13,
   "metadata": {},
   "outputs": [
    {
     "data": {
      "text/plain": [
       "dict_keys(['clothing', 'furniture', 'footwear', 'pet supplies', 'pens & stationery', 'bags, wallets & belts', 'home decor & festive needs', 'automotive', 'tools & hardware', 'sports & fitness', 'home furnishing', 'baby care', 'mobiles & accessories', 'toys & school supplies', 'jewellery', 'kitchen & dining', 'beauty and personal care', 'home & kitchen', 'computers', 'watches', 'cameras & accessories', 'health & personal care appliances', 'gaming', 'home improvement', 'sunglasses', 'home entertainment'])"
      ]
     },
     "execution_count": 13,
     "metadata": {},
     "output_type": "execute_result"
    }
   ],
   "source": [
    "category_wise_requirements.keys()"
   ]
  },
  {
   "cell_type": "markdown",
   "metadata": {},
   "source": [
    "## Group Proucts based on their categories"
   ]
  },
  {
   "cell_type": "code",
   "execution_count": 14,
   "metadata": {},
   "outputs": [],
   "source": [
    "def group_by_category(flip_df, category_wise_requirements, stored_result_path:str, use_stored_result:bool = True):\n",
    "    \"\"\"\n",
    "    - Clothing \n",
    "        - Age group : [ PID1, PID2, PID3 ... ]\n",
    "        - Size: [ PID11, PID12, PID13 ... ]\n",
    "        - Color: \n",
    "        - Material : \n",
    "        ...\n",
    "    - Footwear\n",
    "    - Watches\n",
    "    \"\"\"\n",
    "\n",
    "    if use_stored_result is not None and stored_result_path is not None:\n",
    "        stored_result = get_stored_result(stored_result_path, \"json\")\n",
    "        if stored_result is not None:\n",
    "            print(\"Using stored result ...\")\n",
    "            return stored_result\n",
    "\n",
    "    category_wise_data = {}\n",
    "\n",
    "    for category in category_wise_requirements.keys():\n",
    "        print(f\"Running for category: {category} ...\")\n",
    "        category_data = {}\n",
    "        for requirement in category_wise_requirements[category]:\n",
    "            print(f\"Running for requirement: {requirement} ...\")\n",
    "            requirement_engine = LangchainSimpleEngine(\n",
    "                tools=[OpenAIEmbeddings()],\n",
    "                systemPromptText=\n",
    "                f\"\"\"\n",
    "                You are an AI assistant. \n",
    "                Your task is to group the products in the category {category} based on the requirement {requirement}.\n",
    "                \"\"\"\n",
    "            )\n",
    "\n",
    "            result = requirement_engine.run(requirement)\n",
    "            category_data[requirement] = result.dict()['output']\n",
    "\n",
    "        category_wise_data[category] = category_data\n",
    "\n",
    "    if stored_result_path is not None:\n",
    "        save_result(category_wise_data, stored_result_path, \"json\")\n",
    "\n",
    "    return category_wise_data"
   ]
  },
  {
   "cell_type": "markdown",
   "metadata": {},
   "source": []
  },
  {
   "cell_type": "markdown",
   "metadata": {},
   "source": [
    "## Generating Descriptions"
   ]
  },
  {
   "cell_type": "code",
   "execution_count": 15,
   "metadata": {},
   "outputs": [],
   "source": [
    "def generate_compact_description(df):\n",
    "    # df['first_order_category'] = df['product_category_tree'].apply(lambda x: x[0])\n",
    "    df['first_order_category'] = df['product_category_tree'].apply(lambda x: re.sub(r'[^a-zA-Z]+', '_', x[0]))\n",
    "    df['compact_description'] = \"Product Name: \" + df['product_name'] \n",
    "    df['compact_description'] += \"\\nBrand: \" + df['brand']\n",
    "    df['compact_description'] += \"\\nCategory: \" + df['product_category_tree'].apply(lambda x: '->'.join(x)) \n",
    "    df['compact_description'] += \"\\nDescription: \" + df['description']\n",
    "    df['compact_description'] += \"\\nSpecification: \" + df['product_specifications'].apply(lambda x: x.replace('\"key\"=>','').replace('\"value\"=>','').replace('=>',':').replace('\"product_specification\":',''))\n",
    "    return df"
   ]
  },
  {
   "cell_type": "code",
   "execution_count": 16,
   "metadata": {},
   "outputs": [],
   "source": [
    "flip_df = generate_compact_description(flip_df)"
   ]
  },
  {
   "cell_type": "code",
   "execution_count": 17,
   "metadata": {},
   "outputs": [
    {
     "name": "stdout",
     "output_type": "stream",
     "text": [
      "0            clothing\n",
      "1           furniture\n",
      "2            footwear\n",
      "3            clothing\n",
      "4        pet_supplies\n",
      "             ...     \n",
      "13714       baby_care\n",
      "13715       baby_care\n",
      "13716       baby_care\n",
      "13717       baby_care\n",
      "13718       baby_care\n",
      "Name: first_order_category, Length: 13719, dtype: object\n"
     ]
    }
   ],
   "source": [
    "print(flip_df['first_order_category'])"
   ]
  },
  {
   "cell_type": "markdown",
   "metadata": {},
   "source": [
    "### Converting CSV data into JSON"
   ]
  },
  {
   "cell_type": "code",
   "execution_count": 18,
   "metadata": {},
   "outputs": [],
   "source": [
    "def conver_df_to_dict(df):\n",
    "    data = {}\n",
    "    for index, row in df.iterrows():\n",
    "        row['image'] = json.loads(row['image'])\n",
    "        data[row['uniq_id']] = row.to_dict()\n",
    "    return data"
   ]
  },
  {
   "cell_type": "code",
   "execution_count": 19,
   "metadata": {},
   "outputs": [],
   "source": [
    "dict_data = conver_df_to_dict(flip_df)"
   ]
  },
  {
   "cell_type": "code",
   "execution_count": 20,
   "metadata": {},
   "outputs": [],
   "source": [
    "# save_result(dict_data, './data/flipkart_com-ecommerce_sample_cleaned_dict2.json', \"json\")"
   ]
  },
  {
   "cell_type": "markdown",
   "metadata": {},
   "source": [
    "### Catgory wise description generation"
   ]
  },
  {
   "cell_type": "code",
   "execution_count": 21,
   "metadata": {},
   "outputs": [],
   "source": [
    "def generate_category_wise_product_metadata(flip_df):\n",
    "    # umique first order categories\n",
    "    unique_categories = list(flip_df['first_order_category'].unique())\n",
    "    category_wise_metadata = {}\n",
    "    stored_category_wise_documents = {}\n",
    "    for category in unique_categories:\n",
    "        # those rows which belong to the category\n",
    "        category_df = flip_df[flip_df['first_order_category'] == category]\n",
    "        # create a document for each product with metadata {\"retail_price\": , \"discounted_price\", \"uniq_id\" } and page_content is the compact_description\n",
    "        documents = []\n",
    "        compact_descriptions = []\n",
    "        uuids = []\n",
    "\n",
    "        for index, row in category_df.iterrows():\n",
    "            metadata = {\"retail_price\": row['retail_price'], \"discounted_price\": row['discounted_price'], \"uniq_id\": row['uniq_id']}\n",
    "            documents.append(Document(page_content=row['compact_description'], metadata=metadata))\n",
    "            uuids.append(row['uniq_id'])\n",
    "            compact_descriptions.append([row['compact_description'],metadata])\n",
    "        \n",
    "        category_wise_metadata[category] = {\"documents\": documents, \"uuids\": uuids}\n",
    "        stored_category_wise_documents[category] = compact_descriptions\n",
    "\n",
    "    save_result(stored_category_wise_documents, \"./stored-result/category_wise_documents.json\", \"json\")\n",
    "\n",
    "    return category_wise_metadata"
   ]
  },
  {
   "cell_type": "code",
   "execution_count": null,
   "metadata": {},
   "outputs": [],
   "source": []
  },
  {
   "cell_type": "code",
   "execution_count": 22,
   "metadata": {},
   "outputs": [],
   "source": [
    "category_wise_metadata = generate_category_wise_product_metadata(flip_df)"
   ]
  },
  {
   "cell_type": "code",
   "execution_count": 19,
   "metadata": {},
   "outputs": [],
   "source": [
    "def qdrant_db_handler(category_wise_metadata,BATCH_SIZE=64, clip_data_count=None, reset_collections=False):\n",
    "    dense_embeddings = OpenAIEmbeddings(model=\"text-embedding-3-large\")\n",
    "    # sparse_embeddings = FastEmbedSparse(model_name=\"Qdrant/bm25\")\n",
    "    \n",
    "    client = QdrantClient(url=os.getenv(\"QDRANT_URL\"),api_key=os.getenv(\"QDRANT_API_KEY\"))\n",
    "\n",
    "    if reset_collections:\n",
    "        for category in category_wise_metadata.keys():\n",
    "            print(f\"Deleting collection for category: {category} ...\")\n",
    "            flag = client.delete_collection(collection_name=category)\n",
    "            print(f\"Collection deleted: {flag}\")\n",
    "            print(f\"Creating collection for category: {category} ...\")\n",
    "            try:\n",
    "                client.create_collection(\n",
    "                    collection_name=category,\n",
    "                    vectors_config=VectorParams(size=3072, distance=Distance.COSINE),\n",
    "                )\n",
    "            except Exception as e:\n",
    "                print(e)\n",
    "                print(\"Collection already exists ...\")\n",
    "    \n",
    "    for category in category_wise_metadata.keys():\n",
    "        print(f\"Adding documents for category: {category} ...\")\n",
    "        docs = category_wise_metadata[category][\"documents\"][0:clip_data_count]\n",
    "        uuids = category_wise_metadata[category][\"uuids\"][0:clip_data_count]\n",
    "\n",
    "        # upsert batch by batch\n",
    "\n",
    "        qvector_store = QdrantVectorStore(\n",
    "                client=client,\n",
    "                collection_name=category,\n",
    "                embedding=dense_embeddings,\n",
    "            )\n",
    "\n",
    "    \n",
    "        for i in tqdm(range(0, len(docs), BATCH_SIZE)):\n",
    "            try:\n",
    "                qvector_store.add_documents(documents=docs[i:i+BATCH_SIZE], ids=uuids[i:i+BATCH_SIZE])\n",
    "            except Exception as e:\n",
    "                print(e)\n",
    "                print(\"Retrying after 3 seconds ...\")\n",
    "                # Add a delay of 3 seconds\n",
    "                time.sleep(3)\n",
    "                i-=BATCH_SIZE\n",
    "    \n",
    "    return client"
   ]
  },
  {
   "cell_type": "code",
   "execution_count": 20,
   "metadata": {},
   "outputs": [
    {
     "data": {
      "text/plain": [
       "dict_keys(['clothing', 'furniture', 'footwear', 'pet_supplies', 'pens_stationery', 'bags_wallets_belts', 'home_decor_festive_needs', 'automotive', 'tools_hardware', 'sports_fitness', 'home_furnishing', 'baby_care', 'mobiles_accessories', 'toys_school_supplies', 'jewellery', 'kitchen_dining', 'beauty_and_personal_care', 'home_kitchen', 'computers', 'watches', 'cameras_accessories', 'health_personal_care_appliances', 'gaming', 'home_improvement', 'sunglasses', 'home_entertainment'])"
      ]
     },
     "execution_count": 20,
     "metadata": {},
     "output_type": "execute_result"
    }
   ],
   "source": [
    "category_wise_metadata.keys()"
   ]
  },
  {
   "cell_type": "code",
   "execution_count": 21,
   "metadata": {},
   "outputs": [
    {
     "name": "stdout",
     "output_type": "stream",
     "text": [
      "Adding documents for category: clothing ...\n"
     ]
    },
    {
     "name": "stderr",
     "output_type": "stream",
     "text": [
      " 53%|█████▎    | 104/196 [03:56<03:33,  2.32s/it]"
     ]
    },
    {
     "name": "stdout",
     "output_type": "stream",
     "text": [
      "The write operation timed out\n",
      "Retrying after 3 seconds ...\n"
     ]
    },
    {
     "name": "stderr",
     "output_type": "stream",
     "text": [
      " 72%|███████▏  | 141/196 [05:32<02:08,  2.33s/it]"
     ]
    },
    {
     "name": "stdout",
     "output_type": "stream",
     "text": [
      "The write operation timed out\n",
      "Retrying after 3 seconds ...\n"
     ]
    },
    {
     "name": "stderr",
     "output_type": "stream",
     "text": [
      " 76%|███████▌  | 149/196 [06:03<02:25,  3.10s/it]"
     ]
    },
    {
     "name": "stdout",
     "output_type": "stream",
     "text": [
      "The write operation timed out\n",
      "Retrying after 3 seconds ...\n"
     ]
    },
    {
     "name": "stderr",
     "output_type": "stream",
     "text": [
      " 77%|███████▋  | 150/196 [06:13<03:54,  5.09s/it]"
     ]
    },
    {
     "name": "stdout",
     "output_type": "stream",
     "text": [
      "The write operation timed out\n",
      "Retrying after 3 seconds ...\n"
     ]
    },
    {
     "name": "stderr",
     "output_type": "stream",
     "text": [
      "100%|██████████| 196/196 [08:17<00:00,  2.54s/it]\n"
     ]
    },
    {
     "name": "stdout",
     "output_type": "stream",
     "text": [
      "Adding documents for category: furniture ...\n"
     ]
    },
    {
     "name": "stderr",
     "output_type": "stream",
     "text": [
      "100%|██████████| 12/12 [00:30<00:00,  2.58s/it]\n"
     ]
    },
    {
     "name": "stdout",
     "output_type": "stream",
     "text": [
      "Adding documents for category: footwear ...\n"
     ]
    },
    {
     "name": "stderr",
     "output_type": "stream",
     "text": [
      " 46%|████▌     | 11/24 [00:37<00:53,  4.11s/it]"
     ]
    },
    {
     "name": "stdout",
     "output_type": "stream",
     "text": [
      "The write operation timed out\n",
      "Retrying after 3 seconds ...\n"
     ]
    },
    {
     "name": "stderr",
     "output_type": "stream",
     "text": [
      " 50%|█████     | 12/24 [00:47<01:09,  5.81s/it]"
     ]
    },
    {
     "name": "stdout",
     "output_type": "stream",
     "text": [
      "The write operation timed out\n",
      "Retrying after 3 seconds ...\n"
     ]
    },
    {
     "name": "stderr",
     "output_type": "stream",
     "text": [
      " 71%|███████   | 17/24 [01:19<00:40,  5.84s/it]"
     ]
    },
    {
     "name": "stdout",
     "output_type": "stream",
     "text": [
      "The write operation timed out\n",
      "Retrying after 3 seconds ...\n"
     ]
    },
    {
     "name": "stderr",
     "output_type": "stream",
     "text": [
      " 75%|███████▌  | 18/24 [01:29<00:42,  7.02s/it]"
     ]
    },
    {
     "name": "stdout",
     "output_type": "stream",
     "text": [
      "The write operation timed out\n",
      "Retrying after 3 seconds ...\n"
     ]
    },
    {
     "name": "stderr",
     "output_type": "stream",
     "text": [
      " 88%|████████▊ | 21/24 [01:52<00:21,  7.17s/it]"
     ]
    },
    {
     "name": "stdout",
     "output_type": "stream",
     "text": [
      "The write operation timed out\n",
      "Retrying after 3 seconds ...\n"
     ]
    },
    {
     "name": "stderr",
     "output_type": "stream",
     "text": [
      " 92%|█████████▏| 22/24 [02:02<00:15,  7.94s/it]"
     ]
    },
    {
     "name": "stdout",
     "output_type": "stream",
     "text": [
      "The write operation timed out\n",
      "Retrying after 3 seconds ...\n"
     ]
    },
    {
     "name": "stderr",
     "output_type": "stream",
     "text": [
      "100%|██████████| 24/24 [02:15<00:00,  5.66s/it]\n"
     ]
    },
    {
     "name": "stdout",
     "output_type": "stream",
     "text": [
      "Adding documents for category: pet_supplies ...\n"
     ]
    },
    {
     "name": "stderr",
     "output_type": "stream",
     "text": [
      "100%|██████████| 2/2 [00:04<00:00,  2.09s/it]\n"
     ]
    },
    {
     "name": "stdout",
     "output_type": "stream",
     "text": [
      "Adding documents for category: pens_stationery ...\n"
     ]
    },
    {
     "name": "stderr",
     "output_type": "stream",
     "text": [
      "100%|██████████| 11/11 [00:22<00:00,  2.09s/it]\n"
     ]
    },
    {
     "name": "stdout",
     "output_type": "stream",
     "text": [
      "Adding documents for category: bags_wallets_belts ...\n"
     ]
    },
    {
     "name": "stderr",
     "output_type": "stream",
     "text": [
      "100%|██████████| 10/10 [00:24<00:00,  2.46s/it]\n"
     ]
    },
    {
     "name": "stdout",
     "output_type": "stream",
     "text": [
      "Adding documents for category: home_decor_festive_needs ...\n"
     ]
    },
    {
     "name": "stderr",
     "output_type": "stream",
     "text": [
      " 43%|████▎     | 23/54 [00:49<01:05,  2.10s/it]"
     ]
    },
    {
     "name": "stdout",
     "output_type": "stream",
     "text": [
      "The write operation timed out\n",
      "Retrying after 3 seconds ...\n"
     ]
    },
    {
     "name": "stderr",
     "output_type": "stream",
     "text": [
      " 50%|█████     | 27/54 [01:14<02:09,  4.81s/it]"
     ]
    },
    {
     "name": "stdout",
     "output_type": "stream",
     "text": [
      "The write operation timed out\n",
      "Retrying after 3 seconds ...\n"
     ]
    },
    {
     "name": "stderr",
     "output_type": "stream",
     "text": [
      "100%|██████████| 54/54 [02:23<00:00,  2.66s/it]\n"
     ]
    },
    {
     "name": "stdout",
     "output_type": "stream",
     "text": [
      "Adding documents for category: automotive ...\n"
     ]
    },
    {
     "name": "stderr",
     "output_type": "stream",
     "text": [
      " 11%|█         | 7/64 [00:17<02:15,  2.38s/it]"
     ]
    },
    {
     "name": "stdout",
     "output_type": "stream",
     "text": [
      "The write operation timed out\n",
      "Retrying after 3 seconds ...\n"
     ]
    },
    {
     "name": "stderr",
     "output_type": "stream",
     "text": [
      " 12%|█▎        | 8/64 [00:27<04:22,  4.68s/it]"
     ]
    },
    {
     "name": "stdout",
     "output_type": "stream",
     "text": [
      "The write operation timed out\n",
      "Retrying after 3 seconds ...\n"
     ]
    },
    {
     "name": "stderr",
     "output_type": "stream",
     "text": [
      "100%|██████████| 64/64 [02:43<00:00,  2.56s/it]\n"
     ]
    },
    {
     "name": "stdout",
     "output_type": "stream",
     "text": [
      "Adding documents for category: tools_hardware ...\n"
     ]
    },
    {
     "name": "stderr",
     "output_type": "stream",
     "text": [
      " 28%|██▊       | 7/25 [00:15<00:40,  2.27s/it]"
     ]
    },
    {
     "name": "stdout",
     "output_type": "stream",
     "text": [
      "The write operation timed out\n",
      "Retrying after 3 seconds ...\n"
     ]
    },
    {
     "name": "stderr",
     "output_type": "stream",
     "text": [
      " 64%|██████▍   | 16/25 [00:44<00:21,  2.41s/it]"
     ]
    },
    {
     "name": "stdout",
     "output_type": "stream",
     "text": [
      "The write operation timed out\n",
      "Retrying after 3 seconds ...\n"
     ]
    },
    {
     "name": "stderr",
     "output_type": "stream",
     "text": [
      " 72%|███████▏  | 18/25 [01:02<00:40,  5.76s/it]"
     ]
    },
    {
     "name": "stdout",
     "output_type": "stream",
     "text": [
      "The write operation timed out\n",
      "Retrying after 3 seconds ...\n"
     ]
    },
    {
     "name": "stderr",
     "output_type": "stream",
     "text": [
      " 76%|███████▌  | 19/25 [01:12<00:41,  6.93s/it]"
     ]
    },
    {
     "name": "stdout",
     "output_type": "stream",
     "text": [
      "The write operation timed out\n",
      "Retrying after 3 seconds ...\n"
     ]
    },
    {
     "name": "stderr",
     "output_type": "stream",
     "text": [
      " 80%|████████  | 20/25 [01:22<00:39,  7.90s/it]"
     ]
    },
    {
     "name": "stdout",
     "output_type": "stream",
     "text": [
      "The write operation timed out\n",
      "Retrying after 3 seconds ...\n"
     ]
    },
    {
     "name": "stderr",
     "output_type": "stream",
     "text": [
      "100%|██████████| 25/25 [01:42<00:00,  4.11s/it]\n"
     ]
    },
    {
     "name": "stdout",
     "output_type": "stream",
     "text": [
      "Adding documents for category: sports_fitness ...\n"
     ]
    },
    {
     "name": "stderr",
     "output_type": "stream",
     "text": [
      "100%|██████████| 7/7 [00:15<00:00,  2.23s/it]\n"
     ]
    },
    {
     "name": "stdout",
     "output_type": "stream",
     "text": [
      "Adding documents for category: home_furnishing ...\n"
     ]
    },
    {
     "name": "stderr",
     "output_type": "stream",
     "text": [
      "100%|██████████| 44/44 [01:35<00:00,  2.17s/it]\n"
     ]
    },
    {
     "name": "stdout",
     "output_type": "stream",
     "text": [
      "Adding documents for category: baby_care ...\n"
     ]
    },
    {
     "name": "stderr",
     "output_type": "stream",
     "text": [
      "100%|██████████| 29/29 [01:04<00:00,  2.23s/it]\n"
     ]
    },
    {
     "name": "stdout",
     "output_type": "stream",
     "text": [
      "Adding documents for category: mobiles_accessories ...\n"
     ]
    },
    {
     "name": "stderr",
     "output_type": "stream",
     "text": [
      "100%|██████████| 69/69 [02:30<00:00,  2.19s/it]\n"
     ]
    },
    {
     "name": "stdout",
     "output_type": "stream",
     "text": [
      "Adding documents for category: toys_school_supplies ...\n"
     ]
    },
    {
     "name": "stderr",
     "output_type": "stream",
     "text": [
      "100%|██████████| 7/7 [00:14<00:00,  2.10s/it]\n"
     ]
    },
    {
     "name": "stdout",
     "output_type": "stream",
     "text": [
      "Adding documents for category: jewellery ...\n"
     ]
    },
    {
     "name": "stderr",
     "output_type": "stream",
     "text": [
      "  4%|▍         | 9/221 [00:30<17:01,  4.82s/it]"
     ]
    },
    {
     "name": "stdout",
     "output_type": "stream",
     "text": [
      "The write operation timed out\n",
      "Retrying after 3 seconds ...\n"
     ]
    },
    {
     "name": "stderr",
     "output_type": "stream",
     "text": [
      " 54%|█████▍    | 119/221 [04:54<06:50,  4.02s/it]"
     ]
    },
    {
     "name": "stdout",
     "output_type": "stream",
     "text": [
      "The write operation timed out\n",
      "Retrying after 3 seconds ...\n"
     ]
    },
    {
     "name": "stderr",
     "output_type": "stream",
     "text": [
      " 54%|█████▍    | 120/221 [05:03<09:40,  5.75s/it]"
     ]
    },
    {
     "name": "stdout",
     "output_type": "stream",
     "text": [
      "The write operation timed out\n",
      "Retrying after 3 seconds ...\n"
     ]
    },
    {
     "name": "stderr",
     "output_type": "stream",
     "text": [
      " 64%|██████▍   | 142/221 [06:21<02:51,  2.17s/it]"
     ]
    },
    {
     "name": "stdout",
     "output_type": "stream",
     "text": [
      "The write operation timed out\n",
      "Retrying after 3 seconds ...\n"
     ]
    },
    {
     "name": "stderr",
     "output_type": "stream",
     "text": [
      " 65%|██████▍   | 143/221 [06:35<07:33,  5.81s/it]"
     ]
    },
    {
     "name": "stdout",
     "output_type": "stream",
     "text": [
      "The write operation timed out\n",
      "Retrying after 3 seconds ...\n"
     ]
    },
    {
     "name": "stderr",
     "output_type": "stream",
     "text": [
      " 66%|██████▌   | 145/221 [06:52<08:58,  7.09s/it]"
     ]
    },
    {
     "name": "stdout",
     "output_type": "stream",
     "text": [
      "The write operation timed out\n",
      "Retrying after 3 seconds ...\n"
     ]
    },
    {
     "name": "stderr",
     "output_type": "stream",
     "text": [
      " 75%|███████▌  | 166/221 [07:49<02:30,  2.73s/it]"
     ]
    },
    {
     "name": "stdout",
     "output_type": "stream",
     "text": [
      "The write operation timed out\n",
      "Retrying after 3 seconds ...\n"
     ]
    },
    {
     "name": "stderr",
     "output_type": "stream",
     "text": [
      " 81%|████████  | 178/221 [08:37<02:36,  3.65s/it]"
     ]
    },
    {
     "name": "stdout",
     "output_type": "stream",
     "text": [
      "The write operation timed out\n",
      "Retrying after 3 seconds ...\n"
     ]
    },
    {
     "name": "stderr",
     "output_type": "stream",
     "text": [
      " 81%|████████  | 179/221 [08:46<03:49,  5.45s/it]"
     ]
    },
    {
     "name": "stdout",
     "output_type": "stream",
     "text": [
      "The write operation timed out\n",
      "Retrying after 3 seconds ...\n"
     ]
    },
    {
     "name": "stderr",
     "output_type": "stream",
     "text": [
      " 82%|████████▏ | 182/221 [09:03<03:07,  4.82s/it]"
     ]
    },
    {
     "name": "stdout",
     "output_type": "stream",
     "text": [
      "The write operation timed out\n",
      "Retrying after 3 seconds ...\n"
     ]
    },
    {
     "name": "stderr",
     "output_type": "stream",
     "text": [
      " 83%|████████▎ | 184/221 [09:25<04:40,  7.59s/it]"
     ]
    },
    {
     "name": "stdout",
     "output_type": "stream",
     "text": [
      "The write operation timed out\n",
      "Retrying after 3 seconds ...\n"
     ]
    },
    {
     "name": "stderr",
     "output_type": "stream",
     "text": [
      " 87%|████████▋ | 192/221 [10:21<03:38,  7.53s/it]"
     ]
    },
    {
     "name": "stdout",
     "output_type": "stream",
     "text": [
      "The write operation timed out\n",
      "Retrying after 3 seconds ...\n"
     ]
    },
    {
     "name": "stderr",
     "output_type": "stream",
     "text": [
      " 97%|█████████▋| 215/221 [11:21<00:13,  2.25s/it]"
     ]
    },
    {
     "name": "stdout",
     "output_type": "stream",
     "text": [
      "The write operation timed out\n",
      "Retrying after 3 seconds ...\n"
     ]
    },
    {
     "name": "stderr",
     "output_type": "stream",
     "text": [
      " 99%|█████████▊| 218/221 [11:37<00:11,  3.77s/it]"
     ]
    },
    {
     "name": "stdout",
     "output_type": "stream",
     "text": [
      "The write operation timed out\n",
      "Retrying after 3 seconds ...\n"
     ]
    },
    {
     "name": "stderr",
     "output_type": "stream",
     "text": [
      " 99%|█████████▉| 219/221 [11:47<00:11,  5.63s/it]"
     ]
    },
    {
     "name": "stdout",
     "output_type": "stream",
     "text": [
      "The write operation timed out\n",
      "Retrying after 3 seconds ...\n"
     ]
    },
    {
     "name": "stderr",
     "output_type": "stream",
     "text": [
      "100%|██████████| 221/221 [12:00<00:00,  3.26s/it]\n"
     ]
    },
    {
     "name": "stdout",
     "output_type": "stream",
     "text": [
      "Adding documents for category: kitchen_dining ...\n"
     ]
    },
    {
     "name": "stderr",
     "output_type": "stream",
     "text": [
      "  0%|          | 0/23 [00:00<?, ?it/s]"
     ]
    },
    {
     "name": "stdout",
     "output_type": "stream",
     "text": [
      "The write operation timed out\n",
      "Retrying after 3 seconds ...\n"
     ]
    },
    {
     "name": "stderr",
     "output_type": "stream",
     "text": [
      "  4%|▍         | 1/23 [00:09<03:33,  9.70s/it]"
     ]
    },
    {
     "name": "stdout",
     "output_type": "stream",
     "text": [
      "The write operation timed out\n",
      "Retrying after 3 seconds ...\n"
     ]
    },
    {
     "name": "stderr",
     "output_type": "stream",
     "text": [
      "  9%|▊         | 2/23 [00:20<03:33, 10.18s/it]"
     ]
    },
    {
     "name": "stdout",
     "output_type": "stream",
     "text": [
      "The write operation timed out\n",
      "Retrying after 3 seconds ...\n"
     ]
    },
    {
     "name": "stderr",
     "output_type": "stream",
     "text": [
      " 13%|█▎        | 3/23 [00:30<03:24, 10.25s/it]"
     ]
    },
    {
     "name": "stdout",
     "output_type": "stream",
     "text": [
      "The write operation timed out\n",
      "Retrying after 3 seconds ...\n"
     ]
    },
    {
     "name": "stderr",
     "output_type": "stream",
     "text": [
      " 17%|█▋        | 4/23 [00:40<03:14, 10.22s/it]"
     ]
    },
    {
     "name": "stdout",
     "output_type": "stream",
     "text": [
      "The write operation timed out\n",
      "Retrying after 3 seconds ...\n"
     ]
    },
    {
     "name": "stderr",
     "output_type": "stream",
     "text": [
      " 22%|██▏       | 5/23 [00:51<03:04, 10.24s/it]"
     ]
    },
    {
     "name": "stdout",
     "output_type": "stream",
     "text": [
      "The write operation timed out\n",
      "Retrying after 3 seconds ...\n"
     ]
    },
    {
     "name": "stderr",
     "output_type": "stream",
     "text": [
      " 30%|███       | 7/23 [01:05<02:11,  8.19s/it]"
     ]
    },
    {
     "name": "stdout",
     "output_type": "stream",
     "text": [
      "The write operation timed out\n",
      "Retrying after 3 seconds ...\n"
     ]
    },
    {
     "name": "stderr",
     "output_type": "stream",
     "text": [
      " 35%|███▍      | 8/23 [01:14<02:10,  8.71s/it]"
     ]
    },
    {
     "name": "stdout",
     "output_type": "stream",
     "text": [
      "The write operation timed out\n",
      "Retrying after 3 seconds ...\n"
     ]
    },
    {
     "name": "stderr",
     "output_type": "stream",
     "text": [
      " 61%|██████    | 14/23 [01:49<00:49,  5.49s/it]"
     ]
    },
    {
     "name": "stdout",
     "output_type": "stream",
     "text": [
      "The write operation timed out\n",
      "Retrying after 3 seconds ...\n"
     ]
    },
    {
     "name": "stderr",
     "output_type": "stream",
     "text": [
      " 65%|██████▌   | 15/23 [01:59<00:54,  6.76s/it]"
     ]
    },
    {
     "name": "stdout",
     "output_type": "stream",
     "text": [
      "The write operation timed out\n",
      "Retrying after 3 seconds ...\n"
     ]
    },
    {
     "name": "stderr",
     "output_type": "stream",
     "text": [
      " 74%|███████▍  | 17/23 [02:13<00:40,  6.68s/it]"
     ]
    },
    {
     "name": "stdout",
     "output_type": "stream",
     "text": [
      "The write operation timed out\n",
      "Retrying after 3 seconds ...\n"
     ]
    },
    {
     "name": "stderr",
     "output_type": "stream",
     "text": [
      " 78%|███████▊  | 18/23 [02:23<00:38,  7.61s/it]"
     ]
    },
    {
     "name": "stdout",
     "output_type": "stream",
     "text": [
      "The write operation timed out\n",
      "Retrying after 3 seconds ...\n"
     ]
    },
    {
     "name": "stderr",
     "output_type": "stream",
     "text": [
      "100%|██████████| 23/23 [02:54<00:00,  7.57s/it]\n"
     ]
    },
    {
     "name": "stdout",
     "output_type": "stream",
     "text": [
      "Adding documents for category: beauty_and_personal_care ...\n"
     ]
    },
    {
     "name": "stderr",
     "output_type": "stream",
     "text": [
      "  0%|          | 0/10 [00:00<?, ?it/s]"
     ]
    },
    {
     "name": "stdout",
     "output_type": "stream",
     "text": [
      "The write operation timed out\n",
      "Retrying after 3 seconds ...\n"
     ]
    },
    {
     "name": "stderr",
     "output_type": "stream",
     "text": [
      " 30%|███       | 3/10 [00:21<00:47,  6.83s/it]"
     ]
    },
    {
     "name": "stdout",
     "output_type": "stream",
     "text": [
      "The write operation timed out\n",
      "Retrying after 3 seconds ...\n"
     ]
    },
    {
     "name": "stderr",
     "output_type": "stream",
     "text": [
      " 40%|████      | 4/10 [00:31<00:47,  7.95s/it]"
     ]
    },
    {
     "name": "stdout",
     "output_type": "stream",
     "text": [
      "The write operation timed out\n",
      "Retrying after 3 seconds ...\n"
     ]
    },
    {
     "name": "stderr",
     "output_type": "stream",
     "text": [
      " 80%|████████  | 8/10 [01:01<00:14,  7.42s/it]"
     ]
    },
    {
     "name": "stdout",
     "output_type": "stream",
     "text": [
      "The write operation timed out\n",
      "Retrying after 3 seconds ...\n"
     ]
    },
    {
     "name": "stderr",
     "output_type": "stream",
     "text": [
      "100%|██████████| 10/10 [01:15<00:00,  7.52s/it]\n"
     ]
    },
    {
     "name": "stdout",
     "output_type": "stream",
     "text": [
      "Adding documents for category: home_kitchen ...\n"
     ]
    },
    {
     "name": "stderr",
     "output_type": "stream",
     "text": [
      "100%|██████████| 2/2 [00:04<00:00,  2.26s/it]\n"
     ]
    },
    {
     "name": "stdout",
     "output_type": "stream",
     "text": [
      "Adding documents for category: computers ...\n"
     ]
    },
    {
     "name": "stderr",
     "output_type": "stream",
     "text": [
      " 67%|██████▋   | 24/36 [00:57<00:33,  2.77s/it]"
     ]
    },
    {
     "name": "stdout",
     "output_type": "stream",
     "text": [
      "The write operation timed out\n",
      "Retrying after 3 seconds ...\n"
     ]
    },
    {
     "name": "stderr",
     "output_type": "stream",
     "text": [
      "100%|██████████| 36/36 [01:33<00:00,  2.61s/it]\n"
     ]
    },
    {
     "name": "stdout",
     "output_type": "stream",
     "text": [
      "Adding documents for category: watches ...\n"
     ]
    },
    {
     "name": "stderr",
     "output_type": "stream",
     "text": [
      "  0%|          | 0/3 [00:00<?, ?it/s]"
     ]
    },
    {
     "name": "stdout",
     "output_type": "stream",
     "text": [
      "The write operation timed out\n",
      "Retrying after 3 seconds ...\n"
     ]
    },
    {
     "name": "stderr",
     "output_type": "stream",
     "text": [
      " 33%|███▎      | 1/3 [00:09<00:19,  9.75s/it]"
     ]
    },
    {
     "name": "stdout",
     "output_type": "stream",
     "text": [
      "The write operation timed out\n",
      "Retrying after 3 seconds ...\n"
     ]
    },
    {
     "name": "stderr",
     "output_type": "stream",
     "text": [
      " 67%|██████▋   | 2/3 [00:20<00:10, 10.08s/it]"
     ]
    },
    {
     "name": "stdout",
     "output_type": "stream",
     "text": [
      "The write operation timed out\n",
      "Retrying after 3 seconds ...\n"
     ]
    },
    {
     "name": "stderr",
     "output_type": "stream",
     "text": [
      "100%|██████████| 3/3 [00:30<00:00, 10.17s/it]\n"
     ]
    },
    {
     "name": "stdout",
     "output_type": "stream",
     "text": [
      "Adding documents for category: cameras_accessories ...\n"
     ]
    },
    {
     "name": "stderr",
     "output_type": "stream",
     "text": [
      "  0%|          | 0/5 [00:00<?, ?it/s]"
     ]
    },
    {
     "name": "stdout",
     "output_type": "stream",
     "text": [
      "The write operation timed out\n",
      "Retrying after 3 seconds ...\n"
     ]
    },
    {
     "name": "stderr",
     "output_type": "stream",
     "text": [
      " 40%|████      | 2/5 [00:14<00:21,  7.07s/it]"
     ]
    },
    {
     "name": "stdout",
     "output_type": "stream",
     "text": [
      "The write operation timed out\n",
      "Retrying after 3 seconds ...\n"
     ]
    },
    {
     "name": "stderr",
     "output_type": "stream",
     "text": [
      "100%|██████████| 5/5 [00:30<00:00,  6.12s/it]\n"
     ]
    },
    {
     "name": "stdout",
     "output_type": "stream",
     "text": [
      "Adding documents for category: health_personal_care_appliances ...\n"
     ]
    },
    {
     "name": "stderr",
     "output_type": "stream",
     "text": [
      " 67%|██████▋   | 2/3 [00:07<00:03,  3.62s/it]"
     ]
    },
    {
     "name": "stdout",
     "output_type": "stream",
     "text": [
      "The write operation timed out\n",
      "Retrying after 3 seconds ...\n"
     ]
    },
    {
     "name": "stderr",
     "output_type": "stream",
     "text": [
      "100%|██████████| 3/3 [00:16<00:00,  5.58s/it]\n"
     ]
    },
    {
     "name": "stdout",
     "output_type": "stream",
     "text": [
      "Adding documents for category: gaming ...\n"
     ]
    },
    {
     "name": "stderr",
     "output_type": "stream",
     "text": [
      "  0%|          | 0/3 [00:00<?, ?it/s]"
     ]
    },
    {
     "name": "stdout",
     "output_type": "stream",
     "text": [
      "The write operation timed out\n",
      "Retrying after 3 seconds ...\n"
     ]
    },
    {
     "name": "stderr",
     "output_type": "stream",
     "text": [
      " 33%|███▎      | 1/3 [00:09<00:19,  9.73s/it]"
     ]
    },
    {
     "name": "stdout",
     "output_type": "stream",
     "text": [
      "The write operation timed out\n",
      "Retrying after 3 seconds ...\n"
     ]
    },
    {
     "name": "stderr",
     "output_type": "stream",
     "text": [
      "100%|██████████| 3/3 [00:22<00:00,  7.51s/it]\n"
     ]
    },
    {
     "name": "stdout",
     "output_type": "stream",
     "text": [
      "Adding documents for category: home_improvement ...\n"
     ]
    },
    {
     "name": "stderr",
     "output_type": "stream",
     "text": [
      "  0%|          | 0/5 [00:00<?, ?it/s]"
     ]
    },
    {
     "name": "stdout",
     "output_type": "stream",
     "text": [
      "The write operation timed out\n",
      "Retrying after 3 seconds ...\n"
     ]
    },
    {
     "name": "stderr",
     "output_type": "stream",
     "text": [
      " 40%|████      | 2/5 [00:18<00:26,  8.87s/it]"
     ]
    },
    {
     "name": "stdout",
     "output_type": "stream",
     "text": [
      "The write operation timed out\n",
      "Retrying after 3 seconds ...\n"
     ]
    },
    {
     "name": "stderr",
     "output_type": "stream",
     "text": [
      "100%|██████████| 5/5 [00:35<00:00,  7.11s/it]\n"
     ]
    },
    {
     "name": "stdout",
     "output_type": "stream",
     "text": [
      "Adding documents for category: sunglasses ...\n"
     ]
    },
    {
     "name": "stderr",
     "output_type": "stream",
     "text": [
      "100%|██████████| 3/3 [00:08<00:00,  2.93s/it]\n"
     ]
    },
    {
     "name": "stdout",
     "output_type": "stream",
     "text": [
      "Adding documents for category: home_entertainment ...\n"
     ]
    },
    {
     "name": "stderr",
     "output_type": "stream",
     "text": [
      "100%|██████████| 2/2 [00:04<00:00,  2.46s/it]\n"
     ]
    }
   ],
   "source": [
    "# qclient = qdrant_db_handler(category_wise_metadata, BATCH_SIZE=16, clip_data_count=None)"
   ]
  },
  {
   "cell_type": "code",
   "execution_count": 23,
   "metadata": {},
   "outputs": [],
   "source": [
    "def get_category_wise_vector_store():\n",
    "    client = QdrantClient(url=os.getenv(\"QDRANT_URL\"),api_key=os.getenv(\"QDRANT_API_KEY\"))\n",
    "    collections_dict = client.get_collections().dict()\n",
    "    all_collections = [collection['name'] for collection in collections_dict['collections']]\n",
    "    category_wise_vector_store = {}\n",
    "    for category in all_collections:\n",
    "        category_wise_vector_store[category] = QdrantVectorStore(\n",
    "            client=client,\n",
    "            collection_name=category,\n",
    "            embedding=OpenAIEmbeddings(model=\"text-embedding-3-large\"),\n",
    "        )\n",
    "    return category_wise_vector_store"
   ]
  },
  {
   "cell_type": "code",
   "execution_count": 24,
   "metadata": {},
   "outputs": [],
   "source": [
    "category_wise_vector_store = get_category_wise_vector_store()"
   ]
  },
  {
   "cell_type": "code",
   "execution_count": 36,
   "metadata": {},
   "outputs": [],
   "source": [
    "def sort_by_price_relevance(product_doc_list, price_lower_bound, price_upper_bound):\n",
    "    product_doc_list = product_doc_list.copy()\n",
    "    # Calculate the midpoint of the price range\n",
    "    price_midpoint = (price_lower_bound + price_upper_bound) / 2\n",
    "    def relevance(product_doc):\n",
    "        price = product_doc.metadata['discounted_price']\n",
    "        return abs(price - price_midpoint)\n",
    "    sorted_product_doc_list = sorted(product_doc_list, key=relevance)\n",
    "    # sorted_product_doc_list.reverse()\n",
    "\n",
    "    return sorted_product_doc_list"
   ]
  },
  {
   "cell_type": "code",
   "execution_count": 54,
   "metadata": {},
   "outputs": [],
   "source": [
    "docs = category_wise_vector_store[\"clothing\"].similarity_search(\"I want Puma and adidas shoes. I can also wear it in summer\",k=10)"
   ]
  },
  {
   "cell_type": "code",
   "execution_count": 55,
   "metadata": {},
   "outputs": [
    {
     "data": {
      "text/plain": [
       "[Document(metadata={'discounted_price': 1209.0, 'retail_price': 2199.0, 'uniq_id': '086e9bc94fc4f43801db2be4a3d0e5ee', '_id': '086e9bc9-4fc4-f438-01db-2be4a3d0e5ee', '_collection_name': 'clothing'}, page_content='Product Name: Puma Men\\'s Striped Casual Shirt\\nBrand: Slim Fit\\nCategory: clothing->men\\'s clothing->shirts->casual & party wear shirts->puma casual & party wear shirts\\nDescription: Puma Men\\'s Striped Casual Shirt - Buy Greenery White Puma Men\\'s Striped Casual Shirt For Only Rs. 2199 Online in India. Shop Online For Apparels. Huge Collection of Branded Clothes Only at Flipkart.com\\nSpecification: {[{\"Pattern\", \"Striped\"}, {\"Occasion\", \"Casual\"}, {\"Ideal For\", \"Men\\'s\"}, {\"Pleats\", \"Pleats Below Yoke at the Back\"}, {\"Sleeve\", \"Full Sleeve\"}, {\"Brand Fit\", \"Slim Fit\"}, {\"Fabric\", \"100% Cotton\"}, {\"Style\", \"Epaulettes, Set-in Pocket with Flap\"}, {\"Placket\", \"Cut and Sew Placket\"}, {\"Fit\", \"Slim\"}, {\"Hem\", \"Round Hem\"}, {\"Cuff\", \"Square Cuffs\"}, {\"Design\", \"Embroidery at Back\"}, {\"Model Details\", \"This model has a Height of 6 feet 1 inches and is wearing a Shirt of Size\"}, {\"Style Code\", \"74189902Greenery/White/White\"}, {\"Do Not Bleach, Tumble Dry at Low Temperature, Warm Iron, Wash and Iron Inside Out, Close All Fastenings, Use Detergent for Colors, Do Not Dry Clean, Gentle Machine Wash in Lukewarm Water, Wash with Similar Colors\"}]}'),\n",
       " Document(metadata={'discounted_price': 1899.0, 'retail_price': 3999.0, 'uniq_id': '68d6d3c2293f3155100dfef614177324', '_id': '68d6d3c2-293f-3155-100d-fef614177324', '_collection_name': 'clothing'}, page_content='Product Name: adidas Boy\\'s, Girl\\'s Track Suit\\nBrand: adidas\\nCategory: clothing->kids\\' clothing->boys wear->sports wear->track suits->adidas track suits->adidas boy\\'s, girl\\'s track suit\\nDescription: Key Features of adidas Boy\\'s, Girl\\'s Track Suit Brand Color: BLACK/WHITE/SOLRED,Specifications of adidas Boy\\'s, Girl\\'s Track Suit General Details Ideal For Boy\\'s, Girl\\'s Occasion Sports Additional Details Style Code S22075\\nSpecification: {[{\"Ideal For\", \"Boy\\'s, Girl\\'s\"}, {\"Occasion\", \"Sports\"}, {\"Style Code\", \"S22075\"}]}'),\n",
       " Document(metadata={'discounted_price': 1949.0, 'retail_price': 2999.0, 'uniq_id': 'e5a5956dc69034776fa093f891ff9a44', '_id': 'e5a5956d-c690-3477-6fa0-93f891ff9a44', '_collection_name': 'clothing'}, page_content='Product Name: Adidas Solid Men\\'s Track Top\\nBrand: Adidas\\nCategory: clothing->men\\'s clothing->sports wear->track tops->adidas track tops->adidas solid men\\'s track top\\nDescription: Specifications of Adidas Solid Men\\'s Track Top Track Top Details Sleeve Full Sleeve Closure Zipper Fabric Cotton, Polyester Pockets Kangaroo Pockets at Front Design Logo on Chest General Details Pattern Solid Ideal For Men\\'s Occasion Sports Fabric Care Machine Wash as per Tag, Do not Dry Clean, Do not Bleach, Iron Steam or Dry as per Tag Additional Details Other Details Hooded Style Code ESS PREMFZ HOOD BLUE\\nSpecification: {[{\"Sleeve\", \"Full Sleeve\"}, {\"Closure\", \"Zipper\"}, {\"Fabric\", \"Cotton, Polyester\"}, {\"Pockets\", \"Kangaroo Pockets at Front\"}, {\"Design\", \"Logo on Chest\"}, {\"Pattern\", \"Solid\"}, {\"Ideal For\", \"Men\\'s\"}, {\"Occasion\", \"Sports\"}, {\"Machine Wash as per Tag, Do not Dry Clean, Do not Bleach, Iron Steam or Dry as per Tag\"}, {\"Other Details\", \"Hooded\"}, {\"Style Code\", \"ESS PREMFZ HOOD BLUE\"}]}'),\n",
       " Document(metadata={'discounted_price': 407.0, 'retail_price': 600.0, 'uniq_id': 'a47def4c3b11092f398768198a506ed6', '_id': 'a47def4c-3b11-092f-3987-68198a506ed6', '_collection_name': 'clothing'}, page_content='Product Name: PALSUN WEARS Full Sleeve Striped Men\\'s Sweatshirt\\nBrand: PALSUN WEARS\\nCategory: clothing->men\\'s clothing->winter & seasonal wear->sweatshirts->palsun wears sweatshirts->palsun wears full sleeve striped men\\'s sweatshirt\\nDescription: Key Features of PALSUN WEARS Full Sleeve Striped Men\\'s Sweatshirt Suitable For: Western Wear,Specifications of PALSUN WEARS Full Sleeve Striped Men\\'s Sweatshirt Sweatshirt Details Sleeve Full Sleeve Hooded No Fabric Cotton General Details Pattern Striped Ideal For Men\\'s Additional Details Style Code PW0023\\nSpecification: {[{\"Sleeve\", \"Full Sleeve\"}, {\"Hooded\", \"No\"}, {\"Fabric\", \"Cotton\"}, {\"Pattern\", \"Striped\"}, {\"Ideal For\", \"Men\\'s\"}, {\"Style Code\", \"PW0023\"}]}'),\n",
       " Document(metadata={'discounted_price': 1501.0, 'retail_price': 1595.0, 'uniq_id': 'e226ed99b7b9acbb6a474d4603faa8c7', '_id': 'e226ed99-b7b9-acbb-6a47-4d4603faa8c7', '_collection_name': 'clothing'}, page_content='Product Name: Pecanz Men\\'s Printed Casual Shirt\\nBrand: Slim\\nCategory: clothing->men\\'s clothing->shirts->casual & party wear shirts->pecanz casual & party wear shirts\\nDescription: Pecanz Men\\'s Printed Casual Shirt\\n                         Price: Rs. 1,501\\n\\t\\t\\t\\t\\n\\t\\t\\tClub Wear Shirts Which Can Be Wear As Formal And Casual\\nClub Wear Shirts Which Can Be Wear As Formal And Casual\\nSpecification: {[{\"Pattern\", \"Printed\"}, {\"Ideal For\", \"Men\\'s\"}, {\"Occasion\", \"Casual\"}, {\"Sleeve\", \"Full Sleeve\"}, {\"Closure\", \"Button\"}, {\"Number of Contents in Sales Package\", \"Pack of 1\"}, {\"Brand Fit\", \"Slim\"}, {\"Fabric\", \"Cotton\"}, {\"Collar\", \"Chinese Collar\"}, {\"Fit\", \"Slim\"}, {\"Machine Wash/Hand Wash,Normal Temperature With Like Colours, No Clorine Bleech, Dry Inside Out In Shade\"}, {\"Shirt\"}, {\"Style Code\", \"S-7696-1\"}]}'),\n",
       " Document(metadata={'discounted_price': 1299.0, 'retail_price': 1299.0, 'uniq_id': '26d273652113c03364763b1a9aeec7fd', '_id': '26d27365-2113-c033-6476-3b1a9aeec7fd', '_collection_name': 'clothing'}, page_content='Product Name: Reebok Solid Men\\'s Three Fourths\\nBrand: Reebok\\nCategory: clothing->men\\'s clothing->sports wear->three fourths->reebok three fourths->reebok solid men\\'s three fourths\\nDescription: Specifications of Reebok Solid Men\\'s Three Fourths General Details Pattern Solid Ideal For Men\\'s Occasion Sports Three Fourth Details Fabric 100% Polyester Fabric Care Machine Wash Cold Additional Details Style Code 945400 In the Box 1 Three Fourths\\nSpecification: {[{\"Pattern\", \"Solid\"}, {\"Ideal For\", \"Men\\'s\"}, {\"Occasion\", \"Sports\"}, {\"Fabric\", \"100% Polyester\"}, {\"Machine Wash Cold\"}, {\"Style Code\", \"945400\"}, {\"1 Three Fourths\"}]}'),\n",
       " Document(metadata={'discounted_price': 460.0, 'retail_price': 700.0, 'uniq_id': '8ba4e284bf05a6c04cb6843f155f8381', '_id': '8ba4e284-bf05-a6c0-4cb6-843f155f8381', '_collection_name': 'clothing'}, page_content='Product Name: Vector X Men\\'s Track Pants\\nBrand: Vector X\\nCategory: clothing->men\\'s clothing->sports wear->track pants->vector x track pants->vector x men\\'s track pants\\nDescription: Specifications of Vector X Men\\'s Track Pants General Details Ideal For Men\\'s Occasion Sports Additional Details Style Code VL 600 E,Navy BlueNavy Blue\\nSpecification: {[{\"Ideal For\", \"Men\\'s\"}, {\"Occasion\", \"Sports\"}, {\"Style Code\", \"VL 600 E,Navy BlueNavy Blue\"}]}'),\n",
       " Document(metadata={'discounted_price': 999.0, 'retail_price': 2199.0, 'uniq_id': '5fdc778b488dc1b0b4b911d0410b5a31', '_id': '5fdc778b-488d-c1b0-b4b9-11d0410b5a31', '_collection_name': 'clothing'}, page_content='Product Name: Pavino Men\\'s Solid Casual Shirt\\nBrand: Pavino\\nCategory: clothing->men\\'s clothing->shirts->casual & party wear shirts->pavino casual & party wear shirts->pavino men\\'s solid casual shirt\\nDescription: Key Features of Pavino Men\\'s Solid Casual Shirt Fit: Slim Fabric: Cotton Suitable For: Western Wear Sleeve: Sleeveless,Pavino Men\\'s Solid Casual Shirt Price: Rs. 999 Stylish cargo shirt,Specifications of Pavino Men\\'s Solid Casual Shirt General Details Pattern Solid Ideal For Men\\'s Occasion Casual Shirt Details Sleeve Sleeveless Number of Contents in Sales Package Pack of 1 Brand Fit Slim Fabric Cotton Fit Slim Fabric Care Gentle wash in luke warm water Additional Details Style Code Blue-Cargo-L\\nSpecification: {[{\"Pattern\", \"Solid\"}, {\"Ideal For\", \"Men\\'s\"}, {\"Occasion\", \"Casual\"}, {\"Sleeve\", \"Sleeveless\"}, {\"Number of Contents in Sales Package\", \"Pack of 1\"}, {\"Brand Fit\", \"Slim\"}, {\"Fabric\", \"Cotton\"}, {\"Fit\", \"Slim\"}, {\"Gentle wash in luke warm water\"}, {\"Style Code\", \"Blue-Cargo-L\"}]}'),\n",
       " Document(metadata={'discounted_price': 999.0, 'retail_price': 2199.0, 'uniq_id': '3a4fad4600f2db2f77a00774b26c8d11', '_id': '3a4fad46-00f2-db2f-77a0-0774b26c8d11', '_collection_name': 'clothing'}, page_content='Product Name: Pavino Men\\'s Solid Casual Shirt\\nBrand: Pavino\\nCategory: clothing->men\\'s clothing->shirts->casual & party wear shirts->pavino casual & party wear shirts->pavino men\\'s solid casual shirt\\nDescription: Key Features of Pavino Men\\'s Solid Casual Shirt Fit: Slim Fabric: Cotton Suitable For: Western Wear Sleeve: Sleeveless,Pavino Men\\'s Solid Casual Shirt Price: Rs. 999 Stylish cargo shirt,Specifications of Pavino Men\\'s Solid Casual Shirt General Details Pattern Solid Ideal For Men\\'s Occasion Casual Shirt Details Sleeve Sleeveless Number of Contents in Sales Package Pack of 1 Brand Fit Slim Fabric Cotton Fit Slim Fabric Care Gentle wash in luke warm water Additional Details Style Code Blue-Cargo-M\\nSpecification: {[{\"Pattern\", \"Solid\"}, {\"Ideal For\", \"Men\\'s\"}, {\"Occasion\", \"Casual\"}, {\"Sleeve\", \"Sleeveless\"}, {\"Number of Contents in Sales Package\", \"Pack of 1\"}, {\"Brand Fit\", \"Slim\"}, {\"Fabric\", \"Cotton\"}, {\"Fit\", \"Slim\"}, {\"Gentle wash in luke warm water\"}, {\"Style Code\", \"Blue-Cargo-M\"}]}'),\n",
       " Document(metadata={'discounted_price': 999.0, 'retail_price': 2199.0, 'uniq_id': 'e1e3fa6ddd33e045577010ec41f4d4b2', '_id': 'e1e3fa6d-dd33-e045-5770-10ec41f4d4b2', '_collection_name': 'clothing'}, page_content='Product Name: Pavino Men\\'s Solid Casual Shirt\\nBrand: Pavino\\nCategory: clothing->men\\'s clothing->shirts->casual & party wear shirts->pavino casual & party wear shirts->pavino men\\'s solid casual shirt\\nDescription: Key Features of Pavino Men\\'s Solid Casual Shirt Fit: Slim Fabric: Cotton Suitable For: Western Wear Sleeve: Sleeveless,Pavino Men\\'s Solid Casual Shirt Price: Rs. 999 Stylish cargo shirt,Specifications of Pavino Men\\'s Solid Casual Shirt General Details Pattern Solid Ideal For Men\\'s Occasion Casual Shirt Details Sleeve Sleeveless Number of Contents in Sales Package Pack of 1 Brand Fit Slim Fabric Cotton Fit Slim Fabric Care Gentle wash in luke warm water Additional Details Style Code Blue-Cargo-S\\nSpecification: {[{\"Pattern\", \"Solid\"}, {\"Ideal For\", \"Men\\'s\"}, {\"Occasion\", \"Casual\"}, {\"Sleeve\", \"Sleeveless\"}, {\"Number of Contents in Sales Package\", \"Pack of 1\"}, {\"Brand Fit\", \"Slim\"}, {\"Fabric\", \"Cotton\"}, {\"Fit\", \"Slim\"}, {\"Gentle wash in luke warm water\"}, {\"Style Code\", \"Blue-Cargo-S\"}]}')]"
      ]
     },
     "execution_count": 55,
     "metadata": {},
     "output_type": "execute_result"
    }
   ],
   "source": [
    "docs"
   ]
  },
  {
   "cell_type": "code",
   "execution_count": 56,
   "metadata": {},
   "outputs": [
    {
     "data": {
      "text/plain": [
       "[Document(metadata={'discounted_price': 1949.0, 'retail_price': 2999.0, 'uniq_id': 'e5a5956dc69034776fa093f891ff9a44', '_id': 'e5a5956d-c690-3477-6fa0-93f891ff9a44', '_collection_name': 'clothing'}, page_content='Product Name: Adidas Solid Men\\'s Track Top\\nBrand: Adidas\\nCategory: clothing->men\\'s clothing->sports wear->track tops->adidas track tops->adidas solid men\\'s track top\\nDescription: Specifications of Adidas Solid Men\\'s Track Top Track Top Details Sleeve Full Sleeve Closure Zipper Fabric Cotton, Polyester Pockets Kangaroo Pockets at Front Design Logo on Chest General Details Pattern Solid Ideal For Men\\'s Occasion Sports Fabric Care Machine Wash as per Tag, Do not Dry Clean, Do not Bleach, Iron Steam or Dry as per Tag Additional Details Other Details Hooded Style Code ESS PREMFZ HOOD BLUE\\nSpecification: {[{\"Sleeve\", \"Full Sleeve\"}, {\"Closure\", \"Zipper\"}, {\"Fabric\", \"Cotton, Polyester\"}, {\"Pockets\", \"Kangaroo Pockets at Front\"}, {\"Design\", \"Logo on Chest\"}, {\"Pattern\", \"Solid\"}, {\"Ideal For\", \"Men\\'s\"}, {\"Occasion\", \"Sports\"}, {\"Machine Wash as per Tag, Do not Dry Clean, Do not Bleach, Iron Steam or Dry as per Tag\"}, {\"Other Details\", \"Hooded\"}, {\"Style Code\", \"ESS PREMFZ HOOD BLUE\"}]}'),\n",
       " Document(metadata={'discounted_price': 1899.0, 'retail_price': 3999.0, 'uniq_id': '68d6d3c2293f3155100dfef614177324', '_id': '68d6d3c2-293f-3155-100d-fef614177324', '_collection_name': 'clothing'}, page_content='Product Name: adidas Boy\\'s, Girl\\'s Track Suit\\nBrand: adidas\\nCategory: clothing->kids\\' clothing->boys wear->sports wear->track suits->adidas track suits->adidas boy\\'s, girl\\'s track suit\\nDescription: Key Features of adidas Boy\\'s, Girl\\'s Track Suit Brand Color: BLACK/WHITE/SOLRED,Specifications of adidas Boy\\'s, Girl\\'s Track Suit General Details Ideal For Boy\\'s, Girl\\'s Occasion Sports Additional Details Style Code S22075\\nSpecification: {[{\"Ideal For\", \"Boy\\'s, Girl\\'s\"}, {\"Occasion\", \"Sports\"}, {\"Style Code\", \"S22075\"}]}'),\n",
       " Document(metadata={'discounted_price': 1501.0, 'retail_price': 1595.0, 'uniq_id': 'e226ed99b7b9acbb6a474d4603faa8c7', '_id': 'e226ed99-b7b9-acbb-6a47-4d4603faa8c7', '_collection_name': 'clothing'}, page_content='Product Name: Pecanz Men\\'s Printed Casual Shirt\\nBrand: Slim\\nCategory: clothing->men\\'s clothing->shirts->casual & party wear shirts->pecanz casual & party wear shirts\\nDescription: Pecanz Men\\'s Printed Casual Shirt\\n                         Price: Rs. 1,501\\n\\t\\t\\t\\t\\n\\t\\t\\tClub Wear Shirts Which Can Be Wear As Formal And Casual\\nClub Wear Shirts Which Can Be Wear As Formal And Casual\\nSpecification: {[{\"Pattern\", \"Printed\"}, {\"Ideal For\", \"Men\\'s\"}, {\"Occasion\", \"Casual\"}, {\"Sleeve\", \"Full Sleeve\"}, {\"Closure\", \"Button\"}, {\"Number of Contents in Sales Package\", \"Pack of 1\"}, {\"Brand Fit\", \"Slim\"}, {\"Fabric\", \"Cotton\"}, {\"Collar\", \"Chinese Collar\"}, {\"Fit\", \"Slim\"}, {\"Machine Wash/Hand Wash,Normal Temperature With Like Colours, No Clorine Bleech, Dry Inside Out In Shade\"}, {\"Shirt\"}, {\"Style Code\", \"S-7696-1\"}]}'),\n",
       " Document(metadata={'discounted_price': 1299.0, 'retail_price': 1299.0, 'uniq_id': '26d273652113c03364763b1a9aeec7fd', '_id': '26d27365-2113-c033-6476-3b1a9aeec7fd', '_collection_name': 'clothing'}, page_content='Product Name: Reebok Solid Men\\'s Three Fourths\\nBrand: Reebok\\nCategory: clothing->men\\'s clothing->sports wear->three fourths->reebok three fourths->reebok solid men\\'s three fourths\\nDescription: Specifications of Reebok Solid Men\\'s Three Fourths General Details Pattern Solid Ideal For Men\\'s Occasion Sports Three Fourth Details Fabric 100% Polyester Fabric Care Machine Wash Cold Additional Details Style Code 945400 In the Box 1 Three Fourths\\nSpecification: {[{\"Pattern\", \"Solid\"}, {\"Ideal For\", \"Men\\'s\"}, {\"Occasion\", \"Sports\"}, {\"Fabric\", \"100% Polyester\"}, {\"Machine Wash Cold\"}, {\"Style Code\", \"945400\"}, {\"1 Three Fourths\"}]}'),\n",
       " Document(metadata={'discounted_price': 1209.0, 'retail_price': 2199.0, 'uniq_id': '086e9bc94fc4f43801db2be4a3d0e5ee', '_id': '086e9bc9-4fc4-f438-01db-2be4a3d0e5ee', '_collection_name': 'clothing'}, page_content='Product Name: Puma Men\\'s Striped Casual Shirt\\nBrand: Slim Fit\\nCategory: clothing->men\\'s clothing->shirts->casual & party wear shirts->puma casual & party wear shirts\\nDescription: Puma Men\\'s Striped Casual Shirt - Buy Greenery White Puma Men\\'s Striped Casual Shirt For Only Rs. 2199 Online in India. Shop Online For Apparels. Huge Collection of Branded Clothes Only at Flipkart.com\\nSpecification: {[{\"Pattern\", \"Striped\"}, {\"Occasion\", \"Casual\"}, {\"Ideal For\", \"Men\\'s\"}, {\"Pleats\", \"Pleats Below Yoke at the Back\"}, {\"Sleeve\", \"Full Sleeve\"}, {\"Brand Fit\", \"Slim Fit\"}, {\"Fabric\", \"100% Cotton\"}, {\"Style\", \"Epaulettes, Set-in Pocket with Flap\"}, {\"Placket\", \"Cut and Sew Placket\"}, {\"Fit\", \"Slim\"}, {\"Hem\", \"Round Hem\"}, {\"Cuff\", \"Square Cuffs\"}, {\"Design\", \"Embroidery at Back\"}, {\"Model Details\", \"This model has a Height of 6 feet 1 inches and is wearing a Shirt of Size\"}, {\"Style Code\", \"74189902Greenery/White/White\"}, {\"Do Not Bleach, Tumble Dry at Low Temperature, Warm Iron, Wash and Iron Inside Out, Close All Fastenings, Use Detergent for Colors, Do Not Dry Clean, Gentle Machine Wash in Lukewarm Water, Wash with Similar Colors\"}]}'),\n",
       " Document(metadata={'discounted_price': 999.0, 'retail_price': 2199.0, 'uniq_id': '5fdc778b488dc1b0b4b911d0410b5a31', '_id': '5fdc778b-488d-c1b0-b4b9-11d0410b5a31', '_collection_name': 'clothing'}, page_content='Product Name: Pavino Men\\'s Solid Casual Shirt\\nBrand: Pavino\\nCategory: clothing->men\\'s clothing->shirts->casual & party wear shirts->pavino casual & party wear shirts->pavino men\\'s solid casual shirt\\nDescription: Key Features of Pavino Men\\'s Solid Casual Shirt Fit: Slim Fabric: Cotton Suitable For: Western Wear Sleeve: Sleeveless,Pavino Men\\'s Solid Casual Shirt Price: Rs. 999 Stylish cargo shirt,Specifications of Pavino Men\\'s Solid Casual Shirt General Details Pattern Solid Ideal For Men\\'s Occasion Casual Shirt Details Sleeve Sleeveless Number of Contents in Sales Package Pack of 1 Brand Fit Slim Fabric Cotton Fit Slim Fabric Care Gentle wash in luke warm water Additional Details Style Code Blue-Cargo-L\\nSpecification: {[{\"Pattern\", \"Solid\"}, {\"Ideal For\", \"Men\\'s\"}, {\"Occasion\", \"Casual\"}, {\"Sleeve\", \"Sleeveless\"}, {\"Number of Contents in Sales Package\", \"Pack of 1\"}, {\"Brand Fit\", \"Slim\"}, {\"Fabric\", \"Cotton\"}, {\"Fit\", \"Slim\"}, {\"Gentle wash in luke warm water\"}, {\"Style Code\", \"Blue-Cargo-L\"}]}'),\n",
       " Document(metadata={'discounted_price': 999.0, 'retail_price': 2199.0, 'uniq_id': '3a4fad4600f2db2f77a00774b26c8d11', '_id': '3a4fad46-00f2-db2f-77a0-0774b26c8d11', '_collection_name': 'clothing'}, page_content='Product Name: Pavino Men\\'s Solid Casual Shirt\\nBrand: Pavino\\nCategory: clothing->men\\'s clothing->shirts->casual & party wear shirts->pavino casual & party wear shirts->pavino men\\'s solid casual shirt\\nDescription: Key Features of Pavino Men\\'s Solid Casual Shirt Fit: Slim Fabric: Cotton Suitable For: Western Wear Sleeve: Sleeveless,Pavino Men\\'s Solid Casual Shirt Price: Rs. 999 Stylish cargo shirt,Specifications of Pavino Men\\'s Solid Casual Shirt General Details Pattern Solid Ideal For Men\\'s Occasion Casual Shirt Details Sleeve Sleeveless Number of Contents in Sales Package Pack of 1 Brand Fit Slim Fabric Cotton Fit Slim Fabric Care Gentle wash in luke warm water Additional Details Style Code Blue-Cargo-M\\nSpecification: {[{\"Pattern\", \"Solid\"}, {\"Ideal For\", \"Men\\'s\"}, {\"Occasion\", \"Casual\"}, {\"Sleeve\", \"Sleeveless\"}, {\"Number of Contents in Sales Package\", \"Pack of 1\"}, {\"Brand Fit\", \"Slim\"}, {\"Fabric\", \"Cotton\"}, {\"Fit\", \"Slim\"}, {\"Gentle wash in luke warm water\"}, {\"Style Code\", \"Blue-Cargo-M\"}]}'),\n",
       " Document(metadata={'discounted_price': 999.0, 'retail_price': 2199.0, 'uniq_id': 'e1e3fa6ddd33e045577010ec41f4d4b2', '_id': 'e1e3fa6d-dd33-e045-5770-10ec41f4d4b2', '_collection_name': 'clothing'}, page_content='Product Name: Pavino Men\\'s Solid Casual Shirt\\nBrand: Pavino\\nCategory: clothing->men\\'s clothing->shirts->casual & party wear shirts->pavino casual & party wear shirts->pavino men\\'s solid casual shirt\\nDescription: Key Features of Pavino Men\\'s Solid Casual Shirt Fit: Slim Fabric: Cotton Suitable For: Western Wear Sleeve: Sleeveless,Pavino Men\\'s Solid Casual Shirt Price: Rs. 999 Stylish cargo shirt,Specifications of Pavino Men\\'s Solid Casual Shirt General Details Pattern Solid Ideal For Men\\'s Occasion Casual Shirt Details Sleeve Sleeveless Number of Contents in Sales Package Pack of 1 Brand Fit Slim Fabric Cotton Fit Slim Fabric Care Gentle wash in luke warm water Additional Details Style Code Blue-Cargo-S\\nSpecification: {[{\"Pattern\", \"Solid\"}, {\"Ideal For\", \"Men\\'s\"}, {\"Occasion\", \"Casual\"}, {\"Sleeve\", \"Sleeveless\"}, {\"Number of Contents in Sales Package\", \"Pack of 1\"}, {\"Brand Fit\", \"Slim\"}, {\"Fabric\", \"Cotton\"}, {\"Fit\", \"Slim\"}, {\"Gentle wash in luke warm water\"}, {\"Style Code\", \"Blue-Cargo-S\"}]}'),\n",
       " Document(metadata={'discounted_price': 460.0, 'retail_price': 700.0, 'uniq_id': '8ba4e284bf05a6c04cb6843f155f8381', '_id': '8ba4e284-bf05-a6c0-4cb6-843f155f8381', '_collection_name': 'clothing'}, page_content='Product Name: Vector X Men\\'s Track Pants\\nBrand: Vector X\\nCategory: clothing->men\\'s clothing->sports wear->track pants->vector x track pants->vector x men\\'s track pants\\nDescription: Specifications of Vector X Men\\'s Track Pants General Details Ideal For Men\\'s Occasion Sports Additional Details Style Code VL 600 E,Navy BlueNavy Blue\\nSpecification: {[{\"Ideal For\", \"Men\\'s\"}, {\"Occasion\", \"Sports\"}, {\"Style Code\", \"VL 600 E,Navy BlueNavy Blue\"}]}'),\n",
       " Document(metadata={'discounted_price': 407.0, 'retail_price': 600.0, 'uniq_id': 'a47def4c3b11092f398768198a506ed6', '_id': 'a47def4c-3b11-092f-3987-68198a506ed6', '_collection_name': 'clothing'}, page_content='Product Name: PALSUN WEARS Full Sleeve Striped Men\\'s Sweatshirt\\nBrand: PALSUN WEARS\\nCategory: clothing->men\\'s clothing->winter & seasonal wear->sweatshirts->palsun wears sweatshirts->palsun wears full sleeve striped men\\'s sweatshirt\\nDescription: Key Features of PALSUN WEARS Full Sleeve Striped Men\\'s Sweatshirt Suitable For: Western Wear,Specifications of PALSUN WEARS Full Sleeve Striped Men\\'s Sweatshirt Sweatshirt Details Sleeve Full Sleeve Hooded No Fabric Cotton General Details Pattern Striped Ideal For Men\\'s Additional Details Style Code PW0023\\nSpecification: {[{\"Sleeve\", \"Full Sleeve\"}, {\"Hooded\", \"No\"}, {\"Fabric\", \"Cotton\"}, {\"Pattern\", \"Striped\"}, {\"Ideal For\", \"Men\\'s\"}, {\"Style Code\", \"PW0023\"}]}')]"
      ]
     },
     "execution_count": 56,
     "metadata": {},
     "output_type": "execute_result"
    }
   ],
   "source": [
    "sort_by_price_relevance(docs, 10000, 12132)"
   ]
  },
  {
   "cell_type": "code",
   "execution_count": null,
   "metadata": {},
   "outputs": [],
   "source": []
  }
 ],
 "metadata": {
  "kernelspec": {
   "display_name": ".venv",
   "language": "python",
   "name": "python3"
  },
  "language_info": {
   "codemirror_mode": {
    "name": "ipython",
    "version": 3
   },
   "file_extension": ".py",
   "mimetype": "text/x-python",
   "name": "python",
   "nbconvert_exporter": "python",
   "pygments_lexer": "ipython3",
   "version": "3.10.4"
  }
 },
 "nbformat": 4,
 "nbformat_minor": 2
}
