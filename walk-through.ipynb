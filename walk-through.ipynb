{
 "cells": [
  {
   "cell_type": "code",
   "execution_count": 1,
   "metadata": {},
   "outputs": [
    {
     "name": "stderr",
     "output_type": "stream",
     "text": [
      "/Users/debasmitroy/Desktop/rakuten-codes/final/ai-backend-0/.venv/lib/python3.10/site-packages/tqdm/auto.py:21: TqdmWarning: IProgress not found. Please update jupyter and ipywidgets. See https://ipywidgets.readthedocs.io/en/stable/user_install.html\n",
      "  from .autonotebook import tqdm as notebook_tqdm\n"
     ]
    }
   ],
   "source": [
    "from typing import Annotated\n",
    "from typing_extensions import TypedDict\n",
    "from typing import TypedDict, Literal, List, Union\n",
    "\n",
    "import langgraph\n",
    "from langgraph.graph import StateGraph\n",
    "from langgraph.graph.message import add_messages\n",
    "from langgraph.prebuilt import ToolNode, tools_condition\n",
    "\n",
    "from langchain_core.tools import tool\n",
    "from langchain_openai import ChatOpenAI, OpenAIEmbeddings\n",
    "from langchain_core.messages import HumanMessage, SystemMessage,ToolMessage\n",
    "from langchain_core.pydantic_v1 import BaseModel, Field\n",
    "from langchain_core.prompts import ChatPromptTemplate\n",
    "from langgraph.checkpoint.sqlite import SqliteSaver\n",
    "\n",
    "import json\n",
    "from IPython.display import Image, display\n",
    "\n",
    "import os\n",
    "from langchain_qdrant import QdrantVectorStore\n",
    "from qdrant_client import QdrantClient\n",
    "from qdrant_client.http.models import Distance, VectorParams\n",
    "from tqdm import tqdm\n",
    "from dotenv import load_dotenv"
   ]
  },
  {
   "cell_type": "code",
   "execution_count": 2,
   "metadata": {},
   "outputs": [
    {
     "data": {
      "text/plain": [
       "True"
      ]
     },
     "execution_count": 2,
     "metadata": {},
     "output_type": "execute_result"
    }
   ],
   "source": [
    "load_dotenv(\"./.env\")"
   ]
  },
  {
   "cell_type": "markdown",
   "metadata": {},
   "source": [
    "## Initializing Vector Store"
   ]
  },
  {
   "cell_type": "code",
   "execution_count": 3,
   "metadata": {},
   "outputs": [],
   "source": [
    "def get_category_wise_vector_store():\n",
    "    client = QdrantClient(url=os.getenv(\"QDRANT_URL\"),api_key=os.getenv(\"QDRANT_API_KEY\"))\n",
    "    collections_dict = client.get_collections().dict()\n",
    "    all_collections = [collection['name'] for collection in collections_dict['collections']]\n",
    "    category_wise_vector_store = {}\n",
    "    for category in tqdm(all_collections):\n",
    "        category_wise_vector_store[category] = QdrantVectorStore(\n",
    "            client=client,\n",
    "            collection_name=category,\n",
    "            embedding=OpenAIEmbeddings(model=\"text-embedding-3-large\"),\n",
    "        )\n",
    "    return category_wise_vector_store"
   ]
  },
  {
   "cell_type": "code",
   "execution_count": 4,
   "metadata": {},
   "outputs": [
    {
     "name": "stderr",
     "output_type": "stream",
     "text": [
      "100%|██████████| 27/27 [00:34<00:00,  1.27s/it]\n"
     ]
    }
   ],
   "source": [
    "CATEGORY_WISE_VECTOR_STORE = get_category_wise_vector_store()"
   ]
  },
  {
   "cell_type": "markdown",
   "metadata": {},
   "source": [
    "## Engines"
   ]
  },
  {
   "cell_type": "code",
   "execution_count": 5,
   "metadata": {},
   "outputs": [],
   "source": [
    "class LangchainJSONEngine:\n",
    "    def __init__(self, sampleBaseModel: BaseModel, systemPromptText: str=None, humanPromptText: str=None):\n",
    "        self.llm = llm = ChatOpenAI(model=\"gpt-3.5-turbo\", temperature=0)\n",
    "        self.structured_llm = llm.with_structured_output(sampleBaseModel)\n",
    "        \n",
    "        if systemPromptText is None:\n",
    "            self.systemPromptText = \"\"\"\n",
    "            You are an AI assistant. You are helping a user with a task. The user is asking you questions and you are answering them.\n",
    "            \"\"\"\n",
    "        else:\n",
    "            self.systemPromptText = systemPromptText\n",
    "\n",
    "        if humanPromptText is None:\n",
    "            self.HumanPromptText = \"\"\"\n",
    "            Human: {query}\n",
    "            \"\"\"\n",
    "        else:\n",
    "            self.humanPromptText = humanPromptText\n",
    "\n",
    "        self.prompt = ChatPromptTemplate.from_messages(\n",
    "            [(\"system\", self.systemPromptText), (\"human\", \"Query:\\n\\n {query}\")])\n",
    "        \n",
    "        self.micro_agent = self.prompt | self.structured_llm\n",
    "\n",
    "    def run(self, query: str):\n",
    "        result = self.micro_agent.invoke({\n",
    "            \"query\": query\n",
    "        }) \n",
    "        return result\n",
    "    \n",
    "\n",
    "class LangchainSimpleEngine:\n",
    "    def __init__(self, tools:List[tool]=[], systemPromptText: str=None, humanPromptText: str=None):\n",
    "        self.llm = llm = ChatOpenAI(model=\"gpt-3.5-turbo\", temperature=0)\n",
    "        self.tools = tools\n",
    "        \n",
    "        if len(tools) == 0:\n",
    "            self.llm_with_tools = llm\n",
    "        else:\n",
    "            self.llm_with_tools = llm.bind_tools(tools)\n",
    "            \n",
    "        if systemPromptText is None:\n",
    "            self.systemPromptText = \"\"\"\n",
    "            You are an AI assistant. You are helping a user with a task. The user is asking you questions and you are answering them.\n",
    "            \"\"\"\n",
    "        else:\n",
    "            self.systemPromptText = systemPromptText\n",
    "\n",
    "        if humanPromptText is not None: \n",
    "            print(\"Skipping human prompt text ...\")\n",
    "\n",
    "    def run(self, query: str):\n",
    "        messages = [\n",
    "            SystemMessage(self.systemPromptText),\n",
    "            HumanMessage(content=query)\n",
    "        ]\n",
    "        level1_result = self.llm_with_tools.invoke(messages)\n",
    "        if len(level1_result.tool_calls) == 0:\n",
    "            print(\"No tools to run ...\")\n",
    "            return level1_result\n",
    "        else:\n",
    "            print(\"Running tools ...\")\n",
    "            for tool_call in level1_result.tool_calls:\n",
    "                tool_output = tool_call.invoke()\n",
    "                messages.append(ToolMessage(tool_output, tool_call_id=tool_call[\"id\"]))\n",
    "            level2_result = self.llm_with_tools.invoke(messages)\n",
    "            return level2_result"
   ]
  },
  {
   "cell_type": "markdown",
   "metadata": {},
   "source": [
    "## Pydantics"
   ]
  },
  {
   "cell_type": "code",
   "execution_count": 6,
   "metadata": {},
   "outputs": [],
   "source": [
    "class SituationalRequirement1(BaseModel):\n",
    "    clothing: bool = Field(description=\"Whether clothing products are relevant to the user's situation.\")\n",
    "    bags_wallets_belts: bool = Field(description=\"Whether bags, wallets, and belts are relevant to the user's situation.\")\n",
    "    jewellery: bool = Field(description=\"Whether jewellery products are relevant to the user's situation.\")\n",
    "    beauty_and_personal_care: bool = Field(description=\"Whether beauty and personal care products are relevant to the user's situation.\")\n",
    "    watches: bool = Field(description=\"Whether watches are relevant to the user's situation.\")\n",
    "    sunglasses: bool = Field(description=\"Whether sunglasses are relevant to the user's situation.\")\n",
    "    sports_fitness: bool = Field(description=\"Whether sports and fitness products are relevant to the user's situation.\")\n",
    "    health_personal_care_appliances: bool = Field(description=\"Whether health and personal care appliances are relevant to the user's situation.\")\n",
    "    home_decor_festive_needs: bool = Field(description=\"Whether home decor and festive needs are relevant to the user's situation.\")\n",
    "    home_furnishing: bool = Field(description=\"Whether home furnishing products are relevant to the user's situation.\")\n",
    "    kithen_dining: bool = Field(description=\"Whether kitchen and dining products are relevant to the user's situation.\")\n",
    "    homes_kitchen: bool = Field(description=\"Whether home and kitchen products are relevant to the user's situation.\")"
   ]
  },
  {
   "cell_type": "code",
   "execution_count": 7,
   "metadata": {},
   "outputs": [],
   "source": [
    "class SituationalRequirement2(BaseModel):\n",
    "    furniture: bool = Field(description=\"Whether furniture products are relevant to the user's situation.\")\n",
    "    pet_supplies: bool = Field(description=\"Whether pet supplies are relevant to the user's situation.\")\n",
    "    pens_stationery: bool = Field(description=\"Whether pens and stationery products are relevant to the user's situation.\")\n",
    "    automotive: bool = Field(description=\"Whether automotive products are relevant to the user's situation.\")\n",
    "    tools_hardware: bool = Field(description=\"Whether tools and hardware products are relevant to the user's situation.\")\n",
    "    baby_care: bool = Field(description=\"Whether baby care products are relevant to the user's situation.\")\n",
    "    mobile_accessories: bool = Field(description=\"Whether mobile accessories are relevant to the user's situation.\")\n",
    "    computers: bool = Field(description=\"Whether computer products are relevant to the user's situation.\")\n",
    "    cameras_accessories: bool = Field(description=\"Whether cameras and accessories are relevant to the user's situation.\")\n",
    "    gaming: bool = Field(description=\"Whether gaming products are relevant to the user's situation.\")\n",
    "    home_improvement: bool = Field(description=\"Whether home improvement products are relevant to the user's situation.\")\n",
    "    home_entertainment: bool = Field(description=\"Whether home entertainment products are relevant to the user's situation.\")\n",
    "    budget_value : float = Field(description=\"The budget value, the user has for the products. If the user has not specified any budget, then the value is 10000.00\")"
   ]
  },
  {
   "cell_type": "code",
   "execution_count": 8,
   "metadata": {},
   "outputs": [],
   "source": [
    "# class Budget(BaseModel):\n",
    "#     budget_value : float = Field(description=\"The budget value in INR.\")"
   ]
  },
  {
   "cell_type": "code",
   "execution_count": 9,
   "metadata": {},
   "outputs": [],
   "source": [
    "class UserRequirement(BaseModel):\n",
    "    requirement_list: List[str] = Field(description=\"List of requirements that the user has. Each requirement should be detailed and unique.\")\n",
    "    price_lower_bound: float = Field(description=\"The lower bound of the price range that the user is looking for in INR. Default: 0\")\n",
    "    price_upper_bound: float = Field(description=\"The upper bound of the price range that the user is looking for in INR. Default: 100000\")"
   ]
  },
  {
   "cell_type": "code",
   "execution_count": 10,
   "metadata": {},
   "outputs": [],
   "source": [
    "class RequirementFullfilled(BaseModel):\n",
    "    is_fullfilled: bool = Field(description=\"Whether the user's requirements are fullfilled.\")"
   ]
  },
  {
   "cell_type": "code",
   "execution_count": 11,
   "metadata": {},
   "outputs": [],
   "source": [
    "class RequirementStatus(BaseModel):\n",
    "    satisfaction_status: bool = Field(description=\"Whether the user is very satisfied with all the requirements.\")"
   ]
  },
  {
   "cell_type": "code",
   "execution_count": 12,
   "metadata": {},
   "outputs": [],
   "source": [
    "class AskingsForNewProduct(BaseModel):\n",
    "    asking_for_new_product: bool = Field(description=\"Whether the user is asking for a new/another type of product.\")"
   ]
  },
  {
   "cell_type": "code",
   "execution_count": 108,
   "metadata": {},
   "outputs": [],
   "source": [
    "class MoveToPlace(BaseModel):\n",
    "    move_to_place: bool = Field(description=\"Whether the user wants to move to a new place.\")\n",
    "\n",
    "class NewPlaceNameAndRequirement(BaseModel):\n",
    "    new_place_name: str = Field(description=\"The name of the new place where the user wants to move to.\")\n",
    "    meidcal_store_keys: str = Field(description=\"Default: Any essential medical store where the user can get medical supplies.\")\n",
    "    grocery_store_keys: str = Field(description=\"Default: Any grocery store where the user can get groceries.\")\n",
    "    resturants_keys: str = Field(description=\"Any special cuisine resturants where the user can get food. Default: Any resturants.\")"
   ]
  },
  {
   "cell_type": "markdown",
   "metadata": {},
   "source": [
    "## State"
   ]
  },
  {
   "cell_type": "code",
   "execution_count": 115,
   "metadata": {},
   "outputs": [],
   "source": [
    "class AgentState(TypedDict):\n",
    "    cur_state: str\n",
    "    messages: Annotated[list, add_messages]\n",
    "    requirements: dict = {}\n",
    "    first_level_chosen: List[str] = []\n",
    "    first_level_not_chosen: List[str] = []\n",
    "    mode: str = \"idle\"\n",
    "    recently_added: List[str] = []\n",
    "    CATEGORY_WISE_VECTOR_STORE: dict\n",
    "    budget: float = 10000.00\n",
    "    new_place_req:dict = {}"
   ]
  },
  {
   "cell_type": "markdown",
   "metadata": {},
   "source": [
    "## Agent Utils"
   ]
  },
  {
   "cell_type": "code",
   "execution_count": 367,
   "metadata": {},
   "outputs": [],
   "source": [
    "def welcome(state:AgentState)->AgentState:\n",
    "    msg = SystemMessage(\"Welcome to the AI assistant. I am here to help you with your shopping needs. Tell me about your situation and I will suggest products accordingly. You may also suggest a budget of your cart ...\")\n",
    "    print(msg.content)\n",
    "    state['messages'].append(msg)\n",
    "    # print(f\"Current messages: {state['messages']}\")\n",
    "    return state\n",
    "\n",
    "\n",
    "def secondary_welcome(state:AgentState)->AgentState:\n",
    "    msg = SystemMessage(f\"Hi looks like you are looking for some {state['cur_state']} products. I can help you with that. Tell me about your requirements and I will suggest products accordingly. You may also suggest a price range.\")\n",
    "    print(msg.content)\n",
    "    print(\"state['requirements'][state['cur_state']]: \",state['requirements'][state['cur_state']])\n",
    "    state['requirements'][state['cur_state']]['thread_conversation'].append(msg)\n",
    "    return state"
   ]
  },
  {
   "cell_type": "code",
   "execution_count": 368,
   "metadata": {},
   "outputs": [],
   "source": [
    "def exit_from_requirements(state:AgentState)->AgentState:\n",
    "    print(\"<< Exiting from requirements >>\")\n",
    "    msg = SystemMessage(f\"Final requirements:{state['first_level_chosen']}\")\n",
    "    print(msg.content)\n",
    "    state['messages'].append(msg)\n",
    "\n",
    "    print(f\"Requirements: {state['requirements']}\")\n",
    "    for req in state['first_level_chosen']:\n",
    "        state['requirements'][req] = {\n",
    "            \"secondary_status\": \"new requirement\",\n",
    "            \"list_of_requirements\": [[]],\n",
    "            \"list_of_products\": [],\n",
    "            \"thread_conversation\":[],\n",
    "            \"price_lower_bounds\": [0.],\n",
    "            \"price_upper_bounds\": [100000.]\n",
    "        }\n",
    "        print(f\"Added {req} to the requirements list.\")\n",
    "\n",
    "    return state\n",
    "\n",
    "def exit_from_requirements_secondary(state:AgentState)->AgentState:\n",
    "    print(\"<< Exiting from secondary requirements >>\")\n",
    "    print(f\"Exiting category {state['cur_state']} ...\")\n",
    "    msg = SystemMessage(f\"Final requirements:{state['first_level_chosen']}\")\n",
    "    print(msg.content)\n",
    "    # state['messages'].append(msg)\n",
    "    state['requirements'][state['cur_state']]['secondary_status'] = \"completed\"\n",
    "    return state\n",
    "\n",
    "def final_exit(state:AgentState)->AgentState: \n",
    "    print(\"<< Exiting from the conversation >>\")\n",
    "    # Clearing all threads\n",
    "    state['cur_state'] = \"exit\"\n",
    "    for key in state['requirements']:\n",
    "        state['requirements'][key]['thread_conversation'] = []\n",
    "    msg = SystemMessage(f\"So finally we have the following requirements:\\n {json.dumps(state['requirements'], indent=4)}\")\n",
    "    print(msg.content)\n",
    "    state['messages'].append(msg)\n",
    "    return state"
   ]
  },
  {
   "cell_type": "code",
   "execution_count": 369,
   "metadata": {},
   "outputs": [],
   "source": [
    "def generate_situational_requirements(user_situation: str,update_mode=False):\n",
    "    \"\"\" \n",
    "    This tool generates situational requirements based on the user's situation. \n",
    "    \"\"\"\n",
    "\n",
    "    systemPromptText = \"\"\"You are an AI assistant. \n",
    "    You are helping a user who is looking for products on an e-commerce platform. \n",
    "    He/she will tell you about his/her situation and you will suggest products accordingly those perfectly fit his/her situational requirements.\n",
    "    You are given a list of possible categories, you have to determine whether products from these categories are relevant to the user's situation or not.\n",
    "    ONLY Choose those categories which are very much relevant to the user's situation.\n",
    "    \"\"\"\n",
    "\n",
    "    if not update_mode:\n",
    "        query = f\"\"\"\n",
    "        User: I am looking for products on an e-commerce platform.\n",
    "        My current situation is: {user_situation}\n",
    "        \"\"\"\n",
    "    else:\n",
    "        query=f\"\"\"\n",
    "        User: These are previous conversation messages.\n",
    "        {user_situation}\n",
    "        Now determine the situational requirements based on the user's situation.\n",
    "        \"\"\"\n",
    "\n",
    "    engine1 = LangchainJSONEngine(SituationalRequirement1, systemPromptText=systemPromptText)\n",
    "    engine2 = LangchainJSONEngine(SituationalRequirement2, systemPromptText=systemPromptText)\n",
    "\n",
    "    result1 = engine1.run(query).dict()\n",
    "    result2 = engine2.run(query).dict()\n",
    "    budget_value = result2['budget_value']\n",
    "    del result2['budget_value']\n",
    "    result1.update(result2)\n",
    "\n",
    "    return result1, budget_value\n",
    "\n",
    "\n",
    "def generate_secondary_requirements(chat_conversation):\n",
    "    \"\"\"\n",
    "    This tool generates secondary requirements based on the user's requirements.\n",
    "    \"\"\"\n",
    "\n",
    "    systemPromptText = \"\"\"You are an AI assistant. \n",
    "    You are helping a user who is looking for products on an e-commerce platform. \n",
    "    Your task is to determine the user's requirements based on the conversation.\n",
    "    Generate a list of detailed requirements that the user has. \n",
    "    You also have to determine the price range that the user is looking for. Make the requirements very unique, detailed, and specific.\n",
    "\n",
    "    Example: For a clothing product. [Requirement 1: The product should be of a specific brand. Requirement 2: The product should be of a specific color. Requirement 3: The product should be of a specific size.]\n",
    "    price_lower_bound: 0\n",
    "    price_upper_bound: 10000\n",
    "    \"\"\"\n",
    "\n",
    "    query = f\"\"\"\n",
    "    Chat conversation: {chat_conversation}\n",
    "    \"\"\"\n",
    "\n",
    "    engine = LangchainJSONEngine(UserRequirement, systemPromptText=systemPromptText)\n",
    "    result = engine.run(query).dict()\n",
    "    \n",
    "    return result"
   ]
  },
  {
   "cell_type": "code",
   "execution_count": 370,
   "metadata": {},
   "outputs": [],
   "source": [
    "def summarize_chosen_categories(first_level_chosen:List[str]):\n",
    "    systemPromptText = \"\"\"You are an AI assistant.\n",
    "    You are helping a user who is looking for products on an e-commerce platform. \n",
    "    There are some AI suggested categories that are relevant to the user's situation.\n",
    "    You have to summarize the chosen categeroies and tell the user about the categories.\n",
    "    You all also if he/she wants to add or remove any categories. Also mention if there is any budget range available or mentioned by the user.\n",
    "    Also, you have to ask the user if he/she wants to proceed to the product suggestion phase if the chosen categories are correct.\n",
    "    \"\"\"\n",
    "\n",
    "    query = f\"\"\"\n",
    "    Some AI suggested chosen categories: {first_level_chosen}\n",
    "    \"\"\"\n",
    "\n",
    "    engine = LangchainSimpleEngine(systemPromptText=systemPromptText)\n",
    "    result = engine.run(query)\n",
    "\n",
    "    return result.content\n",
    "\n",
    "\n",
    "def summarize_secondary_requirements(requirement_list:List[str]):\n",
    "\n",
    "    systemPromptText = \"\"\"You are an AI assistant.\n",
    "    You are helping a user who is looking for products on an e-commerce platform. \n",
    "    There are some AI suggested requirements that based on the user's chat conversation with the AI.\n",
    "\n",
    "    You have to summarize the chosen requirements and tell the user about the requirements.\n",
    "    You also tell if he/she wants to add or remove any requirements. Tell the user if he/she wants to modify the price range.\n",
    "    Also, you have to ask the user if he/she wants to \n",
    "        1. Add a new product under same category\n",
    "        2. Completed with this category and move to the next category\n",
    "\n",
    "    \"\"\"\n",
    "\n",
    "    query = f\"\"\"\n",
    "    Some AI suggested chosen requirements: {requirement_list}\n",
    "    \"\"\"\n",
    "\n",
    "    engine = LangchainSimpleEngine(systemPromptText=systemPromptText)\n",
    "    result = engine.run(query)\n",
    "\n",
    "    return result.content"
   ]
  },
  {
   "cell_type": "code",
   "execution_count": 371,
   "metadata": {},
   "outputs": [],
   "source": [
    "def check_statisfied(state:AgentState)->AgentState:\n",
    "    print(\"<< check_statisfied >>\")\n",
    "    chat = \"\\n\".join([f\"{msg.type} : {msg.content}\" for msg in state['messages']])\n",
    "    systemPromptText = \"\"\"You are an AI assistant.\n",
    "    You are helping a user who is looking for products on an e-commerce platform.\n",
    "    You read the user's previous conversations and determine whether the user has described all his/her requirements and ready to proceed with the product suggestions.\n",
    "    \n",
    "    If the user says 'Lets go ahead \",\"Ok\", \"Move on\" or similar etc. - You have consider the requirements as fullfilled / satisfied.\n",
    "   \n",
    "    \"\"\"\n",
    "\n",
    "    query = f\"\"\"\n",
    "    Previous messages: {chat}\n",
    "    Now tell me, are all the user's requirements fullfilled?\n",
    "    \"\"\"\n",
    "\n",
    "    engine = LangchainJSONEngine(RequirementFullfilled, systemPromptText=systemPromptText)\n",
    "    result = engine.run(query).dict()\n",
    "    state['is_fullfilled'] = result['is_fullfilled']\n",
    "\n",
    "    print(f\"Is fullfilled ??????? : {state['is_fullfilled']}\")\n",
    "\n",
    "    return state['is_fullfilled']\n",
    "    \n",
    "\n",
    "def check_statisfied_secondary(state:AgentState)->AgentState:\n",
    "    print(\"<< check_statisfied_secondary >>\")\n",
    "    chat = \"\\n\".join([f\"{msg.type} : {msg.content}\" for msg in state['requirements'][state['cur_state']]['thread_conversation']])\n",
    "\n",
    "    print(\"(Sec) Chat: \",chat)\n",
    "    systemPromptText = f\"\"\"You are an AI assistant.\n",
    "    You are helping a human who is looking for {\"clothing\"} products on an e-commerce platform.\n",
    "    You read the human's previous conversations and determine the status of the conversation.\n",
    "    You have to determine whether the user is asking for a new requirement or he/she is satisfied with the current requirements.\n",
    "\n",
    "    If the user says 'Lets go ahead \",\"Ok\", \"Move on\" or similar etc. - You have consider the requirements as fullfilled / satisfied.\n",
    "    \"\"\"\n",
    "\n",
    "    query = f\"\"\"\n",
    "    Previous conversations: {chat}\n",
    "    What is the status of the conversation?\n",
    "    \"\"\"\n",
    "\n",
    "    engine = LangchainJSONEngine(RequirementStatus, systemPromptText=systemPromptText)\n",
    "    result = engine.run(query).dict()\n",
    "\n",
    "    state['requirements'][state['cur_state']]['secondary_done'] = \"completed\" if result['satisfaction_status'] else \"new requirement\"\n",
    "    print(f\"Is fullfilled (secondary) ??????? : {result}\")\n",
    "    return state['requirements'][state['cur_state']]['secondary_done']\n",
    "\n",
    "\n",
    "def check_asking_for_new_product_secondary(state:AgentState)->AgentState:\n",
    "    print(\"<< check_asking_for_new_product_secondary >>\")\n",
    "    chat = \"\\n\".join([f\"{msg.type} : {msg.content}\" for msg in state['requirements'][state['cur_state']]['thread_conversation']])\n",
    "    print(\"----------------------> >  >> > .\",chat)\n",
    "    print(\"----!----\"*21)\n",
    "    systemPromptText = \"\"\"You are an AI assistant.\n",
    "    You are helping a user who is looking for products on an e-commerce platform.\n",
    "    You read the user's previous conversations and determine whether the user is interested in a new product.\n",
    "    \"\"\"\n",
    "\n",
    "    query = f\"\"\"\n",
    "    Previous messages: {chat}\n",
    "    Now tell me, is the user asking for a new product?\n",
    "    \"\"\"\n",
    "\n",
    "    engine = LangchainJSONEngine(AskingsForNewProduct, systemPromptText=systemPromptText)\n",
    "    result = engine.run(query).dict()\n",
    "\n",
    "    print(f\"Is asking for new product ??????? : {result}\")\n",
    "\n",
    "    if result['asking_for_new_product']:\n",
    "        state['requirements'][state['cur_state']]['secondary_done'] = \"new requirement\"\n",
    "\n",
    "    return 'asking for new product' if result['asking_for_new_product'] else 'completed'"
   ]
  },
  {
   "cell_type": "code",
   "execution_count": 372,
   "metadata": {},
   "outputs": [],
   "source": [
    "# check_statisfied_secondary(\"\"\"\n",
    "#                            system : Hi looks like you are looking for some clothing products. I can help you with that. Tell me about your requirements and I will suggest products accordingly.\n",
    "# human : I want to go to a wedding party. So i want ethnic wear, jewellery, and beauty products.\n",
    "# system : Final requirements:['clothing', 'jewellery', 'beauty_and_personal_care']\n",
    "# human: let go ahead, I need another saree for my office inauguration.               \n",
    "# \"\"\")"
   ]
  },
  {
   "cell_type": "code",
   "execution_count": 373,
   "metadata": {},
   "outputs": [],
   "source": [
    "def human_node(state:AgentState)->AgentState:\n",
    "    print(\"Human node ...\")\n",
    "    # print(f\"Current messages: {state['messages']}\")\n",
    "    return state\n",
    "\n",
    "def human_node_secondary(state:AgentState)->AgentState:\n",
    "    print(\"Human node (secondary) ...\")\n",
    "    # print(f\"Current messages: {state[state['cur_state']]['thread_conversation']}\")\n",
    "    state['recently_added'] = []\n",
    "    return state"
   ]
  },
  {
   "cell_type": "code",
   "execution_count": 374,
   "metadata": {},
   "outputs": [],
   "source": [
    "def refine_requirement(reqs:dict):\n",
    "    chosen = []\n",
    "    not_chosen = []\n",
    "    for key, value in reqs.items():\n",
    "        if value == True:\n",
    "            chosen.append(key)\n",
    "        else:\n",
    "            not_chosen.append(key)\n",
    "    return chosen, not_chosen\n",
    "\n",
    "\n",
    "def ask_ai_first_level_requirements(state:AgentState)->AgentState:\n",
    "    print(\"<<< Asking for first level requirements ... >>>\")\n",
    "    previous_messages = state['messages']\n",
    "    chat = \"\\n\".join([f\"{msg.type} : {msg.content}\" for msg in previous_messages])\n",
    "    first_level_requirements,budget_value = generate_situational_requirements(chat,update_mode=True)\n",
    "    # state['requirements'] = first_level_requirements\n",
    "    first_level_chosen, first_level_not_chosen = refine_requirement(first_level_requirements)\n",
    "    state['budget'] = budget_value\n",
    "    state['first_level_chosen'] = first_level_chosen\n",
    "    state['first_level_not_chosen'] = first_level_not_chosen\n",
    "    summarized_ans = summarize_chosen_categories(first_level_chosen)\n",
    "    print(summarized_ans)\n",
    "    state['messages'].append(SystemMessage(summarized_ans))\n",
    "    return state\n",
    "\n",
    "def ask_ai_secondary_level_requirements(state:AgentState)->AgentState:\n",
    "    print(\"<<< Asking for secondary level requirements ... >>>\")\n",
    "    previous_messages = state['requirements'][state['cur_state']]['thread_conversation']\n",
    "    chat = \"\\n\".join([f\"{msg.type} : {msg.content}\" for msg in previous_messages])\n",
    "    secondary_level_requirements = generate_secondary_requirements(chat)\n",
    "    state['requirements'][state['cur_state']]['list_of_requirements'][-1]=(secondary_level_requirements['requirement_list'])\n",
    "    state['requirements'][state['cur_state']]['price_lower_bounds'][-1] = secondary_level_requirements['price_lower_bound']\n",
    "    state['requirements'][state['cur_state']]['price_upper_bounds'][-1] = secondary_level_requirements['price_upper_bound']\n",
    "\n",
    "    print(\"-\"*20)\n",
    "    print(\"price lower bounds: \",state['requirements'][state['cur_state']]['price_lower_bounds'])\n",
    "    print(\"price upper bounds: \",state['requirements'][state['cur_state']]['price_upper_bounds'])\n",
    "    print(secondary_level_requirements['requirement_list'])\n",
    "    print(\"-\"*20)\n",
    "\n",
    "    # state['requirements'][state['cur_state']]['thread_conversation'].append(HumanMessage(content=secondary_level_requirements['requirement_list']))\n",
    "    summarized_ans = summarize_secondary_requirements(secondary_level_requirements['requirement_list'])\n",
    "    print(summarized_ans)\n",
    "    state['requirements'][state['cur_state']]['thread_conversation'].append(SystemMessage(summarized_ans))\n",
    "    return state\n",
    "\n",
    "def ask_categrory_requirements_from_feedback(primary_chats, category):\n",
    "    print(\"<<< Asking for category requirements from feedback ... >>>\")\n",
    "    \n",
    "    systemPromptText = f\"\"\"You are an AI assistant.\n",
    "    You are helping a user who is looking for products on an e-commerce platform for the {category} category. \n",
    "    You have to generate detailed requirements based on the can best suit the user's needs for the {category} category. Then you have to suggest products accordingly.\n",
    "    Example: If the user has mentioed he is moving to a new hot place. You can suggest him to buy \"summer clothes\", \"sunglasses\", \"half sleeve shirts\" etc.\n",
    "    for the \"clothing\" category.  \n",
    "    \n",
    "    Make the requirements very unique, detailed, and specific for the uese case.\n",
    "    \"\"\"\n",
    "\n",
    "    query = f\"\"\"\n",
    "    Previous messages: {primary_chats}\n",
    "\n",
    "\n",
    "    Now tell me, what are your requirements for {category} products?\n",
    "    \"\"\"\n",
    "\n",
    "    engine = LangchainJSONEngine(UserRequirement, systemPromptText=systemPromptText)\n",
    "    result = engine.run(query).dict()\n",
    "    \n",
    "    return result"
   ]
  },
  {
   "cell_type": "code",
   "execution_count": 375,
   "metadata": {},
   "outputs": [
    {
     "name": "stdout",
     "output_type": "stream",
     "text": [
      "<<< Asking for category requirements from feedback ... >>>\n"
     ]
    },
    {
     "data": {
      "text/plain": [
       "{'requirement_list': ['Winter coats',\n",
       "  'Scarves',\n",
       "  'Boots',\n",
       "  'Thermal wear',\n",
       "  'Hats',\n",
       "  'Gloves'],\n",
       " 'price_lower_bound': 0.0,\n",
       " 'price_upper_bound': 100000.0}"
      ]
     },
     "execution_count": 375,
     "metadata": {},
     "output_type": "execute_result"
    }
   ],
   "source": [
    "ask_categrory_requirements_from_feedback(\"\"\"\n",
    "                                         USer: I am looking for products on an e-commerce platform. I am moving to paris in winter.\n",
    "                                         System:You may need clothing and jwelleries\n",
    "                                            User: Yes, I need clothing and jwelleries\n",
    "                                            System: Final requirements:['clothing', 'jewellery']\n",
    "                                         User: Go Aheadd!\n",
    "                                         \"\"\",\"clothing\")"
   ]
  },
  {
   "cell_type": "code",
   "execution_count": 401,
   "metadata": {},
   "outputs": [],
   "source": [
    "def iteration_start(state:AgentState)->AgentState:\n",
    "    print(\"<< Iteration start ... >>\")\n",
    "    state['mode'] = \"secondary\"\n",
    "    for req in state['requirements']:\n",
    "        if state['requirements'][req]['secondary_status'] == \"new requirement\":\n",
    "            print(f\"Activating {req} ...\")\n",
    "            state['cur_state'] = req\n",
    "            # state['requirements'][req]['secondary_status'] = \"completed\"\n",
    "\n",
    "            reqs_from_feedback = ask_categrory_requirements_from_feedback(\"\\n\".join([f\"{msg.type} : {msg.content}\" for msg in state['messages']]),req)\n",
    "\n",
    "            stringified_reqs = \"\\n\".join(reqs_from_feedback['requirement_list'])\n",
    "\n",
    "            print(\"*\"*20)\n",
    "            print(\"Req from feedback: \",reqs_from_feedback)\n",
    "            print(\"*\"*20)\n",
    "\n",
    "            # TODO\n",
    "            msg = SystemMessage(f\"Hi looks like you are looking for some {state['cur_state']} products. Some requirements may be {stringified_reqs}\") # AI generated\n",
    "            state['requirements'][req]['thread_conversation'].append(msg)\n",
    "\n",
    "            state['requirements'][state['cur_state']]['list_of_requirements'][-1] = reqs_from_feedback['requirement_list']\n",
    "            state['requirements'][state['cur_state']]['price_lower_bounds'][-1] = 0 # AI generated\n",
    "            state['requirements'][state['cur_state']]['price_upper_bounds'][-1] = 100000 # AI generated\n",
    "            break;\n",
    "    return state\n",
    "\n",
    "def req_iterator(state:AgentState)->AgentState:\n",
    "    print(\"<< Req iterator ... >>\")\n",
    "    \n",
    "    for req in state['requirements']:\n",
    "        if state['requirements'][req]['secondary_status'] == \"new requirement\":\n",
    "            return True\n",
    "\n",
    "    state['cur_state'] = \"exit\"   \n",
    "    return False"
   ]
  },
  {
   "cell_type": "code",
   "execution_count": 402,
   "metadata": {},
   "outputs": [],
   "source": [
    "def dummy_secondary_req_handler(state:AgentState)->AgentState:\n",
    "    print(\"<< dummy_secondary_req_handler ... >>\")\n",
    "    print(\"Dummy secondary req handler ...\")\n",
    "    print(f\"Requirements: {state['requirements']}\")\n",
    "    state['requirements'][state['cur_state']]['secondary_status'] = \"completed\"\n",
    "    return state"
   ]
  },
  {
   "cell_type": "code",
   "execution_count": 403,
   "metadata": {},
   "outputs": [],
   "source": [
    "def new_product_handler(state:AgentState)->AgentState:\n",
    "    print(\"<< New product handler ... >>\")\n",
    "    state['requirements'][state['cur_state']]['thread_conversation'] = []\n",
    "    state['requirements'][state['cur_state']]['list_of_requirements'].append([])\n",
    "    state['requirements'][state['cur_state']]['price_lower_bounds'].append(0.)\n",
    "    state['requirements'][state['cur_state']]['price_upper_bounds'].append(100000.)\n",
    "    msg = SystemMessage(f\"Do you want to add a new product under the same category or move to the next category?\")\n",
    "    state['requirements'][state['cur_state']]['thread_conversation'].append(msg)\n",
    "    print(\"%\"*12)\n",
    "    print(f\"Requirements: {state['requirements']}\")\n",
    "    print(\"%\"*12)\n",
    "    return state"
   ]
  },
  {
   "cell_type": "code",
   "execution_count": 404,
   "metadata": {},
   "outputs": [],
   "source": [
    "def sort_by_price_relevance(product_doc_list, price_lower_bound, price_upper_bound):\n",
    "    product_doc_list = product_doc_list.copy()\n",
    "    # Calculate the midpoint of the price range\n",
    "    price_midpoint = (price_lower_bound + price_upper_bound) / 2\n",
    "    def relevance(product_doc):\n",
    "        price = product_doc.metadata['discounted_price']\n",
    "        return abs(price - price_midpoint)\n",
    "    sorted_product_doc_list = sorted(product_doc_list, key=relevance)\n",
    "    # sorted_product_doc_list.reverse()\n",
    "    \n",
    "    return sorted_product_doc_list\n",
    "\n",
    "\n",
    "def product_search(state:AgentState)->AgentState:\n",
    "    print(\"<< Product search ... >>\")\n",
    "    cur_reqs = state['requirements'][state['cur_state']]['list_of_requirements'][-1]\n",
    "    price_lower_bound = state['requirements'][state['cur_state']]['price_lower_bounds'][-1]\n",
    "    price_upper_bound = state['requirements'][state['cur_state']]['price_upper_bounds'][-1]\n",
    "    # Elastic search for products based on the requirements\n",
    "    # Currently dummy random products\n",
    "    # product_list = [f\"{state['cur_state']}_{len(state['requirements'][state['cur_state']]['list_of_requirements'])}_{i}\" for i in range(5)]\n",
    "    global CATEGORY_WISE_VECTOR_STORE\n",
    "    print(\"Searching products with reqs: \",\"\\n- \".join(cur_reqs))\n",
    "    product_doc_list = CATEGORY_WISE_VECTOR_STORE[state['cur_state']].similarity_search(\"\\n- \".join(cur_reqs),k=10)\n",
    "    if not(price_lower_bound==0. and price_upper_bound==100000.):\n",
    "        print(\"!!!! User is looking for a specific price range !!!!\")\n",
    "        product_doc_list = sort_by_price_relevance(product_doc_list, price_lower_bound, price_upper_bound)\n",
    "    # discounted_price is the key for each doc for the price\n",
    "    # Sort the doclist based on the relevanve of price range\n",
    "    print(f\"Showing products for {state['cur_state']} Price range: {price_lower_bound} - {price_upper_bound}\")\n",
    "    # print(\"Product list: \",product_doc_list)\n",
    "    product_list = [doc.metadata['uniq_id'] for doc in product_doc_list]\n",
    "\n",
    "    state['requirements'][state['cur_state']]['list_of_products'].append(product_list)\n",
    "    state['recently_added'] = product_list\n",
    "    return state"
   ]
  },
  {
   "cell_type": "code",
   "execution_count": 405,
   "metadata": {},
   "outputs": [],
   "source": [
    "def check_for_relocation(state:AgentState)->AgentState:\n",
    "    chats = \"\\n\".join([f\"{msg.type} : {msg.content}\" for msg in state['messages']])\n",
    "    print(\"-p-\"*20)\n",
    "    print(\"Chats: \",chats)\n",
    "    print(\"-p-\"*20)\n",
    "    systemPromptText = \"\"\"You are an AI assistant.\n",
    "    You are helping a user who is looking for products on an e-commerce platform. \n",
    "    You are given the user's pervious conversation messages. You have to whether the user has a plan to move to a new place/city/country for relocation, travelling etc.\n",
    "    \"\"\"\n",
    "\n",
    "    query = f\"\"\"\n",
    "    Previous messages: {chats}\n",
    "    Now tell me, is the user planning to move to a new place?\n",
    "    \"\"\"\n",
    "\n",
    "    engine = LangchainJSONEngine(MoveToPlace, systemPromptText=systemPromptText)\n",
    "    result = engine.run(query).dict()\n",
    "\n",
    "    print(f\"is the user planning to move to a new place??????? : {result}\")\n",
    "\n",
    "    return 'move to new place' if result['move_to_place'] else 'completed'\n",
    "\n",
    "\n",
    "def extract_new_place(state:AgentState)->AgentState:\n",
    "    chats = \"\\n\".join([f\"{msg.type} : {msg.content}\" for msg in state['messages']])\n",
    "    print(\"-p-\"*20)\n",
    "    print(\"Chats: \",chats)\n",
    "    print(\"-p-\"*20)\n",
    "    systemPromptText = \"\"\"You are an AI assistant.\n",
    "    You are helping a user who is looking for products on an e-commerce platform. \n",
    "    You are given the user's pervious conversation messages. You have to extract the new place where the user wants to move.\n",
    "    You also determine the search keys for essential medical stores, grocery stores.\n",
    "    If the user has any specific cusine in mind, you have to determine the search keys for resturants.\n",
    "    The search keys should be very brief.\n",
    "    \"\"\"\n",
    "\n",
    "    query = f\"\"\"\n",
    "    Previous messages: {chats}\n",
    "    Now extract the new place where the user wants to move. And also the search keys for essential medical stores, grocery stores, and resturants.\n",
    "    \"\"\"\n",
    "\n",
    "    engine = LangchainJSONEngine(NewPlaceNameAndRequirement, systemPromptText=systemPromptText)\n",
    "    result = engine.run(query).dict()\n",
    "\n",
    "    return result"
   ]
  },
  {
   "cell_type": "code",
   "execution_count": 406,
   "metadata": {},
   "outputs": [],
   "source": [
    "def ask_user_newplace_reqs(state:AgentState)->AgentState:\n",
    "    msg = SystemMessage(\"It looks like you are planning to move to a new place. You may tell me about the new place and I may suggest you the essential shops and resturants.\")\n",
    "    state['messages'].append(msg)\n",
    "    return state\n",
    "\n",
    "def start_for_newplace_check(state:AgentState)->AgentState:\n",
    "    print(\"Checking for new place ...\")\n",
    "    return state\n",
    "\n",
    "def new_place_handler(state:AgentState)->AgentState:\n",
    "    print(\"New place handler ...\")\n",
    "    state['mode'] = \"idle\"\n",
    "    state['cur_state'] = \"new place\"\n",
    "\n",
    "    chat = \"\\n\".join([f\"{msg.type} : {msg.content}\" for msg in state['messages']])\n",
    "    print(\"-p-\"*20)\n",
    "    print(\"Chats: \",chat)\n",
    "    print(\"-p-\"*20)\n",
    "\n",
    "    result = extract_new_place(state)\n",
    "    state['new_place_req'] = result\n",
    "    return state"
   ]
  },
  {
   "cell_type": "code",
   "execution_count": 407,
   "metadata": {},
   "outputs": [],
   "source": [
    "def make_more_interactive_response(old_msg:str):\n",
    "    print(\"Making more interactive response ...\")\n",
    "    # USe LangchainSimpleEngine\n",
    "    systemPromptText = \"\"\"You are an AI assistant. \n",
    "        YOu are given an response from the user.\n",
    "        You have to make the response more interactive and engaging for a better user experience.\n",
    "        \"\"\"\n",
    "    \n",
    "    query = f\"\"\"\n",
    "    Old message: {old_msg}\n",
    "\n",
    "    Now make the response more interactive and engaging.\n",
    "    \"\"\"\n",
    "\n",
    "    engine = LangchainSimpleEngine(systemPromptText=systemPromptText)\n",
    "    result = engine.run(query)\n",
    "\n",
    "    return result.content"
   ]
  },
  {
   "cell_type": "code",
   "execution_count": 408,
   "metadata": {},
   "outputs": [],
   "source": [
    "# sample_state = AgentState(cur_state=\"welcome\", messages=[\n",
    "#     SystemMessage(\"Welcome to the AI assistant. I am here to help you with your shopping needs. Tell me about your situation and I will suggest products accordingly.\"),\n",
    "#     HumanMessage(\"I am trying rellocate to Delhi from chennai. I am obsessed with south indian culture\"),\n",
    "#     SystemMessage(\"Sure. Some possible categories are: clothing, bags_wallets_belts, jewellery, beauty_and_personal_care, watches, sunglasses. Are these categories relevant to your situation?\"),\n",
    "#     # HumanMessage(\"I choose clothing, bags_wallets_belts, and jewellery.\"),\n",
    "#     # SystemMessage(\"Great! Now let's move on to the next set of categories. Sre sure you want to proceed to product suggestions?\"),\n",
    "#     # HumanMessage(\"No. I want also want to add beauty_and_personal_care, watches, and sunglasses.\"),\n",
    "#     # SystemMessage(\"Great! Now let's move on to the next set of categories. Sre sure you want to proceed to product suggestions?\"),\n",
    "#     HumanMessage(\"Uhhm!.\")\n",
    "# ], requirements={})"
   ]
  },
  {
   "cell_type": "code",
   "execution_count": 409,
   "metadata": {},
   "outputs": [],
   "source": [
    "# state_ = new_place_handler(sample_state)"
   ]
  },
  {
   "cell_type": "code",
   "execution_count": 410,
   "metadata": {},
   "outputs": [],
   "source": [
    "# state_"
   ]
  },
  {
   "cell_type": "code",
   "execution_count": 411,
   "metadata": {},
   "outputs": [],
   "source": [
    "# _is_fullfilled = check_statisfied(sample_state)"
   ]
  },
  {
   "cell_type": "code",
   "execution_count": 412,
   "metadata": {},
   "outputs": [],
   "source": [
    "# _is_fullfilled"
   ]
  },
  {
   "cell_type": "markdown",
   "metadata": {},
   "source": [
    "## Creating Agent"
   ]
  },
  {
   "cell_type": "code",
   "execution_count": 413,
   "metadata": {},
   "outputs": [],
   "source": [
    "class MyAgent:\n",
    "    def __init__(self,thread_id):\n",
    "        self.config = None\n",
    "        self.app = None\n",
    "        self.build(thread_id)\n",
    "\n",
    "    def draw_workflow(self):\n",
    "        display(Image(self.app.get_graph(xray=True).draw_mermaid_png()))\n",
    "    \n",
    "    def build(self,thread_id):\n",
    "        workflow = StateGraph(AgentState)\n",
    "        workflow.add_node(\"welcome\", welcome)\n",
    "        workflow.add_node(\"human\", human_node)\n",
    "        workflow.add_node(\"ask_ai_first_level_requirements\", ask_ai_first_level_requirements)\n",
    "        workflow.add_node(\"exit_from_first_level_requirements\", exit_from_requirements)\n",
    "\n",
    "        workflow.add_node(\"iteration_start\", iteration_start)\n",
    "        # workflow.add_node(\"welcome_secondary\", secondary_welcome)\n",
    "        workflow.add_node(\"human_secondary\", human_node_secondary)\n",
    "        workflow.add_node(\"human_secondary_new_prod\", human_node_secondary)\n",
    "        # workflow.add_node(\"human_new_place\", human_node_secondary)\n",
    "        workflow.add_node(\"ask_ai_secondary_level_requirements\", ask_ai_secondary_level_requirements)\n",
    "        workflow.add_node(\"exit_from_requirements_secondary\", exit_from_requirements_secondary)\n",
    "\n",
    "\n",
    "        workflow.add_node(\"new_product_handler\", new_product_handler)\n",
    "        workflow.add_node(\"product_search\", product_search)\n",
    "        \n",
    "        # workflow.add_node(\"start_for_newplace_check\", start_for_newplace_check)\n",
    "        # workflow.add_node(\"new_place_handler\", new_place_handler)\n",
    "\n",
    "\n",
    "        workflow.add_node(\"final_exit\", final_exit)\n",
    "\n",
    "        \n",
    "\n",
    "        workflow.add_edge(\"welcome\", \"human\")\n",
    "        workflow.add_conditional_edges(\n",
    "            \"human\", \n",
    "            check_statisfied,\n",
    "            {\n",
    "                True: \"exit_from_first_level_requirements\",\n",
    "                False: \"ask_ai_first_level_requirements\"\n",
    "            }\n",
    "        )\n",
    "        workflow.add_edge(\"ask_ai_first_level_requirements\", \"human\")\n",
    "\n",
    "        workflow.add_edge(\"exit_from_first_level_requirements\", \"iteration_start\")\n",
    "        workflow.add_conditional_edges(\n",
    "            \"iteration_start\", \n",
    "            req_iterator,\n",
    "            {\n",
    "                True: \"human_secondary\",\n",
    "                False: \"final_exit\" # here we can add a new node to check for relocation\n",
    "            }\n",
    "        )\n",
    "\n",
    "        # workflow.add_edge(\"welcome_secondary\", \"human_secondary\")\n",
    "        workflow.add_conditional_edges(\n",
    "            \"human_secondary\", \n",
    "            check_statisfied_secondary,\n",
    "            {\n",
    "                \"new requirement\": \"ask_ai_secondary_level_requirements\",\n",
    "                \"completed\": \"product_search\"\n",
    "            }\n",
    "        )\n",
    "\n",
    "        workflow.add_edge(\"ask_ai_secondary_level_requirements\", \"human_secondary\")    \n",
    "\n",
    "        workflow.add_edge(\"product_search\", \"exit_from_requirements_secondary\")\n",
    "        workflow.add_edge(\"exit_from_requirements_secondary\", \"new_product_handler\")\n",
    "        workflow.add_edge(\"new_product_handler\", \"human_secondary_new_prod\")\n",
    "        workflow.add_conditional_edges(\n",
    "            \"human_secondary_new_prod\", \n",
    "            check_asking_for_new_product_secondary,\n",
    "            {\n",
    "                'asking for new product': \"ask_ai_secondary_level_requirements\",\n",
    "                'completed': \"iteration_start\"\n",
    "            }\n",
    "        )\n",
    "\n",
    "        # workflow.add_conditional_edges(\n",
    "        #     \"start_for_newplace_check\", \n",
    "        #     check_for_relocation,\n",
    "        #     {\n",
    "        #         'move to new place': \"new_place_handler\",\n",
    "        #         'completed': \"final_exit\"\n",
    "        #     }\n",
    "        # )\n",
    "\n",
    "        # workflow.add_edge(\"new_place_handler\", \"human_new_place\")\n",
    "        # workflow.add_edge(\"human_new_place\", \"final_exit\")\n",
    "        workflow.add_edge(\"final_exit\", langgraph.graph.END)\n",
    "\n",
    "        \n",
    "        workflow.set_entry_point(\"welcome\")\n",
    "        with SqliteSaver.from_conn_string(\":memory:\") as memory:\n",
    "            app = workflow.compile(\n",
    "                checkpointer=memory,\n",
    "                interrupt_before=[\"human\",\"human_secondary\",\"human_secondary_new_prod\"],\n",
    "            )\n",
    "        \n",
    "        self.app = app\n",
    "        self.config = {\"configurable\": {\"thread_id\": str(thread_id)}}\n",
    "        return app\n",
    "\n",
    "    \n",
    "    def get_recent_state_snap(self):\n",
    "        return self.app.get_state(config=self.config).values.copy()\n",
    "    \n",
    "    def get_last_message(self):\n",
    "        if self.get_recent_state_snap()[\"mode\"] == \"secondary\":\n",
    "            return self.get_last_secondary_message()\n",
    "        snap = self.get_recent_state_snap()\n",
    "        return snap[\"messages\"][-1]\n",
    "    \n",
    "    def get_last_secondary_message(self):\n",
    "        snap = self.get_recent_state_snap()\n",
    "        return snap[\"requirements\"][snap[\"cur_state\"]][\"thread_conversation\"][-1]\n",
    "\n",
    "    def continue_flow(self, state):\n",
    "        self.app.invoke(state, config=self.config)\n",
    "        return self.get_recent_state_snap()\n",
    "\n",
    "    def resume_with_user_input(self, user_input:str):\n",
    "        if self.get_recent_state_snap()[\"mode\"] == \"secondary\":\n",
    "            print(\"<<<<<<<<<<<<<<<<< Resuming secondary ...\")\n",
    "            return self.resume_with_user_input_secondary(user_input)\n",
    "        snap = self.get_recent_state_snap()\n",
    "        snap[\"messages\"].append(HumanMessage(user_input))\n",
    "        self.app.update_state(self.config, snap)\n",
    "        return self.continue_flow(None)\n",
    "    \n",
    "    def resume_with_user_input_secondary(self, user_input:str):\n",
    "        snap = self.get_recent_state_snap()\n",
    "        snap[\"requirements\"][snap[\"cur_state\"]][\"thread_conversation\"].append(HumanMessage(user_input))\n",
    "        self.app.update_state(self.config, snap)\n",
    "        return self.continue_flow(None)"
   ]
  },
  {
   "cell_type": "code",
   "execution_count": 414,
   "metadata": {},
   "outputs": [],
   "source": [
    "# config = {\"configurable\": {\"thread_id\": \"50\"}}"
   ]
  },
  {
   "cell_type": "code",
   "execution_count": 415,
   "metadata": {},
   "outputs": [],
   "source": [
    "my_agent = MyAgent(thread_id=50)"
   ]
  },
  {
   "cell_type": "code",
   "execution_count": 416,
   "metadata": {},
   "outputs": [
    {
     "data": {
      "image/jpeg": "[encoded data removed]",
      "text/plain": [
       "<IPython.core.display.Image object>"
      ]
     },
     "metadata": {},
     "output_type": "display_data"
    }
   ],
   "source": [
    "my_agent.draw_workflow()"
   ]
  },
  {
   "cell_type": "code",
   "execution_count": 417,
   "metadata": {},
   "outputs": [
    {
     "data": {
      "text/plain": [
       "dict_keys(['messages'])"
      ]
     },
     "execution_count": 417,
     "metadata": {},
     "output_type": "execute_result"
    }
   ],
   "source": [
    "my_agent.get_recent_state_snap().keys()"
   ]
  },
  {
   "cell_type": "code",
   "execution_count": 418,
   "metadata": {},
   "outputs": [
    {
     "name": "stdout",
     "output_type": "stream",
     "text": [
      "Welcome to the AI assistant. I am here to help you with your shopping needs. Tell me about your situation and I will suggest products accordingly. You may also suggest a budget of your cart ...\n"
     ]
    }
   ],
   "source": [
    "snap = my_agent.continue_flow({\n",
    "    \"cur_state\": \"Requirement Phase\",\n",
    "    \"requirements\": {},\n",
    "    \"mode\":\"primary\",\n",
    "    \"budget\": 100000.00,\n",
    "})"
   ]
  },
  {
   "cell_type": "code",
   "execution_count": 419,
   "metadata": {},
   "outputs": [
    {
     "name": "stdout",
     "output_type": "stream",
     "text": [
      "{'cur_state': 'Requirement Phase', 'messages': [SystemMessage(content='Welcome to the AI assistant. I am here to help you with your shopping needs. Tell me about your situation and I will suggest products accordingly. You may also suggest a budget of your cart ...', id='846a13a9-c2cb-47fe-b032-d6b9b29fb9ea')], 'requirements': {}, 'mode': 'primary', 'budget': 100000.0}\n"
     ]
    }
   ],
   "source": [
    "print(my_agent.get_recent_state_snap())"
   ]
  },
  {
   "cell_type": "code",
   "execution_count": 420,
   "metadata": {},
   "outputs": [
    {
     "name": "stdout",
     "output_type": "stream",
     "text": [
      "Human node ...\n",
      "<< check_statisfied >>\n"
     ]
    },
    {
     "name": "stdout",
     "output_type": "stream",
     "text": [
      "Is fullfilled ??????? : False\n",
      "<<< Asking for first level requirements ... >>>\n",
      "No tools to run ...\n",
      "The chosen category is \"clothing.\" This category includes a wide range of products such as tops, bottoms, dresses, outerwear, and more. Is there any specific type of clothing you are looking for within this category? Do you have a budget range in mind for your clothing purchases? Would you like to add or remove any categories before we proceed to the product suggestion phase?\n"
     ]
    }
   ],
   "source": [
    "# snap = my_agent.resume_with_user_input(\"Hi! I am planning to go to a party and I want to look cool. I also want to gift something to my friend. It will be on Almora , Uttarakhand\")\n",
    "# snap = my_agent.resume_with_user_input(\"Hi! I am planning relocate to Bangaluru PG! I am looking for some cool products for my new place.\")\n",
    "snap = my_agent.resume_with_user_input(\"I want some some sarees for my Mom!\")"
   ]
  },
  {
   "cell_type": "code",
   "execution_count": 421,
   "metadata": {},
   "outputs": [
    {
     "data": {
      "text/plain": [
       "{'cur_state': 'Requirement Phase',\n",
       " 'messages': [SystemMessage(content='Welcome to the AI assistant. I am here to help you with your shopping needs. Tell me about your situation and I will suggest products accordingly. You may also suggest a budget of your cart ...', id='846a13a9-c2cb-47fe-b032-d6b9b29fb9ea'),\n",
       "  HumanMessage(content='I want some some sarees for my Mom!', id='430c421a-6c49-43f6-88b0-8dbc5c43d8f3'),\n",
       "  SystemMessage(content='The chosen category is \"clothing.\" This category includes a wide range of products such as tops, bottoms, dresses, outerwear, and more. Is there any specific type of clothing you are looking for within this category? Do you have a budget range in mind for your clothing purchases? Would you like to add or remove any categories before we proceed to the product suggestion phase?', id='dc1e8cd1-d6b4-4f2b-b9c8-159b3f23d054')],\n",
       " 'requirements': {},\n",
       " 'first_level_chosen': ['clothing'],\n",
       " 'first_level_not_chosen': ['bags_wallets_belts',\n",
       "  'jewellery',\n",
       "  'beauty_and_personal_care',\n",
       "  'watches',\n",
       "  'sunglasses',\n",
       "  'sports_fitness',\n",
       "  'health_personal_care_appliances',\n",
       "  'home_decor_festive_needs',\n",
       "  'home_furnishing',\n",
       "  'kithen_dining',\n",
       "  'homes_kitchen',\n",
       "  'furniture',\n",
       "  'pet_supplies',\n",
       "  'pens_stationery',\n",
       "  'automotive',\n",
       "  'tools_hardware',\n",
       "  'baby_care',\n",
       "  'mobile_accessories',\n",
       "  'computers',\n",
       "  'cameras_accessories',\n",
       "  'gaming',\n",
       "  'home_improvement',\n",
       "  'home_entertainment'],\n",
       " 'mode': 'primary',\n",
       " 'budget': 10000.0}"
      ]
     },
     "execution_count": 421,
     "metadata": {},
     "output_type": "execute_result"
    }
   ],
   "source": [
    "snap"
   ]
  },
  {
   "cell_type": "code",
   "execution_count": 422,
   "metadata": {},
   "outputs": [
    {
     "name": "stdout",
     "output_type": "stream",
     "text": [
      "Human node ...\n",
      "<< check_statisfied >>\n",
      "Is fullfilled ??????? : False\n",
      "<<< Asking for first level requirements ... >>>\n"
     ]
    },
    {
     "name": "stdout",
     "output_type": "stream",
     "text": [
      "No tools to run ...\n",
      "The chosen category is \"clothing.\" This category includes a wide range of products such as tops, bottoms, dresses, outerwear, and more. \n",
      "\n",
      "Would you like to add or remove any categories? Do you have a specific budget range in mind for your clothing purchases? \n",
      "\n",
      "Once you confirm the categories, we can proceed to the product suggestion phase.\n"
     ]
    }
   ],
   "source": [
    "# snap = my_agent.resume_with_user_input(\"Remove Home Entertainment and Bags, Wallets, Belts. And i have a budget arounf 35000\")\n",
    "# snap = my_agent.resume_with_user_input(\"Remove jwellery too!\")\n",
    "# snap = my_agent.resume_with_user_input(\"Keep only Home Decor & Festive Needs, remove everytinhg else. And my budget is 50000\")\n",
    "\n",
    "snap = my_agent.resume_with_user_input(\"Yes!\")"
   ]
  },
  {
   "cell_type": "code",
   "execution_count": 398,
   "metadata": {},
   "outputs": [
    {
     "name": "stdout",
     "output_type": "stream",
     "text": [
      "Making more interactive response ...\n"
     ]
    },
    {
     "name": "stdout",
     "output_type": "stream",
     "text": [
      "No tools to run ...\n",
      "Great choice on selecting the \"clothing\" category! 🌟 From trendy tops to stylish bottoms, and everything in between, you're in for a fashion-filled adventure! \n",
      "\n",
      "Before we dive into the exciting world of clothing suggestions, do you have any categories you'd like to explore further or perhaps remove? Your preferences matter! 💁‍♀️\n",
      "\n",
      "Also, setting a budget range can help us tailor our recommendations to suit your style and wallet. Do you have a specific budget in mind for your fabulous fashion finds? 💸\n",
      "\n",
      "Once you're all set, we'll curate some fantastic product suggestions just for you! Let's make your shopping experience as delightful as possible! 🛍️✨\n"
     ]
    }
   ],
   "source": [
    "print(make_more_interactive_response(my_agent.get_last_message().content))"
   ]
  },
  {
   "cell_type": "code",
   "execution_count": 399,
   "metadata": {},
   "outputs": [],
   "source": [
    "# snap = my_agent.resume_with_user_input(\"No! I want to gift some techinical gadgets to my friend. Like a smartwatch, a pair of headphones, and a power bank. Keep the rest of the categories same.\")\n",
    "# snap = my_agent.resume_with_user_input(\"Add, beauty and personal care, watches, and sunglasses.\")"
   ]
  },
  {
   "cell_type": "code",
   "execution_count": 423,
   "metadata": {},
   "outputs": [
    {
     "name": "stdout",
     "output_type": "stream",
     "text": [
      "Human node ...\n",
      "<< check_statisfied >>\n"
     ]
    },
    {
     "name": "stdout",
     "output_type": "stream",
     "text": [
      "Is fullfilled ??????? : True\n",
      "<< Exiting from requirements >>\n",
      "Final requirements:['clothing']\n",
      "Requirements: {}\n",
      "Added clothing to the requirements list.\n",
      "<< Iteration start ... >>\n",
      "Activating clothing ...\n",
      "<<< Asking for category requirements from feedback ... >>>\n",
      "********************\n",
      "Req from feedback:  {'requirement_list': ['Sarees for Mom', 'Traditional and Elegant Designs', 'Lightweight and Comfortable Fabrics', 'Bright and Vibrant Colors', 'Budget-friendly options', 'Variety of Patterns and Embellishments'], 'price_lower_bound': 1000.0, 'price_upper_bound': 5000.0}\n",
      "********************\n",
      "<< Req iterator ... >>\n"
     ]
    }
   ],
   "source": [
    "snap = my_agent.resume_with_user_input(\"Yes! thanks. I am ready to proceed to the product suggestions.\")"
   ]
  },
  {
   "cell_type": "code",
   "execution_count": 424,
   "metadata": {},
   "outputs": [
    {
     "name": "stdout",
     "output_type": "stream",
     "text": [
      "Hi looks like you are looking for some clothing products. Some requirements may be Sarees for Mom\n",
      "Traditional and Elegant Designs\n",
      "Lightweight and Comfortable Fabrics\n",
      "Bright and Vibrant Colors\n",
      "Budget-friendly options\n",
      "Variety of Patterns and Embellishments\n"
     ]
    }
   ],
   "source": [
    "print(my_agent.get_last_message().content)"
   ]
  },
  {
   "cell_type": "code",
   "execution_count": 426,
   "metadata": {},
   "outputs": [
    {
     "name": "stdout",
     "output_type": "stream",
     "text": [
      "<<<<<<<<<<<<<<<<< Resuming secondary ...\n"
     ]
    },
    {
     "name": "stdout",
     "output_type": "stream",
     "text": [
      "Human node (secondary) ...\n",
      "<< check_statisfied_secondary >>\n",
      "(Sec) Chat:  system : Hi looks like you are looking for some clothing products. Some requirements may be Sarees for Mom\n",
      "Traditional and Elegant Designs\n",
      "Lightweight and Comfortable Fabrics\n",
      "Bright and Vibrant Colors\n",
      "Budget-friendly options\n",
      "Variety of Patterns and Embellishments\n",
      "human : Yes sure! Show me some products\n",
      "system : Chosen requirements:\n",
      "- Product type: Sarees\n",
      "- Recipient: Mom\n",
      "- Design: Traditional and Elegant\n",
      "- Fabric: Lightweight and Comfortable\n",
      "- Color: Bright and Vibrant\n",
      "- Budget: Budget-friendly\n",
      "- Patterns: Variety of Patterns\n",
      "- Embellishments: Variety of Embellishments\n",
      "\n",
      "Do you want to add or remove any requirements? \n",
      "Do you want to modify the price range?\n",
      "Do you want to:\n",
      "1. Add a new product under the same category\n",
      "2. Complete this category and move to the next category\n",
      "human : Go ahead!\n",
      "Is fullfilled (secondary) ??????? : {'satisfaction_status': True}\n",
      "<< Product search ... >>\n",
      "Searching products with reqs:  Product type: Sarees\n",
      "- Recipient: Mom\n",
      "- Design: Traditional and Elegant\n",
      "- Fabric: Lightweight and Comfortable\n",
      "- Color: Bright and Vibrant\n",
      "- Budget: Budget-friendly\n",
      "- Patterns: Variety of Patterns\n",
      "- Embellishments: Variety of Embellishments\n",
      "!!!! User is looking for a specific price range !!!!\n",
      "Showing products for clothing Price range: 0.0 - 10000.0\n",
      "<< Exiting from secondary requirements >>\n",
      "Exiting category clothing ...\n",
      "Final requirements:['clothing']\n",
      "<< New product handler ... >>\n",
      "%%%%%%%%%%%%\n",
      "Requirements: {'clothing': {'secondary_status': 'completed', 'list_of_requirements': [['Product type: Sarees', 'Recipient: Mom', 'Design: Traditional and Elegant', 'Fabric: Lightweight and Comfortable', 'Color: Bright and Vibrant', 'Budget: Budget-friendly', 'Patterns: Variety of Patterns', 'Embellishments: Variety of Embellishments'], []], 'list_of_products': [['430a5bbd8647db2ea11bf9549361fe36', '9527f278c350eb01aab3ea1b800f3cd4', '734672bbe95f3338b73d3ccbb90194d0', '7b791349251d3092ea26d7b65b736c2f', '02bffb9f6b29dc9aca582e4691d4c9d7', '7888fb346e28b3b2f0ae3cbd66967e01', '2737da8c77cf060724702f8e17fdf75a', '8c5e85ca195d6bd4c946abed7d3e3cd1', 'e666e68257d67f6ecd32847a1ca55399', '8af412c0c388d88bf432e833040169cf']], 'thread_conversation': [SystemMessage(content='Do you want to add a new product under the same category or move to the next category?')], 'price_lower_bounds': [0.0, 0.0], 'price_upper_bounds': [10000.0, 100000.0], 'secondary_done': 'completed'}}\n",
      "%%%%%%%%%%%%\n"
     ]
    }
   ],
   "source": [
    "snap = my_agent.resume_with_user_input(\"Go ahead!\")"
   ]
  },
  {
   "cell_type": "code",
   "execution_count": 100,
   "metadata": {},
   "outputs": [
    {
     "name": "stdout",
     "output_type": "stream",
     "text": [
      "<<<<<<<<<<<<<<<<< Resuming secondary ...\n",
      "Human node (secondary) ...\n",
      "(Sec) Chat:  system : Hi looks like you are looking for some furniture products. I can help you with that. Tell me about your requirements and I will suggest products accordingly. You may also suggest a price range.\n",
      "human : II am lokking for some potraits! and vase for my home. Price should be between 1000 and 5000\n",
      "Is fullfilled (secondary) ??????? : {'satisfaction_status': False}\n",
      "--------------------\n",
      "price lower bounds:  [1000.0]\n",
      "price upper bounds:  [5000.0]\n",
      "['1. I am looking for portraits for my home decor.', '2. I am looking for a vase to decorate my home.']\n",
      "--------------------\n",
      "No tools to run ...\n",
      "Summary of chosen requirements:\n",
      "1. Looking for portraits for home decor.\n",
      "2. Looking for a vase to decorate home.\n",
      "\n",
      "Do you want to add or remove any requirements? Do you want to modify the price range? \n",
      "Do you want to:\n",
      "1. Add a new product under the same category\n",
      "2. Complete this category and move to the next category\n",
      "<<<<<<<<<<<<<<<<< Resuming secondary ...\n",
      "Human node (secondary) ...\n",
      "(Sec) Chat:  system : Hi looks like you are looking for some furniture products. I can help you with that. Tell me about your requirements and I will suggest products accordingly. You may also suggest a price range.\n",
      "human : II am lokking for some potraits! and vase for my home. Price should be between 1000 and 5000\n",
      "system : Summary of chosen requirements:\n",
      "1. Looking for portraits for home decor.\n",
      "2. Looking for a vase to decorate home.\n",
      "\n",
      "Do you want to add or remove any requirements? Do you want to modify the price range? \n",
      "Do you want to:\n",
      "1. Add a new product under the same category\n",
      "2. Complete this category and move to the next category\n",
      "human :  iam satisified\n",
      "Is fullfilled (secondary) ??????? : {'satisfaction_status': True}\n",
      "Searching products with reqs:  1. I am looking for portraits for my home decor.\n",
      "- 2. I am looking for a vase to decorate my home.\n",
      "!!!! User is looking for a specific price range !!!!\n",
      "Showing products for furniture Price range: 1000.0 - 5000.0\n",
      "Exiting category furniture ...\n",
      "Final requirements:['home_decor_festive_needs', 'furniture']\n",
      "New product handler ...\n",
      "%%%%%%%%%%%%\n",
      "Requirements: {'home_decor_festive_needs': {'secondary_status': 'completed', 'list_of_requirements': [['1. Looking for portraits for home decor.', '2. Looking for vases for home decor.'], [], []], 'list_of_products': [['374e63028d691c380bc43b0dc60e460d', 'a9b35b94610a3d7f4fa91f19693c5248', '9fc5abcec10971e8ac2d24f4d04e7285', '5c0fe2919e49f30aff91d46800cdf149', 'da07e6f4b4701f12594c30075437e64b', '550ffbc5ca22a8a7c0306ae25bf5c5fe', 'ace2eefee15eaaece06c1ac9bf5ca24b', '83853f53933a22fff0063c036f790d6e', '112c1e553b33bc6ae56fa2eaba9a2b40', '6f38c6979801cc982caeef2372e534e8'], ['87a1aaea1c0a29103aa215612fe3ea34', '4be83404abf7b67620d2a6bac2b76961', 'aebf3a2172b33ef09acb472009967812', '04f9f818e2d657b873b07578cfe2eade', '8bd20dd60cfec67107e655444697aabf', 'caf607bb64fae9f706795478291a30fb', 'db9af576e8d8274d87b42d0f6cf66d16', '9405e159b25bb22ea0aafd62d1a46f70', '989179da5145c14335afdf89ceb90f62', '168618e93387ad7171d4e4e1eeff9d1a']], 'thread_conversation': [SystemMessage(content='Do you want to add a new product under the same category or move to the next category?'), HumanMessage(content='No thanks!')], 'price_lower_bounds': [1000.0, 0.0, 0.0], 'price_upper_bounds': [5000.0, 100000.0, 100000.0], 'secondary_done': 'completed'}, 'furniture': {'secondary_status': 'completed', 'list_of_requirements': [['1. I am looking for portraits for my home decor.', '2. I am looking for a vase to decorate my home.'], []], 'list_of_products': [['5bad20f1e26aaa4f21b3aa75ac0d7b8e', 'c0e5cfc2688fbd1a5f23490851c7a0c0', 'eae96eb20ef0f1cb1c6897a01906c54c', 'b2b61374b0798366fe7ecdeb545f7d2a', 'a340df5d870c065b444beca8d23e413d', '5257a4216bb386bc708744102e036b95', 'da35b6ceecbd0c625498e18523d43f98', '72b6bb99fca8f9c387aaf293c3018dd6', 'd8741bffd9bd39f942d8dae5a5d10dc6', '12bbe7d56528c3b8d8623166d49f753c']], 'thread_conversation': [SystemMessage(content='Do you want to add a new product under the same category or move to the next category?')], 'price_lower_bounds': [1000.0, 0.0], 'price_upper_bounds': [5000.0, 100000.0], 'secondary_done': 'completed'}}\n",
      "%%%%%%%%%%%%\n"
     ]
    }
   ],
   "source": [
    "# snap = my_agent.resume_with_user_input(\"I want to got a wedding party. So i want ethnic wear, jewellery, and beauty products. Price should be between 1000 and 5000\")\n",
    "# snap = my_agent.resume_with_user_input(\"I want this for my grandmother. Show me some sarees for old ladies.\")\n",
    "# snap = my_agent.resume_with_user_input(\"Golden and pearl\")\n",
    "# snap = my_agent.resume_with_user_input(\"Platinu and diamond\")\n",
    "\n",
    "\n",
    "snap = my_agent.resume_with_user_input(\"II am lokking for some potraits! and vase for my home. Price should be between 1000 and 5000\")\n",
    "\n",
    "snap = my_agent.resume_with_user_input(\" iam satisified\")"
   ]
  },
  {
   "cell_type": "code",
   "execution_count": 101,
   "metadata": {},
   "outputs": [
    {
     "name": "stdout",
     "output_type": "stream",
     "text": [
      "Do you want to add a new product under the same category or move to the next category?\n"
     ]
    }
   ],
   "source": [
    "print(my_agent.get_last_secondary_message().content)"
   ]
  },
  {
   "cell_type": "code",
   "execution_count": 102,
   "metadata": {},
   "outputs": [
    {
     "name": "stdout",
     "output_type": "stream",
     "text": [
      "Human node (secondary) ...\n",
      "----------------------> >  >> > . system : Do you want to add a new product under the same category or move to the next category?\n",
      "human : No thanks! That's it for now.\n",
      "----!--------!--------!--------!--------!--------!--------!--------!--------!--------!--------!--------!--------!--------!--------!--------!--------!--------!--------!--------!--------!----\n",
      "Is asking for new product ??????? : {'asking_for_new_product': False}\n",
      "Iteration start. Activating the levels one by one ...\n",
      "Req iterator ...\n",
      "Checking for new place ...\n",
      "-p--p--p--p--p--p--p--p--p--p--p--p--p--p--p--p--p--p--p--p-\n",
      "Chats:  system : Welcome to the AI assistant. I am here to help you with your shopping needs. Tell me about your situation and I will suggest products accordingly. You may also suggest a budget of your cart ...\n",
      "human : Hi! I am planning relocate to Bangaluru PG! I am looking for some cool products for my new place.\n",
      "system : The chosen categories for your product search are:\n",
      "1. Home Decor & Festive Needs\n",
      "2. Home Furnishing\n",
      "3. Kitchen & Dining\n",
      "4. Home & Kitchen Appliances\n",
      "5. Furniture\n",
      "6. Home Improvement\n",
      "7. Home Entertainment\n",
      "\n",
      "Do you want to add or remove any categories? Is there a specific budget range you have in mind for these products? Once you confirm the categories, we can proceed to the product suggestion phase.\n",
      "human : Keep only Home Decor & Festive Needs, remove everytinhg else. And my budget is 50000\n",
      "system : The chosen categories are 'home decor festive needs' and 'furniture'. \n",
      "\n",
      "- **Home Decor Festive Needs**: This category includes products like festive decorations, lights, candles, and other items to decorate your home for special occasions and holidays.\n",
      "  \n",
      "- **Furniture**: This category includes a wide range of furniture items such as sofas, beds, tables, chairs, and storage units for different rooms in your home.\n",
      "\n",
      "Would you like to add or remove any categories? Do you have a specific budget range in mind for your purchases? \n",
      "\n",
      "Once you confirm the categories and budget range, we can proceed to the product suggestion phase.\n",
      "human : Yes! thanks. I am ready to proceed to the product suggestions.\n",
      "system : Final requirements:['home_decor_festive_needs', 'furniture']\n",
      "-p--p--p--p--p--p--p--p--p--p--p--p--p--p--p--p--p--p--p--p-\n",
      "is the user planning to move to a new place??????? : {'move_to_place': True, 'new_place': 'Bangaluru PG'}\n",
      "New place handler ...\n",
      "Human node (secondary) ...\n",
      "So finally we have the following requirements:\n",
      " {\n",
      "    \"home_decor_festive_needs\": {\n",
      "        \"secondary_status\": \"completed\",\n",
      "        \"list_of_requirements\": [\n",
      "            [\n",
      "                \"1. Looking for portraits for home decor.\",\n",
      "                \"2. Looking for vases for home decor.\"\n",
      "            ],\n",
      "            [],\n",
      "            []\n",
      "        ],\n",
      "        \"list_of_products\": [\n",
      "            [\n",
      "                \"374e63028d691c380bc43b0dc60e460d\",\n",
      "                \"a9b35b94610a3d7f4fa91f19693c5248\",\n",
      "                \"9fc5abcec10971e8ac2d24f4d04e7285\",\n",
      "                \"5c0fe2919e49f30aff91d46800cdf149\",\n",
      "                \"da07e6f4b4701f12594c30075437e64b\",\n",
      "                \"550ffbc5ca22a8a7c0306ae25bf5c5fe\",\n",
      "                \"ace2eefee15eaaece06c1ac9bf5ca24b\",\n",
      "                \"83853f53933a22fff0063c036f790d6e\",\n",
      "                \"112c1e553b33bc6ae56fa2eaba9a2b40\",\n",
      "                \"6f38c6979801cc982caeef2372e534e8\"\n",
      "            ],\n",
      "            [\n",
      "                \"87a1aaea1c0a29103aa215612fe3ea34\",\n",
      "                \"4be83404abf7b67620d2a6bac2b76961\",\n",
      "                \"aebf3a2172b33ef09acb472009967812\",\n",
      "                \"04f9f818e2d657b873b07578cfe2eade\",\n",
      "                \"8bd20dd60cfec67107e655444697aabf\",\n",
      "                \"caf607bb64fae9f706795478291a30fb\",\n",
      "                \"db9af576e8d8274d87b42d0f6cf66d16\",\n",
      "                \"9405e159b25bb22ea0aafd62d1a46f70\",\n",
      "                \"989179da5145c14335afdf89ceb90f62\",\n",
      "                \"168618e93387ad7171d4e4e1eeff9d1a\"\n",
      "            ]\n",
      "        ],\n",
      "        \"thread_conversation\": [],\n",
      "        \"price_lower_bounds\": [\n",
      "            1000.0,\n",
      "            0.0,\n",
      "            0.0\n",
      "        ],\n",
      "        \"price_upper_bounds\": [\n",
      "            5000.0,\n",
      "            100000.0,\n",
      "            100000.0\n",
      "        ],\n",
      "        \"secondary_done\": \"completed\"\n",
      "    },\n",
      "    \"furniture\": {\n",
      "        \"secondary_status\": \"completed\",\n",
      "        \"list_of_requirements\": [\n",
      "            [\n",
      "                \"1. I am looking for portraits for my home decor.\",\n",
      "                \"2. I am looking for a vase to decorate my home.\"\n",
      "            ],\n",
      "            []\n",
      "        ],\n",
      "        \"list_of_products\": [\n",
      "            [\n",
      "                \"5bad20f1e26aaa4f21b3aa75ac0d7b8e\",\n",
      "                \"c0e5cfc2688fbd1a5f23490851c7a0c0\",\n",
      "                \"eae96eb20ef0f1cb1c6897a01906c54c\",\n",
      "                \"b2b61374b0798366fe7ecdeb545f7d2a\",\n",
      "                \"a340df5d870c065b444beca8d23e413d\",\n",
      "                \"5257a4216bb386bc708744102e036b95\",\n",
      "                \"da35b6ceecbd0c625498e18523d43f98\",\n",
      "                \"72b6bb99fca8f9c387aaf293c3018dd6\",\n",
      "                \"d8741bffd9bd39f942d8dae5a5d10dc6\",\n",
      "                \"12bbe7d56528c3b8d8623166d49f753c\"\n",
      "            ]\n",
      "        ],\n",
      "        \"thread_conversation\": [],\n",
      "        \"price_lower_bounds\": [\n",
      "            1000.0,\n",
      "            0.0\n",
      "        ],\n",
      "        \"price_upper_bounds\": [\n",
      "            5000.0,\n",
      "            100000.0\n",
      "        ],\n",
      "        \"secondary_done\": \"completed\"\n",
      "    }\n",
      "}\n"
     ]
    }
   ],
   "source": [
    "snap = my_agent.resume_with_user_input_secondary(\"No thanks! That's it for now.\")"
   ]
  },
  {
   "cell_type": "code",
   "execution_count": 68,
   "metadata": {},
   "outputs": [],
   "source": [
    "# snap"
   ]
  },
  {
   "cell_type": "code",
   "execution_count": 1114,
   "metadata": {},
   "outputs": [
    {
     "name": "stdout",
     "output_type": "stream",
     "text": [
      "['bags_wallets_belts', 'beauty_and_personal_care', 'watches', 'sunglasses', 'sports_fitness', 'health_personal_care_appliances', 'home_decor_festive_needs', 'home_furnishing', 'kithen_dining', 'homes_kitchen', 'furniture', 'pet_supplies', 'pens_stationery', 'automotive', 'tools_hardware', 'baby_care', 'mobile_accessories', 'computers', 'cameras_accessories', 'gaming', 'home_improvement', 'home_entertainment']\n",
      "['clothing', 'jewellery']\n"
     ]
    }
   ],
   "source": [
    "print(my_agent.get_recent_state_snap()['first_level_not_chosen'])\n",
    "print(my_agent.get_recent_state_snap()['first_level_chosen'])"
   ]
  },
  {
   "cell_type": "code",
   "execution_count": 1115,
   "metadata": {},
   "outputs": [
    {
     "data": {
      "text/plain": [
       "{'clothing': {'secondary_status': 'completed',\n",
       "  'list_of_requirements': [['Ethnic wear - Sarees suitable for older women'],\n",
       "   []],\n",
       "  'list_of_products': [['clothing_1_0',\n",
       "    'clothing_1_1',\n",
       "    'clothing_1_2',\n",
       "    'clothing_1_3',\n",
       "    'clothing_1_4']],\n",
       "  'thread_conversation': [SystemMessage(content='Do you want to add a new product under the same category or move to the next category?')],\n",
       "  'secondary_done': 'completed'},\n",
       " 'jewellery': {'secondary_status': 'new requirement',\n",
       "  'list_of_requirements': [[]],\n",
       "  'list_of_products': [],\n",
       "  'thread_conversation': []}}"
      ]
     },
     "execution_count": 1115,
     "metadata": {},
     "output_type": "execute_result"
    }
   ],
   "source": [
    "my_agent.get_recent_state_snap()['requirements']"
   ]
  },
  {
   "cell_type": "code",
   "execution_count": 1116,
   "metadata": {},
   "outputs": [],
   "source": [
    "# ['clothing','food']\n",
    "\n",
    "\n",
    "\n",
    "# clothing\n",
    "\n",
    "# chat\n",
    "# sytem: tell clothing required\n",
    "# human: sold seasonm  , girls\n",
    "# systiem: tell me more \n",
    "# human: no\n",
    "# [p1,pp2, p3]\n",
    "# ->add to cart\n",
    "\n",
    "\n",
    "# ..... repeat\n",
    "\n",
    "\n",
    "\n",
    "\n",
    "# clothijng close\n",
    "\n",
    "# food\n"
   ]
  },
  {
   "cell_type": "code",
   "execution_count": null,
   "metadata": {},
   "outputs": [],
   "source": []
  },
  {
   "cell_type": "code",
   "execution_count": null,
   "metadata": {},
   "outputs": [],
   "source": []
  }
 ],
 "metadata": {
  "kernelspec": {
   "display_name": ".venv",
   "language": "python",
   "name": "python3"
  },
  "language_info": {
   "codemirror_mode": {
    "name": "ipython",
    "version": 3
   },
   "file_extension": ".py",
   "mimetype": "text/x-python",
   "name": "python",
   "nbconvert_exporter": "python",
   "pygments_lexer": "ipython3",
   "version": "3.10.4"
  }
 },
 "nbformat": 4,
 "nbformat_minor": 2
}
