{
 "cells": [
  {
   "cell_type": "code",
   "execution_count": 59,
   "metadata": {},
   "outputs": [],
   "source": [
    "from typing import Annotated\n",
    "from typing_extensions import TypedDict\n",
    "from typing import TypedDict, Literal, List, Union\n",
    "\n",
    "import langgraph\n",
    "from langgraph.graph import StateGraph\n",
    "from langgraph.graph.message import add_messages\n",
    "from langgraph.prebuilt import ToolNode, tools_condition\n",
    "\n",
    "from langchain_core.tools import tool\n",
    "from langchain_openai import ChatOpenAI, OpenAIEmbeddings\n",
    "from langchain_core.messages import HumanMessage, SystemMessage,ToolMessage\n",
    "from langchain_core.pydantic_v1 import BaseModel, Field\n",
    "from langchain_core.prompts import ChatPromptTemplate\n",
    "from langgraph.checkpoint.sqlite import SqliteSaver\n",
    "\n",
    "import json\n",
    "from IPython.display import Image, display\n",
    "\n",
    "import os\n",
    "from langchain_qdrant import QdrantVectorStore\n",
    "from qdrant_client import QdrantClient\n",
    "from qdrant_client.http.models import Distance, VectorParams\n",
    "from tqdm import tqdm\n",
    "from dotenv import load_dotenv"
   ]
  },
  {
   "cell_type": "code",
   "execution_count": 60,
   "metadata": {},
   "outputs": [
    {
     "data": {
      "text/plain": [
       "True"
      ]
     },
     "execution_count": 60,
     "metadata": {},
     "output_type": "execute_result"
    }
   ],
   "source": [
    "load_dotenv(\"./.env\")"
   ]
  },
  {
   "cell_type": "markdown",
   "metadata": {},
   "source": [
    "## Initializing Vector Store"
   ]
  },
  {
   "cell_type": "code",
   "execution_count": 61,
   "metadata": {},
   "outputs": [],
   "source": [
    "def get_category_wise_vector_store():\n",
    "    client = QdrantClient(url=os.getenv(\"QDRANT_URL\"),api_key=os.getenv(\"QDRANT_API_KEY\"))\n",
    "    collections_dict = client.get_collections().dict()\n",
    "    all_collections = [collection['name'] for collection in collections_dict['collections']]\n",
    "    category_wise_vector_store = {}\n",
    "    for category in tqdm(all_collections):\n",
    "        category_wise_vector_store[category] = QdrantVectorStore(\n",
    "            client=client,\n",
    "            collection_name=category,\n",
    "            embedding=OpenAIEmbeddings(model=\"text-embedding-3-large\"),\n",
    "        )\n",
    "    return category_wise_vector_store"
   ]
  },
  {
   "cell_type": "code",
   "execution_count": 62,
   "metadata": {},
   "outputs": [
    {
     "name": "stderr",
     "output_type": "stream",
     "text": [
      "100%|██████████| 27/27 [00:32<00:00,  1.21s/it]\n"
     ]
    }
   ],
   "source": [
    "CATEGORY_WISE_VECTOR_STORE = get_category_wise_vector_store()"
   ]
  },
  {
   "cell_type": "markdown",
   "metadata": {},
   "source": [
    "## Engines"
   ]
  },
  {
   "cell_type": "code",
   "execution_count": 63,
   "metadata": {},
   "outputs": [],
   "source": [
    "class LangchainJSONEngine:\n",
    "    def __init__(self, sampleBaseModel: BaseModel, systemPromptText: str=None, humanPromptText: str=None):\n",
    "        self.llm = llm = ChatOpenAI(model=\"gpt-3.5-turbo\", temperature=0)\n",
    "        self.structured_llm = llm.with_structured_output(sampleBaseModel)\n",
    "        \n",
    "        if systemPromptText is None:\n",
    "            self.systemPromptText = \"\"\"\n",
    "            You are an AI assistant. You are helping a user with a task. The user is asking you questions and you are answering them.\n",
    "            \"\"\"\n",
    "        else:\n",
    "            self.systemPromptText = systemPromptText\n",
    "\n",
    "        if humanPromptText is None:\n",
    "            self.HumanPromptText = \"\"\"\n",
    "            Human: {query}\n",
    "            \"\"\"\n",
    "        else:\n",
    "            self.humanPromptText = humanPromptText\n",
    "\n",
    "        self.prompt = ChatPromptTemplate.from_messages(\n",
    "            [(\"system\", self.systemPromptText), (\"human\", \"Query:\\n\\n {query}\")])\n",
    "        \n",
    "        self.micro_agent = self.prompt | self.structured_llm\n",
    "\n",
    "    def run(self, query: str):\n",
    "        result = self.micro_agent.invoke({\n",
    "            \"query\": query\n",
    "        }) \n",
    "        return result\n",
    "    \n",
    "\n",
    "class LangchainSimpleEngine:\n",
    "    def __init__(self, tools:List[tool]=[], systemPromptText: str=None, humanPromptText: str=None):\n",
    "        self.llm = llm = ChatOpenAI(model=\"gpt-3.5-turbo\", temperature=0)\n",
    "        self.tools = tools\n",
    "        \n",
    "        if len(tools) == 0:\n",
    "            self.llm_with_tools = llm\n",
    "        else:\n",
    "            self.llm_with_tools = llm.bind_tools(tools)\n",
    "            \n",
    "        if systemPromptText is None:\n",
    "            self.systemPromptText = \"\"\"\n",
    "            You are an AI assistant. You are helping a user with a task. The user is asking you questions and you are answering them.\n",
    "            \"\"\"\n",
    "        else:\n",
    "            self.systemPromptText = systemPromptText\n",
    "\n",
    "        if humanPromptText is not None: \n",
    "            print(\"Skipping human prompt text ...\")\n",
    "\n",
    "    def run(self, query: str):\n",
    "        messages = [\n",
    "            SystemMessage(self.systemPromptText),\n",
    "            HumanMessage(content=query)\n",
    "        ]\n",
    "        level1_result = self.llm_with_tools.invoke(messages)\n",
    "        if len(level1_result.tool_calls) == 0:\n",
    "            print(\"No tools to run ...\")\n",
    "            return level1_result\n",
    "        else:\n",
    "            print(\"Running tools ...\")\n",
    "            for tool_call in level1_result.tool_calls:\n",
    "                tool_output = tool_call.invoke()\n",
    "                messages.append(ToolMessage(tool_output, tool_call_id=tool_call[\"id\"]))\n",
    "            level2_result = self.llm_with_tools.invoke(messages)\n",
    "            return level2_result"
   ]
  },
  {
   "cell_type": "markdown",
   "metadata": {},
   "source": [
    "## Pydantics"
   ]
  },
  {
   "cell_type": "code",
   "execution_count": 64,
   "metadata": {},
   "outputs": [],
   "source": [
    "class SituationalRequirement1(BaseModel):\n",
    "    clothing: bool = Field(description=\"Whether clothing products are relevant to the user's situation.\")\n",
    "    bags_wallets_belts: bool = Field(description=\"Whether bags, wallets, and belts are relevant to the user's situation.\")\n",
    "    jewellery: bool = Field(description=\"Whether jewellery products are relevant to the user's situation.\")\n",
    "    beauty_and_personal_care: bool = Field(description=\"Whether beauty and personal care products are relevant to the user's situation.\")\n",
    "    watches: bool = Field(description=\"Whether watches are relevant to the user's situation.\")\n",
    "    sunglasses: bool = Field(description=\"Whether sunglasses are relevant to the user's situation.\")\n",
    "    sports_fitness: bool = Field(description=\"Whether sports and fitness products are relevant to the user's situation.\")\n",
    "    health_personal_care_appliances: bool = Field(description=\"Whether health and personal care appliances are relevant to the user's situation.\")\n",
    "    home_decor_festive_needs: bool = Field(description=\"Whether home decor and festive needs are relevant to the user's situation.\")\n",
    "    home_furnishing: bool = Field(description=\"Whether home furnishing products are relevant to the user's situation.\")\n",
    "    kithen_dining: bool = Field(description=\"Whether kitchen and dining products are relevant to the user's situation.\")\n",
    "    homes_kitchen: bool = Field(description=\"Whether home and kitchen products are relevant to the user's situation.\")"
   ]
  },
  {
   "cell_type": "code",
   "execution_count": 165,
   "metadata": {},
   "outputs": [],
   "source": [
    "class SituationalRequirement2(BaseModel):\n",
    "    furniture: bool = Field(description=\"Whether furniture products are relevant to the user's situation.\")\n",
    "    pet_supplies: bool = Field(description=\"Whether pet supplies are relevant to the user's situation.\")\n",
    "    pens_stationery: bool = Field(description=\"Whether pens and stationery products are relevant to the user's situation.\")\n",
    "    automotive: bool = Field(description=\"Whether automotive products are relevant to the user's situation.\")\n",
    "    tools_hardware: bool = Field(description=\"Whether tools and hardware products are relevant to the user's situation.\")\n",
    "    baby_care: bool = Field(description=\"Whether baby care products are relevant to the user's situation.\")\n",
    "    mobile_accessories: bool = Field(description=\"Whether mobile accessories are relevant to the user's situation.\")\n",
    "    computers: bool = Field(description=\"Whether computer products are relevant to the user's situation.\")\n",
    "    cameras_accessories: bool = Field(description=\"Whether cameras and accessories are relevant to the user's situation.\")\n",
    "    gaming: bool = Field(description=\"Whether gaming products are relevant to the user's situation.\")\n",
    "    home_improvement: bool = Field(description=\"Whether home improvement products are relevant to the user's situation.\")\n",
    "    home_entertainment: bool = Field(description=\"Whether home entertainment products are relevant to the user's situation.\")\n",
    "    budget_value : float = Field(description=\"The budget value, the user has for the products. If the user has not specified any budget, then the value is 10000.00\")"
   ]
  },
  {
   "cell_type": "code",
   "execution_count": 166,
   "metadata": {},
   "outputs": [],
   "source": [
    "# class Budget(BaseModel):\n",
    "#     budget_value : float = Field(description=\"The budget value in INR.\")"
   ]
  },
  {
   "cell_type": "code",
   "execution_count": 167,
   "metadata": {},
   "outputs": [],
   "source": [
    "class UserRequirement(BaseModel):\n",
    "    requirement_list: List[str] = Field(description=\"List of requirements that the user has. Each requirement should be detailed and unique.\")\n",
    "    price_lower_bound: float = Field(description=\"The lower bound of the price range that the user is looking for in INR. Default: 0\")\n",
    "    price_upper_bound: float = Field(description=\"The upper bound of the price range that the user is looking for in INR. Default: 100000\")"
   ]
  },
  {
   "cell_type": "code",
   "execution_count": 168,
   "metadata": {},
   "outputs": [],
   "source": [
    "class RequirementFullfilled(BaseModel):\n",
    "    is_fullfilled: bool = Field(description=\"Whether the user's requirements are fullfilled.\")"
   ]
  },
  {
   "cell_type": "code",
   "execution_count": 169,
   "metadata": {},
   "outputs": [],
   "source": [
    "class RequirementStatus(BaseModel):\n",
    "    satisfaction_status: bool = Field(description=\"Whether the user is very satisfied with all the requirements.\")"
   ]
  },
  {
   "cell_type": "code",
   "execution_count": 170,
   "metadata": {},
   "outputs": [],
   "source": [
    "class AskingsForNewProduct(BaseModel):\n",
    "    asking_for_new_product: bool = Field(description=\"Whether the user is asking for a new/another type of product.\")"
   ]
  },
  {
   "cell_type": "markdown",
   "metadata": {},
   "source": [
    "## State"
   ]
  },
  {
   "cell_type": "code",
   "execution_count": 185,
   "metadata": {},
   "outputs": [],
   "source": [
    "class AgentState(TypedDict):\n",
    "    cur_state: str\n",
    "    messages: Annotated[list, add_messages]\n",
    "    requirements: dict = {}\n",
    "    first_level_chosen: List[str] = []\n",
    "    first_level_not_chosen: List[str] = []\n",
    "    mode: str = \"idle\"\n",
    "    recently_added: List[str] = []\n",
    "    CATEGORY_WISE_VECTOR_STORE: dict\n",
    "    budget: float = 10000.00"
   ]
  },
  {
   "cell_type": "markdown",
   "metadata": {},
   "source": [
    "## Agent Utils"
   ]
  },
  {
   "cell_type": "code",
   "execution_count": 186,
   "metadata": {},
   "outputs": [],
   "source": [
    "def welcome(state:AgentState)->AgentState:\n",
    "    msg = SystemMessage(\"Welcome to the AI assistant. I am here to help you with your shopping needs. Tell me about your situation and I will suggest products accordingly. You may also suggest a budget of your cart ...\")\n",
    "    print(msg.content)\n",
    "    state['messages'].append(msg)\n",
    "    # print(f\"Current messages: {state['messages']}\")\n",
    "    return state\n",
    "\n",
    "\n",
    "def secondary_welcome(state:AgentState)->AgentState:\n",
    "    msg = SystemMessage(f\"Hi looks like you are looking for some {state['cur_state']} products. I can help you with that. Tell me about your requirements and I will suggest products accordingly. You may also suggest a price range.\")\n",
    "    print(msg.content)\n",
    "    print(\"state['requirements'][state['cur_state']]: \",state['requirements'][state['cur_state']])\n",
    "    state['requirements'][state['cur_state']]['thread_conversation'].append(msg)\n",
    "    return state"
   ]
  },
  {
   "cell_type": "code",
   "execution_count": 187,
   "metadata": {},
   "outputs": [],
   "source": [
    "def exit_from_requirements(state:AgentState)->AgentState:\n",
    "    msg = SystemMessage(f\"Final requirements:{state['first_level_chosen']}\")\n",
    "    print(msg.content)\n",
    "    state['messages'].append(msg)\n",
    "\n",
    "    print(f\"Requirements: {state['requirements']}\")\n",
    "    for req in state['first_level_chosen']:\n",
    "        state['requirements'][req] = {\n",
    "            \"secondary_status\": \"new requirement\",\n",
    "            \"list_of_requirements\": [[]],\n",
    "            \"list_of_products\": [],\n",
    "            \"thread_conversation\":[],\n",
    "            \"price_lower_bounds\": [0.],\n",
    "            \"price_upper_bounds\": [100000.]\n",
    "        }\n",
    "        print(f\"Added {req} to the requirements list.\")\n",
    "\n",
    "    return state\n",
    "\n",
    "def exit_from_requirements_secondary(state:AgentState)->AgentState:\n",
    "    print(f\"Exiting category {state['cur_state']} ...\")\n",
    "    msg = SystemMessage(f\"Final requirements:{state['first_level_chosen']}\")\n",
    "    print(msg.content)\n",
    "    # state['messages'].append(msg)\n",
    "    state['requirements'][state['cur_state']]['secondary_status'] = \"completed\"\n",
    "    return state\n",
    "\n",
    "def final_exit(state:AgentState)->AgentState: \n",
    "    # Clearing all threads\n",
    "    for key in state['requirements']:\n",
    "        state['requirements'][key]['thread_conversation'] = []\n",
    "    msg = SystemMessage(f\"So finally we have the following requirements:\\n {json.dumps(state['requirements'], indent=4)}\")\n",
    "    print(msg.content)\n",
    "    state['messages'].append(msg)\n",
    "    return state"
   ]
  },
  {
   "cell_type": "code",
   "execution_count": 188,
   "metadata": {},
   "outputs": [],
   "source": [
    "def generate_situational_requirements(user_situation: str,update_mode=False):\n",
    "    \"\"\" \n",
    "    This tool generates situational requirements based on the user's situation. \n",
    "    \"\"\"\n",
    "\n",
    "    systemPromptText = \"\"\"You are an AI assistant. \n",
    "    You are helping a user who is looking for products on an e-commerce platform. \n",
    "    He/she will tell you about his/her situation and you will suggest products accordingly those perfectly fit his/her situational requirements.\n",
    "    You are given a list of possible categories, you have to determine whether products from these categories are relevant to the user's situation or not.\n",
    "    \"\"\"\n",
    "\n",
    "    if not update_mode:\n",
    "        query = f\"\"\"\n",
    "        User: I am looking for products on an e-commerce platform.\n",
    "        My current situation is: {user_situation}\n",
    "        \"\"\"\n",
    "    else:\n",
    "        query=f\"\"\"\n",
    "        User: These are previous conversation messages.\n",
    "        {user_situation}\n",
    "        Now determine the situational requirements based on the user's situation.\n",
    "        \"\"\"\n",
    "\n",
    "    engine1 = LangchainJSONEngine(SituationalRequirement1, systemPromptText=systemPromptText)\n",
    "    engine2 = LangchainJSONEngine(SituationalRequirement2, systemPromptText=systemPromptText)\n",
    "\n",
    "    result1 = engine1.run(query).dict()\n",
    "    result2 = engine2.run(query).dict()\n",
    "    budget_value = result2['budget_value']\n",
    "    del result2['budget_value']\n",
    "    result1.update(result2)\n",
    "\n",
    "    return result1, budget_value\n",
    "\n",
    "\n",
    "def generate_secondary_requirements(chat_conversation):\n",
    "    \"\"\"\n",
    "    This tool generates secondary requirements based on the user's requirements.\n",
    "    \"\"\"\n",
    "\n",
    "    systemPromptText = \"\"\"You are an AI assistant. \n",
    "    You are helping a user who is looking for products on an e-commerce platform. \n",
    "    Your task is to determine the user's requirements based on the conversation.\n",
    "    Generate a list of detailed requirements that the user has. \n",
    "    You also have to determine the price range that the user is looking for.\n",
    "\n",
    "    Example: For a clothing product. [Requirement 1: The product should be of a specific brand. Requirement 2: The product should be of a specific color. Requirement 3: The product should be of a specific size.]\n",
    "    price_lower_bound: 0\n",
    "    price_upper_bound: 10000\n",
    "    \"\"\"\n",
    "\n",
    "    query = f\"\"\"\n",
    "    Chat conversation: {chat_conversation}\n",
    "    \"\"\"\n",
    "\n",
    "    engine = LangchainJSONEngine(UserRequirement, systemPromptText=systemPromptText)\n",
    "    result = engine.run(query).dict()\n",
    "    \n",
    "    return result"
   ]
  },
  {
   "cell_type": "code",
   "execution_count": 189,
   "metadata": {},
   "outputs": [],
   "source": [
    "def summarize_chosen_categories(first_level_chosen:List[str]):\n",
    "    systemPromptText = \"\"\"You are an AI assistant.\n",
    "    You are helping a user who is looking for products on an e-commerce platform. \n",
    "    There are some AI suggested categories that are relevant to the user's situation.\n",
    "    You have to summarize the chosen categeroies and tell the user about the categories.\n",
    "    You all also if he/she wants to add or remove any categories. Also mention if there is any budget range available or mentioned by the user.\n",
    "    Also, you have to ask the user if he/she wants to proceed to the product suggestion phase if the chosen categories are correct.\n",
    "    \"\"\"\n",
    "\n",
    "    query = f\"\"\"\n",
    "    Some AI suggested chosen categories: {first_level_chosen}\n",
    "    \"\"\"\n",
    "\n",
    "    engine = LangchainSimpleEngine(systemPromptText=systemPromptText)\n",
    "    result = engine.run(query)\n",
    "\n",
    "    return result.content\n",
    "\n",
    "\n",
    "def summarize_secondary_requirements(requirement_list:List[str]):\n",
    "    systemPromptText = \"\"\"You are an AI assistant.\n",
    "    You are helping a user who is looking for products on an e-commerce platform. \n",
    "    There are some AI suggested requirements that based on the user's chat conversation with the AI.\n",
    "\n",
    "    You have to summarize the chosen requirements and tell the user about the requirements.\n",
    "    You also tell if he/she wants to add or remove any requirements. Tell the user if he/she wants to modify the price range.\n",
    "    Also, you have to ask the user if he/she wants to \n",
    "        1. Add a new product under same category\n",
    "        2. Completed with this category and move to the next category\n",
    "\n",
    "    \"\"\"\n",
    "\n",
    "    query = f\"\"\"\n",
    "    Some AI suggested chosen requirements: {requirement_list}\n",
    "    \"\"\"\n",
    "\n",
    "    engine = LangchainSimpleEngine(systemPromptText=systemPromptText)\n",
    "    result = engine.run(query)\n",
    "\n",
    "    return result.content"
   ]
  },
  {
   "cell_type": "code",
   "execution_count": 190,
   "metadata": {},
   "outputs": [],
   "source": [
    "def check_statisfied(state:AgentState)->AgentState:\n",
    "    chat = \"\\n\".join([f\"{msg.type} : {msg.content}\" for msg in state['messages']])\n",
    "    systemPromptText = \"\"\"You are an AI assistant.\n",
    "    You are helping a user who is looking for products on an e-commerce platform.\n",
    "    You read the user's previous conversations and determine whether the user has described all his/her requirements and ready to proceed with the product suggestions.\n",
    "    \"\"\"\n",
    "\n",
    "    query = f\"\"\"\n",
    "    Previous messages: {chat}\n",
    "    Now tell me, are all the user's requirements fullfilled?\n",
    "    \"\"\"\n",
    "\n",
    "    engine = LangchainJSONEngine(RequirementFullfilled, systemPromptText=systemPromptText)\n",
    "    result = engine.run(query).dict()\n",
    "    state['is_fullfilled'] = result['is_fullfilled']\n",
    "\n",
    "    print(f\"Is fullfilled ??????? : {state['is_fullfilled']}\")\n",
    "\n",
    "    return state['is_fullfilled']\n",
    "    \n",
    "\n",
    "def check_statisfied_secondary(state:AgentState)->AgentState:\n",
    "    chat = \"\\n\".join([f\"{msg.type} : {msg.content}\" for msg in state['requirements'][state['cur_state']]['thread_conversation']])\n",
    "\n",
    "    print(\"(Sec) Chat: \",chat)\n",
    "    systemPromptText = f\"\"\"You are an AI assistant.\n",
    "    You are helping a human who is looking for {\"clothing\"} products on an e-commerce platform.\n",
    "    You read the human's previous conversations and determine the status of the conversation.\n",
    "    You have to determine whether the user is asking for a new requirement or he/she is satisfied with the current requirements.\n",
    "    \"\"\"\n",
    "\n",
    "    query = f\"\"\"\n",
    "    Previous conversations: {chat}\n",
    "    What is the status of the conversation?\n",
    "    \"\"\"\n",
    "\n",
    "    engine = LangchainJSONEngine(RequirementStatus, systemPromptText=systemPromptText)\n",
    "    result = engine.run(query).dict()\n",
    "\n",
    "    state['requirements'][state['cur_state']]['secondary_done'] = \"completed\" if result['satisfaction_status'] else \"new requirement\"\n",
    "    print(f\"Is fullfilled (secondary) ??????? : {result}\")\n",
    "    return state['requirements'][state['cur_state']]['secondary_done']\n",
    "\n",
    "\n",
    "def check_asking_for_new_product_secondary(state:AgentState)->AgentState:\n",
    "    chat = \"\\n\".join([f\"{msg.type} : {msg.content}\" for msg in state['requirements'][state['cur_state']]['thread_conversation']])\n",
    "    print(\"----------------------> >  >> > .\",chat)\n",
    "    print(\"----!----\"*21)\n",
    "    systemPromptText = \"\"\"You are an AI assistant.\n",
    "    You are helping a user who is looking for products on an e-commerce platform.\n",
    "    You read the user's previous conversations and determine whether the user is interested in a new product.\n",
    "    \"\"\"\n",
    "\n",
    "    query = f\"\"\"\n",
    "    Previous messages: {chat}\n",
    "    Now tell me, is the user asking for a new product?\n",
    "    \"\"\"\n",
    "\n",
    "    engine = LangchainJSONEngine(AskingsForNewProduct, systemPromptText=systemPromptText)\n",
    "    result = engine.run(query).dict()\n",
    "\n",
    "    print(f\"Is asking for new product ??????? : {result}\")\n",
    "\n",
    "    if result['asking_for_new_product']:\n",
    "        state['requirements'][state['cur_state']]['secondary_done'] = \"new requirement\"\n",
    "\n",
    "    return 'asking for new product' if result['asking_for_new_product'] else 'completed'"
   ]
  },
  {
   "cell_type": "code",
   "execution_count": 191,
   "metadata": {},
   "outputs": [],
   "source": [
    "# check_statisfied_secondary(\"\"\"\n",
    "#                            system : Hi looks like you are looking for some clothing products. I can help you with that. Tell me about your requirements and I will suggest products accordingly.\n",
    "# human : I want to go to a wedding party. So i want ethnic wear, jewellery, and beauty products.\n",
    "# system : Final requirements:['clothing', 'jewellery', 'beauty_and_personal_care']\n",
    "# human: let go ahead, I need another saree for my office inauguration.               \n",
    "# \"\"\")"
   ]
  },
  {
   "cell_type": "code",
   "execution_count": 192,
   "metadata": {},
   "outputs": [],
   "source": [
    "def human_node(state:AgentState)->AgentState:\n",
    "    print(\"Human node ...\")\n",
    "    # print(f\"Current messages: {state['messages']}\")\n",
    "    return state\n",
    "\n",
    "def human_node_secondary(state:AgentState)->AgentState:\n",
    "    print(\"Human node (secondary) ...\")\n",
    "    # print(f\"Current messages: {state[state['cur_state']]['thread_conversation']}\")\n",
    "    state['recently_added'] = []\n",
    "    return state"
   ]
  },
  {
   "cell_type": "code",
   "execution_count": 193,
   "metadata": {},
   "outputs": [],
   "source": [
    "def refine_requirement(reqs:dict):\n",
    "    chosen = []\n",
    "    not_chosen = []\n",
    "    for key, value in reqs.items():\n",
    "        if value == True:\n",
    "            chosen.append(key)\n",
    "        else:\n",
    "            not_chosen.append(key)\n",
    "    return chosen, not_chosen\n",
    "\n",
    "\n",
    "def ask_ai_first_level_requirements(state:AgentState)->AgentState:\n",
    "    previous_messages = state['messages']\n",
    "    chat = \"\\n\".join([f\"{msg.type} : {msg.content}\" for msg in previous_messages])\n",
    "    first_level_requirements,budget_value = generate_situational_requirements(chat,update_mode=True)\n",
    "    # state['requirements'] = first_level_requirements\n",
    "    first_level_chosen, first_level_not_chosen = refine_requirement(first_level_requirements)\n",
    "    state['budget'] = budget_value\n",
    "    state['first_level_chosen'] = first_level_chosen\n",
    "    state['first_level_not_chosen'] = first_level_not_chosen\n",
    "    summarized_ans = summarize_chosen_categories(first_level_chosen)\n",
    "    print(summarized_ans)\n",
    "    state['messages'].append(SystemMessage(summarized_ans))\n",
    "    return state\n",
    "\n",
    "def ask_ai_secondary_level_requirements(state:AgentState)->AgentState:\n",
    "    previous_messages = state['requirements'][state['cur_state']]['thread_conversation']\n",
    "    chat = \"\\n\".join([f\"{msg.type} : {msg.content}\" for msg in previous_messages])\n",
    "    secondary_level_requirements = generate_secondary_requirements(chat)\n",
    "    state['requirements'][state['cur_state']]['list_of_requirements'][-1]=(secondary_level_requirements['requirement_list'])\n",
    "    state['requirements'][state['cur_state']]['price_lower_bounds'][-1] = secondary_level_requirements['price_lower_bound']\n",
    "    state['requirements'][state['cur_state']]['price_upper_bounds'][-1] = secondary_level_requirements['price_upper_bound']\n",
    "\n",
    "    print(\"-\"*20)\n",
    "    print(\"price lower bounds: \",state['requirements'][state['cur_state']]['price_lower_bounds'])\n",
    "    print(\"price upper bounds: \",state['requirements'][state['cur_state']]['price_upper_bounds'])\n",
    "    print(secondary_level_requirements['requirement_list'])\n",
    "    print(\"-\"*20)\n",
    "\n",
    "    # state['requirements'][state['cur_state']]['thread_conversation'].append(HumanMessage(content=secondary_level_requirements['requirement_list']))\n",
    "    summarized_ans = summarize_secondary_requirements(secondary_level_requirements['requirement_list'])\n",
    "    print(summarized_ans)\n",
    "    state['requirements'][state['cur_state']]['thread_conversation'].append(SystemMessage(summarized_ans))\n",
    "    return state"
   ]
  },
  {
   "cell_type": "code",
   "execution_count": 194,
   "metadata": {},
   "outputs": [],
   "source": [
    "def iteration_start(state:AgentState)->AgentState:\n",
    "    print(\"Iteration start. Activating the levels one by one ...\")\n",
    "    state['mode'] = \"secondary\"\n",
    "    for req in state['requirements']:\n",
    "        if state['requirements'][req]['secondary_status'] == \"new requirement\":\n",
    "            print(f\"Activating {req} ...\")\n",
    "            state['cur_state'] = req\n",
    "            break;\n",
    "    return state\n",
    "\n",
    "def req_iterator(state:AgentState)->AgentState:\n",
    "    print(\"Req iterator ...\")\n",
    "    \n",
    "    for req in state['requirements']:\n",
    "        if state['requirements'][req]['secondary_status'] == \"new requirement\":\n",
    "            return True\n",
    "\n",
    "    state['cur_state'] = \"exit\"   \n",
    "    return False"
   ]
  },
  {
   "cell_type": "code",
   "execution_count": 195,
   "metadata": {},
   "outputs": [],
   "source": [
    "def dummy_secondary_req_handler(state:AgentState)->AgentState:\n",
    "    print(\"Dummy secondary req handler ...\")\n",
    "    print(f\"Requirements: {state['requirements']}\")\n",
    "    state['requirements'][state['cur_state']]['secondary_status'] = \"completed\"\n",
    "    return state"
   ]
  },
  {
   "cell_type": "code",
   "execution_count": 196,
   "metadata": {},
   "outputs": [],
   "source": [
    "def new_product_handler(state:AgentState)->AgentState:\n",
    "    print(\"New product handler ...\")\n",
    "    state['requirements'][state['cur_state']]['thread_conversation'] = []\n",
    "    state['requirements'][state['cur_state']]['list_of_requirements'].append([])\n",
    "    state['requirements'][state['cur_state']]['price_lower_bounds'].append(0.)\n",
    "    state['requirements'][state['cur_state']]['price_upper_bounds'].append(100000.)\n",
    "    msg = SystemMessage(f\"Do you want to add a new product under the same category or move to the next category?\")\n",
    "    state['requirements'][state['cur_state']]['thread_conversation'].append(msg)\n",
    "    print(\"%\"*12)\n",
    "    print(f\"Requirements: {state['requirements']}\")\n",
    "    print(\"%\"*12)\n",
    "    return state"
   ]
  },
  {
   "cell_type": "code",
   "execution_count": 197,
   "metadata": {},
   "outputs": [],
   "source": [
    "def sort_by_price_relevance(product_doc_list, price_lower_bound, price_upper_bound):\n",
    "    product_doc_list = product_doc_list.copy()\n",
    "    # Calculate the midpoint of the price range\n",
    "    price_midpoint = (price_lower_bound + price_upper_bound) / 2\n",
    "    def relevance(product_doc):\n",
    "        price = product_doc.metadata['discounted_price']\n",
    "        return abs(price - price_midpoint)\n",
    "    sorted_product_doc_list = sorted(product_doc_list, key=relevance)\n",
    "    # sorted_product_doc_list.reverse()\n",
    "\n",
    "    return sorted_product_doc_list\n",
    "\n",
    "\n",
    "def product_search(state:AgentState)->AgentState:\n",
    "    cur_reqs = state['requirements'][state['cur_state']]['list_of_requirements'][-1]\n",
    "    price_lower_bound = state['requirements'][state['cur_state']]['price_lower_bounds'][-1]\n",
    "    price_upper_bound = state['requirements'][state['cur_state']]['price_upper_bounds'][-1]\n",
    "    # Elastic search for products based on the requirements\n",
    "    # Currently dummy random products\n",
    "    # product_list = [f\"{state['cur_state']}_{len(state['requirements'][state['cur_state']]['list_of_requirements'])}_{i}\" for i in range(5)]\n",
    "    global CATEGORY_WISE_VECTOR_STORE\n",
    "    print(\"Searching products with reqs: \",\"\\n- \".join(cur_reqs))\n",
    "    product_doc_list = CATEGORY_WISE_VECTOR_STORE[state['cur_state']].similarity_search(\"\\n- \".join(cur_reqs),k=10)\n",
    "    if not(price_lower_bound==0. and price_upper_bound==100000.):\n",
    "        print(\"!!!! User is looking for a specific price range !!!!\")\n",
    "        product_doc_list = sort_by_price_relevance(product_doc_list, price_lower_bound, price_upper_bound)\n",
    "    # discounted_price is the key for each doc for the price\n",
    "    # Sort the doclist based on the relevanve of price range\n",
    "    print(f\"Showing products for {state['cur_state']} Price range: {price_lower_bound} - {price_upper_bound}\")\n",
    "    print(\"Product list: \",product_doc_list)\n",
    "    product_list = [doc.metadata['uniq_id'] for doc in product_doc_list]\n",
    "\n",
    "    state['requirements'][state['cur_state']]['list_of_products'].append(product_list)\n",
    "    state['recently_added'] = product_list\n",
    "    return state"
   ]
  },
  {
   "cell_type": "code",
   "execution_count": null,
   "metadata": {},
   "outputs": [],
   "source": []
  },
  {
   "cell_type": "code",
   "execution_count": 198,
   "metadata": {},
   "outputs": [],
   "source": [
    "# sample_state = AgentState(cur_state=\"welcome\", messages=[\n",
    "#     SystemMessage(\"Welcome to the AI assistant. I am here to help you with your shopping needs. Tell me about your situation and I will suggest products accordingly.\"),\n",
    "#     HumanMessage(\"I am trying to look cool for a party and I also want to gift\"),\n",
    "#     SystemMessage(\"Sure. Some possible categories are: clothing, bags_wallets_belts, jewellery, beauty_and_personal_care, watches, sunglasses. Are these categories relevant to your situation?\"),\n",
    "#     HumanMessage(\"I choose clothing, bags_wallets_belts, and jewellery.\"),\n",
    "#     SystemMessage(\"Great! Now let's move on to the next set of categories. Sre sure you want to proceed to product suggestions?\"),\n",
    "#     HumanMessage(\"No. I want also want to add beauty_and_personal_care, watches, and sunglasses.\"),\n",
    "#     SystemMessage(\"Great! Now let's move on to the next set of categories. Sre sure you want to proceed to product suggestions?\"),\n",
    "#     HumanMessage(\"Uhhm!.\")\n",
    "# ], requirements={})"
   ]
  },
  {
   "cell_type": "code",
   "execution_count": 199,
   "metadata": {},
   "outputs": [],
   "source": [
    "# _is_fullfilled = check_statisfied(sample_state)"
   ]
  },
  {
   "cell_type": "code",
   "execution_count": 200,
   "metadata": {},
   "outputs": [],
   "source": [
    "# _is_fullfilled"
   ]
  },
  {
   "cell_type": "markdown",
   "metadata": {},
   "source": [
    "## Creating Agent"
   ]
  },
  {
   "cell_type": "code",
   "execution_count": 201,
   "metadata": {},
   "outputs": [],
   "source": [
    "class MyAgent:\n",
    "    def __init__(self,thread_id):\n",
    "        self.config = None\n",
    "        self.app = None\n",
    "        self.build(thread_id)\n",
    "\n",
    "    def draw_workflow(self):\n",
    "        display(Image(self.app.get_graph(xray=True).draw_mermaid_png()))\n",
    "    \n",
    "    def build(self,thread_id):\n",
    "        workflow = StateGraph(AgentState)\n",
    "        workflow.add_node(\"welcome\", welcome)\n",
    "        workflow.add_node(\"human\", human_node)\n",
    "        workflow.add_node(\"ask_ai_first_level_requirements\", ask_ai_first_level_requirements)\n",
    "        workflow.add_node(\"exit_from_first_level_requirements\", exit_from_requirements)\n",
    "\n",
    "        workflow.add_node(\"iteration_start\", iteration_start)\n",
    "        workflow.add_node(\"welcome_secondary\", secondary_welcome)\n",
    "        workflow.add_node(\"human_secondary\", human_node_secondary)\n",
    "        workflow.add_node(\"human_secondary_new_prod\", human_node_secondary)\n",
    "        workflow.add_node(\"ask_ai_secondary_level_requirements\", ask_ai_secondary_level_requirements)\n",
    "        workflow.add_node(\"exit_from_requirements_secondary\", exit_from_requirements_secondary)\n",
    "\n",
    "\n",
    "        workflow.add_node(\"new_product_handler\", new_product_handler)\n",
    "        workflow.add_node(\"product_search\", product_search)\n",
    "        # workflow.add_node(\"dummy_secondary_req_handler\", dummy_secondary_req_handler)\n",
    "        workflow.add_node(\"final_exit\", final_exit)\n",
    "\n",
    "        \n",
    "\n",
    "        workflow.add_edge(\"welcome\", \"human\")\n",
    "        workflow.add_conditional_edges(\n",
    "            \"human\", \n",
    "            check_statisfied,\n",
    "            {\n",
    "                True: \"exit_from_first_level_requirements\",\n",
    "                False: \"ask_ai_first_level_requirements\"\n",
    "            }\n",
    "        )\n",
    "        workflow.add_edge(\"ask_ai_first_level_requirements\", \"human\")\n",
    "\n",
    "        workflow.add_edge(\"exit_from_first_level_requirements\", \"iteration_start\")\n",
    "        workflow.add_conditional_edges(\n",
    "            \"iteration_start\", \n",
    "            req_iterator,\n",
    "            {\n",
    "                True: \"welcome_secondary\",\n",
    "                False: \"final_exit\"\n",
    "            }\n",
    "        )\n",
    "\n",
    "        workflow.add_edge(\"welcome_secondary\", \"human_secondary\")\n",
    "        workflow.add_conditional_edges(\n",
    "            \"human_secondary\", \n",
    "            check_statisfied_secondary,\n",
    "            {\n",
    "                \"new requirement\": \"ask_ai_secondary_level_requirements\",\n",
    "                \"completed\": \"product_search\"\n",
    "            }\n",
    "        )\n",
    "\n",
    "        workflow.add_edge(\"ask_ai_secondary_level_requirements\", \"human_secondary\")    \n",
    "\n",
    "        workflow.add_edge(\"product_search\", \"exit_from_requirements_secondary\")\n",
    "        workflow.add_edge(\"exit_from_requirements_secondary\", \"new_product_handler\")\n",
    "        workflow.add_edge(\"new_product_handler\", \"human_secondary_new_prod\")\n",
    "        workflow.add_conditional_edges(\n",
    "            \"human_secondary_new_prod\", \n",
    "            check_asking_for_new_product_secondary,\n",
    "            {\n",
    "                'asking for new product': \"welcome_secondary\",\n",
    "                'completed': \"iteration_start\"\n",
    "            }\n",
    "        )\n",
    "        workflow.add_edge(\"final_exit\", langgraph.graph.END)\n",
    "\n",
    "        \n",
    "        workflow.set_entry_point(\"welcome\")\n",
    "        with SqliteSaver.from_conn_string(\":memory:\") as memory:\n",
    "            app = workflow.compile(\n",
    "                checkpointer=memory,\n",
    "                interrupt_before=[\"human\",\"human_secondary\",\"human_secondary_new_prod\"],\n",
    "            )\n",
    "        \n",
    "        self.app = app\n",
    "        self.config = {\"configurable\": {\"thread_id\": str(thread_id)}}\n",
    "        return app\n",
    "    \n",
    "\n",
    "      \n",
    "\n",
    "    \n",
    "    def get_recent_state_snap(self):\n",
    "        return self.app.get_state(config=self.config).values.copy()\n",
    "    \n",
    "    def get_last_message(self):\n",
    "        if self.get_recent_state_snap()[\"mode\"] == \"secondary\":\n",
    "            return self.get_last_secondary_message()\n",
    "        snap = self.get_recent_state_snap()\n",
    "        return snap[\"messages\"][-1]\n",
    "    \n",
    "    def get_last_secondary_message(self):\n",
    "        snap = self.get_recent_state_snap()\n",
    "        return snap[\"requirements\"][snap[\"cur_state\"]][\"thread_conversation\"][-1]\n",
    "\n",
    "    def continue_flow(self, state):\n",
    "        self.app.invoke(state, config=self.config)\n",
    "        return self.get_recent_state_snap()\n",
    "\n",
    "    def resume_with_user_input(self, user_input:str):\n",
    "        if self.get_recent_state_snap()[\"mode\"] == \"secondary\":\n",
    "            print(\"<<<<<<<<<<<<<<<<< Resuming secondary ...\")\n",
    "            return self.resume_with_user_input_secondary(user_input)\n",
    "        snap = self.get_recent_state_snap()\n",
    "        snap[\"messages\"].append(HumanMessage(user_input))\n",
    "        self.app.update_state(self.config, snap)\n",
    "        return self.continue_flow(None)\n",
    "    \n",
    "    def resume_with_user_input_secondary(self, user_input:str):\n",
    "        snap = self.get_recent_state_snap()\n",
    "        snap[\"requirements\"][snap[\"cur_state\"]][\"thread_conversation\"].append(HumanMessage(user_input))\n",
    "        self.app.update_state(self.config, snap)\n",
    "        return self.continue_flow(None)"
   ]
  },
  {
   "cell_type": "code",
   "execution_count": 202,
   "metadata": {},
   "outputs": [],
   "source": [
    "# config = {\"configurable\": {\"thread_id\": \"50\"}}"
   ]
  },
  {
   "cell_type": "code",
   "execution_count": 203,
   "metadata": {},
   "outputs": [],
   "source": [
    "my_agent = MyAgent(thread_id=50)"
   ]
  },
  {
   "cell_type": "code",
   "execution_count": 204,
   "metadata": {},
   "outputs": [],
   "source": [
    "# my_agent.draw_workflow()"
   ]
  },
  {
   "cell_type": "code",
   "execution_count": 205,
   "metadata": {},
   "outputs": [
    {
     "data": {
      "text/plain": [
       "dict_keys(['messages'])"
      ]
     },
     "execution_count": 205,
     "metadata": {},
     "output_type": "execute_result"
    }
   ],
   "source": [
    "my_agent.get_recent_state_snap().keys()"
   ]
  },
  {
   "cell_type": "code",
   "execution_count": 206,
   "metadata": {},
   "outputs": [
    {
     "name": "stdout",
     "output_type": "stream",
     "text": [
      "Welcome to the AI assistant. I am here to help you with your shopping needs. Tell me about your situation and I will suggest products accordingly. You may also suggest a budget of your cart ...\n"
     ]
    }
   ],
   "source": [
    "snap = my_agent.continue_flow({\n",
    "    \"cur_state\": \"Requirement Phase\",\n",
    "    \"requirements\": {},\n",
    "    \"mode\":\"primary\",\n",
    "    \"budget\": 100000.00,\n",
    "})"
   ]
  },
  {
   "cell_type": "code",
   "execution_count": 207,
   "metadata": {},
   "outputs": [
    {
     "name": "stdout",
     "output_type": "stream",
     "text": [
      "Welcome to the AI assistant. I am here to help you with your shopping needs. Tell me about your situation and I will suggest products accordingly. You may also suggest a budget of your cart ...\n"
     ]
    }
   ],
   "source": [
    "print(my_agent.get_recent_state_snap()['messages'][-1].content)"
   ]
  },
  {
   "cell_type": "code",
   "execution_count": 208,
   "metadata": {},
   "outputs": [
    {
     "name": "stdout",
     "output_type": "stream",
     "text": [
      "Human node ...\n",
      "Is fullfilled ??????? : False\n",
      "No tools to run ...\n",
      "The chosen categories are:\n",
      "1. Clothing\n",
      "2. Bags, Wallets, Belts\n",
      "3. Jewellery\n",
      "4. Home Entertainment\n",
      "\n",
      "Would you like to add or remove any categories? Do you have a specific budget range in mind for these products? \n",
      "Once you confirm the categories and budget range, we can proceed to the product suggestion phase.\n"
     ]
    }
   ],
   "source": [
    "snap = my_agent.resume_with_user_input(\"Hi! I am planning to go to a party and I want to look cool. I also want to gift something to my friend.\")"
   ]
  },
  {
   "cell_type": "code",
   "execution_count": 209,
   "metadata": {},
   "outputs": [
    {
     "name": "stdout",
     "output_type": "stream",
     "text": [
      "Human node ...\n"
     ]
    },
    {
     "name": "stdout",
     "output_type": "stream",
     "text": [
      "Is fullfilled ??????? : False\n",
      "No tools to run ...\n",
      "The chosen categories are \"clothing\" and \"jewellery\". \n",
      "\n",
      "- **Clothing**: This category includes a wide range of apparel such as tops, bottoms, dresses, outerwear, and more. You can explore different styles, sizes, and colors based on your preferences.\n",
      "\n",
      "- **Jewellery**: This category includes items like necklaces, earrings, bracelets, rings, and more. You can find pieces made from various materials like gold, silver, diamonds, gemstones, and more.\n",
      "\n",
      "Would you like to add or remove any categories? Do you have a specific budget range in mind for your shopping? Once you're ready, we can proceed to the product suggestion phase.\n"
     ]
    }
   ],
   "source": [
    "snap = my_agent.resume_with_user_input(\"Remove Home Entertainment and Bags, Wallets, Belts. And i have a budget arounf 35000\")"
   ]
  },
  {
   "cell_type": "code",
   "execution_count": 157,
   "metadata": {},
   "outputs": [],
   "source": [
    "# snap = my_agent.resume_with_user_input(\"No! I want to gift some techinical gadgets to my friend. Like a smartwatch, a pair of headphones, and a power bank. Keep the rest of the categories same.\")\n",
    "# snap = my_agent.resume_with_user_input(\"Add, beauty and personal care, watches, and sunglasses.\")"
   ]
  },
  {
   "cell_type": "code",
   "execution_count": 212,
   "metadata": {},
   "outputs": [
    {
     "name": "stdout",
     "output_type": "stream",
     "text": [
      "Human node ...\n",
      "Is fullfilled ??????? : True\n",
      "Final requirements:['clothing', 'jewellery']\n",
      "Requirements: {}\n",
      "Added clothing to the requirements list.\n",
      "Added jewellery to the requirements list.\n",
      "Iteration start. Activating the levels one by one ...\n",
      "Activating clothing ...\n",
      "Req iterator ...\n",
      "Hi looks like you are looking for some clothing products. I can help you with that. Tell me about your requirements and I will suggest products accordingly. You may also suggest a price range.\n",
      "state['requirements'][state['cur_state']]:  {'secondary_status': 'new requirement', 'list_of_requirements': [[]], 'list_of_products': [], 'thread_conversation': [], 'price_lower_bounds': [0.0], 'price_upper_bounds': [100000.0]}\n"
     ]
    }
   ],
   "source": [
    "snap = my_agent.resume_with_user_input(\"Yes! thanks. I am ready to proceed to the product suggestions.\")"
   ]
  },
  {
   "cell_type": "code",
   "execution_count": 213,
   "metadata": {},
   "outputs": [
    {
     "name": "stdout",
     "output_type": "stream",
     "text": [
      "<<<<<<<<<<<<<<<<< Resuming secondary ...\n",
      "Human node (secondary) ...\n",
      "(Sec) Chat:  system : Hi looks like you are looking for some clothing products. I can help you with that. Tell me about your requirements and I will suggest products accordingly. You may also suggest a price range.\n",
      "human : I want to got a wedding party. So i want ethnic wear, jewellery, and beauty products. Price should be between 1000 and 5000\n",
      "Is fullfilled (secondary) ??????? : {'satisfaction_status': False}\n",
      "--------------------\n",
      "price lower bounds:  [1000.0]\n",
      "price upper bounds:  [5000.0]\n",
      "['Ethnic wear for a wedding party', 'Jewellery for the wedding party', 'Beauty products for the wedding party']\n",
      "--------------------\n",
      "No tools to run ...\n",
      "Chosen requirements:\n",
      "1. Ethnic wear for a wedding party\n",
      "2. Jewellery for the wedding party\n",
      "3. Beauty products for the wedding party\n",
      "\n",
      "Do you want to add or remove any requirements? \n",
      "Do you want to modify the price range?\n",
      "Do you want to:\n",
      "1. Add a new product under the same category\n",
      "2. Complete this category and move to the next category\n",
      "<<<<<<<<<<<<<<<<< Resuming secondary ...\n",
      "Human node (secondary) ...\n",
      "(Sec) Chat:  system : Hi looks like you are looking for some clothing products. I can help you with that. Tell me about your requirements and I will suggest products accordingly. You may also suggest a price range.\n",
      "human : I want to got a wedding party. So i want ethnic wear, jewellery, and beauty products. Price should be between 1000 and 5000\n",
      "system : Chosen requirements:\n",
      "1. Ethnic wear for a wedding party\n",
      "2. Jewellery for the wedding party\n",
      "3. Beauty products for the wedding party\n",
      "\n",
      "Do you want to add or remove any requirements? \n",
      "Do you want to modify the price range?\n",
      "Do you want to:\n",
      "1. Add a new product under the same category\n",
      "2. Complete this category and move to the next category\n",
      "human :  iam satisified\n",
      "Is fullfilled (secondary) ??????? : {'satisfaction_status': True}\n",
      "Searching products with reqs:  Ethnic wear for a wedding party\n",
      "- Jewellery for the wedding party\n",
      "- Beauty products for the wedding party\n",
      "!!!! User is looking for a specific price range !!!!\n",
      "Showing products for clothing Price range: 1000.0 - 5000.0\n",
      "Product list:  [Document(metadata={'discounted_price': 2999.0, 'retail_price': 4999.0, 'uniq_id': '8f4a7f67f1813a71c939163de08c9bee', '_id': '8f4a7f67-f181-3a71-c939-163de08c9bee', '_collection_name': 'clothing'}, page_content='Product Name: khodal fashion Embroidered Women\\'s Lehenga, Choli and Dupatta Set\\nBrand: khodal fashion\\nCategory: clothing->women\\'s clothing->ethnic wear->lehenga cholis->lehenga cholis->khodal fashion lehenga cholis->khodal fashion embroidered women\\'s lehenga, chol...\\nDescription: Key Features of khodal fashion Embroidered Women\\'s Lehenga, Choli and Dupatta Set Lehenga Fabric: georgette, brocade Brand Color: multicolor,khodal fashion Embroidered Women\\'s Lehenga, Choli and Dupatta Set Price: Rs. 2,999 there might be minor color variation between actual product and image shown on screen,Specifications of khodal fashion Embroidered Women\\'s Lehenga, Choli and Dupatta Set Lehenga Choli Details Lehenga Fabric georgette, brocade Type Lehenga, Choli and Dupatta Set General Details Pattern Embroidered Ideal For Women\\'s In the Box 1lehenga, 1choli, 1dupatta\\nSpecification: {[{\"Lehenga Fabric\", \"georgette, brocade\"}, {\"Type\", \"Lehenga, Choli and Dupatta Set\"}, {\"Pattern\", \"Embroidered\"}, {\"Ideal For\", \"Women\\'s\"}, {\"1lehenga, 1choli, 1dupatta\"}]}'), Document(metadata={'discounted_price': 3985.0, 'retail_price': 15940.0, 'uniq_id': '51ed47da1fa24924fcbebacbc956a3da', '_id': '51ed47da-1fa2-4924-fcbe-bacbc956a3da', '_collection_name': 'clothing'}, page_content='Product Name: Shonaya Georgette, Crepe Embroidered Semi-stitched Gown\\nBrand: Shonaya\\nCategory: clothing->women\\'s clothing->ethnic wear->fabric->gown material->shonaya gown material->shonaya georgette, crepe embroidered semi-stitch...\\nDescription: Key Features of Shonaya Georgette, Crepe Embroidered Semi-stitched Gown Anarkali Gown Work : Embroidery Occasion : Party Wear,Shonaya Georgette, Crepe Embroidered Semi-stitched Gown Price: Rs. 3,985 Elegance meets tradition in these suit & experience with different neckline and silhouettes with these ready to glamorize fabrics. Team it up with traditional dress to complete the desired look. As the suit carries the best in you & you\\'ll be at your best in look like never before.Top Fabric:- Georgette & Crepe (Size:-60 inch) Bottom Fabric:- NA (Size:- NA), Dupatta Fabric:- Chiffon (Size:-2.25 mtr),Specifications of Shonaya Georgette, Crepe Embroidered Semi-stitched Gown Fabric Details Fabric Georgette, Crepe Type Semi-stitched Gown General Details Pattern Embroidered Ideal For Women\\'s Color Pink, Grey In the Box Top,Dupatta Additional Details Style Code SH-VICLT-606 Fabric Care Wash Dry Clean\\nSpecification: {[{\"Fabric\", \"Georgette, Crepe\"}, {\"Type\", \"Semi-stitched Gown\"}, {\"Pattern\", \"Embroidered\"}, {\"Ideal For\", \"Women\\'s\"}, {\"Color\", \"Pink, Grey\"}, {\"Top,Dupatta\"}, {\"Style Code\", \"SH-VICLT-606\"}, {\"Wash Dry Clean\"}]}'), Document(metadata={'discounted_price': 1450.0, 'retail_price': 3499.0, 'uniq_id': '03e73f773de691d3cf9d1465a3ce71f5', '_id': '03e73f77-3de6-91d3-cf9d-1465a3ce71f5', '_collection_name': 'clothing'}, page_content='Product Name: Jeet Boy\\'s Kurta and Pyjama Set\\nBrand: Jeet\\nCategory: clothing->kids\\' clothing->boys wear->ethnic wear->ethnic sets->jeet ethnic sets->jeet boy\\'s kurta and pyjama set\\nDescription: Specifications of Jeet Boy\\'s Kurta and Pyjama Set General Details Sleeve Full Sleeve Fabric Silk Blend Type Kurta and Pyjama Set Pattern Self Design Ideal For Boy\\'s In the Box Kurta, Pyjama Fabric Care Dry Clean Only\\nSpecification: {[{\"Sleeve\", \"Full Sleeve\"}, {\"Fabric\", \"Silk Blend\"}, {\"Type\", \"Kurta and Pyjama Set\"}, {\"Pattern\", \"Self Design\"}, {\"Ideal For\", \"Boy\\'s\"}, {\"Kurta, Pyjama\"}, {\"Dry Clean Only\"}]}'), Document(metadata={'discounted_price': 994.0, 'retail_price': 2488.0, 'uniq_id': '40e2ab6b0b3480c05e2c11caafb6481b', '_id': '40e2ab6b-0b34-80c0-5e2c-11caafb6481b', '_collection_name': 'clothing'}, page_content='Product Name: EthnicQueen Women\\'s A-line Dress\\nBrand: EthnicQueen\\nCategory: clothing->women\\'s clothing->western wear->dresses & skirts->dresses->ethnicqueen dresses->ethnicqueen women\\'s a-line dress\\nDescription: Key Features of EthnicQueen Women\\'s A-line Dress Beige A-line,EthnicQueen Women\\'s A-line Dress Price: Rs. 994 EthnicQueen Beige Colour Georgette Embroidered Dress.,Specifications of EthnicQueen Women\\'s A-line Dress In The Box 1 Dress Dimensions Length Midi/Knee Length General Details Pattern Floral Print, Solid Occasion Casual, Party Ideal For Women\\'s Dress Details Sleeve 3/4 Sleeve Number of Contents in Sales Package Pack of 1 Belt Included No Fabric Georgette Type A-line Neck Round Neck Fabric Care Dry Clean, Use Detergent\\nSpecification: {[{\"1 Dress\"}, {\"Length\", \"Midi/Knee Length\"}, {\"Pattern\", \"Floral Print, Solid\"}, {\"Occasion\", \"Casual, Party\"}, {\"Ideal For\", \"Women\\'s\"}, {\"Sleeve\", \"3/4 Sleeve\"}, {\"Number of Contents in Sales Package\", \"Pack of 1\"}, {\"Belt Included\", \"No\"}, {\"Fabric\", \"Georgette\"}, {\"Type\", \"A-line\"}, {\"Neck\", \"Round Neck\"}, {\"Dry Clean, Use Detergent\"}]}'), Document(metadata={'discounted_price': 994.0, 'retail_price': 2488.0, 'uniq_id': 'f9a1ed7ffe8b738af6c356643046ca87', '_id': 'f9a1ed7f-fe8b-738a-f6c3-56643046ca87', '_collection_name': 'clothing'}, page_content='Product Name: EthnicQueen Women\\'s A-line Dress\\nBrand: EthnicQueen\\nCategory: clothing->women\\'s clothing->western wear->dresses & skirts->dresses->ethnicqueen dresses->ethnicqueen women\\'s a-line dress\\nDescription: Key Features of EthnicQueen Women\\'s A-line Dress Blue A-line,EthnicQueen Women\\'s A-line Dress Price: Rs. 994 EthnicQueen Blue Colour Georgette Embroidered Dress.,Specifications of EthnicQueen Women\\'s A-line Dress In The Box 1 Dress Dimensions Length Midi/Knee Length General Details Pattern Floral Print, Solid Occasion Casual, Party Ideal For Women\\'s Dress Details Sleeve 3/4 Sleeve Number of Contents in Sales Package Pack of 1 Belt Included No Fabric Georgette Type A-line Neck Round Neck Fabric Care Dry Clean, Use Detergent\\nSpecification: {[{\"1 Dress\"}, {\"Length\", \"Midi/Knee Length\"}, {\"Pattern\", \"Floral Print, Solid\"}, {\"Occasion\", \"Casual, Party\"}, {\"Ideal For\", \"Women\\'s\"}, {\"Sleeve\", \"3/4 Sleeve\"}, {\"Number of Contents in Sales Package\", \"Pack of 1\"}, {\"Belt Included\", \"No\"}, {\"Fabric\", \"Georgette\"}, {\"Type\", \"A-line\"}, {\"Neck\", \"Round Neck\"}, {\"Dry Clean, Use Detergent\"}]}'), Document(metadata={'discounted_price': 899.0, 'retail_price': 5000.0, 'uniq_id': '734672bbe95f3338b73d3ccbb90194d0', '_id': '734672bb-e95f-3338-b73d-3ccbb90194d0', '_collection_name': 'clothing'}, page_content='Product Name: Indianbeauty Self Design, Printed Fashion Georgette Sari\\nBrand: Indianbeauty\\nCategory: clothing->women\\'s clothing->ethnic wear->sarees->indianbeauty sarees->indianbeauty self design, printed fashion george...\\nDescription: Key Features of Indianbeauty Self Design, Printed Fashion Georgette Sari Export Quality Georgette Fabric Digital Color Dyeing Printing Rich Look Designer Heacy Blouse Fancy Designer Lace,Indianbeauty Self Design, Printed Fashion Georgette Sari Price: Rs. 999 Sarees House Self Design Printed & Embroidered Georgette Desinger Saree & Designer Embroidered Blouse,Designer Embroidery Work on Blouse,With HD Color Dying And Printing, Designer Lace on Saree,Real Cut and Size as Described in Features of SAREE, We look forward to Finding our another products online in search box by typing Sarees House,The greatest compliment you could offer us is a review on our Products. Each review is both read and appreciated by us and Flipkart customers to judge or know about the products. If you are willing to do so, it is quite easy.(So much of our business depends on Positive and 100 % Genuine Product Selling),Specifications of Indianbeauty Self Design, Printed Fashion Georgette Sari In The Box Sari General Details Pattern Self Design, Printed Occasion Festive, Party, Wedding Sari Details Fabric Georgette Type Fashion Blouse Piece Yes Ideal For Women\\'s Fabric Care Hand Wash Only, Use Soft Detergent only Additional Details Product Colour May Slightly Vary Due To Photographic Lighting Sources Or Your Monitor Settings.\\nSpecification: {[{\"Sari\"}, {\"Product Colour May Slightly Vary Due To Photographic Lighting Sources Or Your Monitor Settings.\"}, {\"Pattern\", \"Self Design, Printed\"}, {\"Occasion\", \"Festive, Party, Wedding\"}, {\"Fabric\", \"Georgette\"}, {\"Type\", \"Fashion\"}, {\"Blouse Piece\", \"Yes\"}, {\"Ideal For\", \"Women\\'s\"}, {\"Hand Wash Only, Use Soft Detergent only\"}]}'), Document(metadata={'discounted_price': 899.0, 'retail_price': 5000.0, 'uniq_id': '02bffb9f6b29dc9aca582e4691d4c9d7', '_id': '02bffb9f-6b29-dc9a-ca58-2e4691d4c9d7', '_collection_name': 'clothing'}, page_content='Product Name: Indianbeauty Self Design, Printed Fashion Georgette Sari\\nBrand: Indianbeauty\\nCategory: clothing->women\\'s clothing->ethnic wear->sarees->indianbeauty sarees->indianbeauty self design, printed fashion george...\\nDescription: Key Features of Indianbeauty Self Design, Printed Fashion Georgette Sari Export Quality Georgette Fabric Digital Color Dyeing Printing Rich Look Designer Heacy Blouse Fancy Designer Lace,Indianbeauty Self Design, Printed Fashion Georgette Sari Price: Rs. 999 Indianbeauty Self Design Printed Georgette Desinger Saree & Designer Blouse,With HD Color Dying And Printing, Designer Lace on Saree,Real Cut and Size as Described in Features of SAREE, We look forward to Finding our another products online in search box by typing Indianbeauty,The greatest compliment you could offer us is a review on our Products. Each review is both read and appreciated by us and Flipkart customers to judge or know about the products. If you are willing to do so, it is quite easy.(So much of our business depends on Positive and 100 % Genuine Product Selling),Specifications of Indianbeauty Self Design, Printed Fashion Georgette Sari In The Box Sari General Details Pattern Self Design, Printed Occasion Festive, Party, Wedding Sari Details Fabric Georgette Type Fashion Blouse Piece Yes Ideal For Women\\'s Fabric Care Hand Wash Only, Use Soft Detergent only Additional Details Product Colour May Slightly Vary Due To Photographic Lighting Sources Or Your Monitor Settings.\\nSpecification: {[{\"Sari\"}, {\"Product Colour May Slightly Vary Due To Photographic Lighting Sources Or Your Monitor Settings.\"}, {\"Pattern\", \"Self Design, Printed\"}, {\"Occasion\", \"Festive, Party, Wedding\"}, {\"Fabric\", \"Georgette\"}, {\"Type\", \"Fashion\"}, {\"Blouse Piece\", \"Yes\"}, {\"Ideal For\", \"Women\\'s\"}, {\"Hand Wash Only, Use Soft Detergent only\"}]}'), Document(metadata={'discounted_price': 899.0, 'retail_price': 5000.0, 'uniq_id': '7888fb346e28b3b2f0ae3cbd66967e01', '_id': '7888fb34-6e28-b3b2-f0ae-3cbd66967e01', '_collection_name': 'clothing'}, page_content='Product Name: Indianbeauty Self Design, Printed Fashion Georgette Sari\\nBrand: Indianbeauty\\nCategory: clothing->women\\'s clothing->ethnic wear->sarees->indianbeauty sarees->indianbeauty self design, printed fashion george...\\nDescription: Key Features of Indianbeauty Self Design, Printed Fashion Georgette Sari Export Quality Georgette Fabric Digital Color Dyeing Printing Rich Look Designer Heacy Blouse Fancy Designer Lace,Indianbeauty Self Design, Printed Fashion Georgette Sari Price: Rs. 999 Indianbeauty Self Design Printed Georgette Desinger Saree & Designer Blouse,With HD Color Dying And Printing, Designer Lace on Saree,Real Cut and Size as Described in Features of SAREE, We look forward to Finding our another products online in search box by typing Indianbeauty,The greatest compliment you could offer us is a review on our Products. Each review is both read and appreciated by us and Flipkart customers to judge or know about the products. If you are willing to do so, it is quite easy.(So much of our business depends on Positive and 100 % Genuine Product Selling),Specifications of Indianbeauty Self Design, Printed Fashion Georgette Sari In The Box Sari General Details Pattern Self Design, Printed Occasion Festive, Party, Wedding Sari Details Fabric Georgette Type Fashion Blouse Piece Yes Ideal For Women\\'s Fabric Care Hand Wash Only, Use Soft Detergent only Additional Details Product Colour May Slightly Vary Due To Photographic Lighting Sources Or Your Monitor Settings.\\nSpecification: {[{\"Sari\"}, {\"Product Colour May Slightly Vary Due To Photographic Lighting Sources Or Your Monitor Settings.\"}, {\"Pattern\", \"Self Design, Printed\"}, {\"Occasion\", \"Festive, Party, Wedding\"}, {\"Fabric\", \"Georgette\"}, {\"Type\", \"Fashion\"}, {\"Blouse Piece\", \"Yes\"}, {\"Ideal For\", \"Women\\'s\"}, {\"Hand Wash Only, Use Soft Detergent only\"}]}'), Document(metadata={'discounted_price': 899.0, 'retail_price': 5000.0, 'uniq_id': '2737da8c77cf060724702f8e17fdf75a', '_id': '2737da8c-77cf-0607-2470-2f8e17fdf75a', '_collection_name': 'clothing'}, page_content='Product Name: Indianbeauty Self Design, Printed Fashion Georgette Sari\\nBrand: Indianbeauty\\nCategory: clothing->women\\'s clothing->ethnic wear->sarees->indianbeauty sarees->indianbeauty self design, printed fashion george...\\nDescription: Key Features of Indianbeauty Self Design, Printed Fashion Georgette Sari Export Quality Georgette Fabric Digital Color Dyeing Printing Rich Look Designer Heacy Blouse Fancy Designer Lace,Indianbeauty Self Design, Printed Fashion Georgette Sari Price: Rs. 999 Indianbeauty Self Design Printed Georgette Desinger Saree & Designer Blouse,With HD Color Dying And Printing, Designer Lace on Saree,Real Cut and Size as Described in Features of SAREE, We look forward to Finding our another products online in search box by typing Indianbeauty,The greatest compliment you could offer us is a review on our Products. Each review is both read and appreciated by us and Flipkart customers to judge or know about the products. If you are willing to do so, it is quite easy.(So much of our business depends on Positive and 100 % Genuine Product Selling),Specifications of Indianbeauty Self Design, Printed Fashion Georgette Sari In The Box Sari General Details Pattern Self Design, Printed Occasion Festive, Party, Wedding Additional Details Product Colour May Slightly Vary Due To Photographic Lighting Sources Or Your Monitor Settings. Fabric Care Hand Wash Only, Use Soft Detergent only Sari Details Fabric Georgette Type Fashion Blouse Piece Yes Ideal For Women\\'s\\nSpecification: {[{\"Sari\"}, {\"Product Colour May Slightly Vary Due To Photographic Lighting Sources Or Your Monitor Settings.\"}, {\"Pattern\", \"Self Design, Printed\"}, {\"Occasion\", \"Festive, Party, Wedding\"}, {\"Hand Wash Only, Use Soft Detergent only\"}, {\"Fabric\", \"Georgette\"}, {\"Type\", \"Fashion\"}, {\"Blouse Piece\", \"Yes\"}, {\"Ideal For\", \"Women\\'s\"}]}'), Document(metadata={'discounted_price': 599.0, 'retail_price': 999.0, 'uniq_id': '54ac59b9c0e3fa2efbc113a853346280', '_id': '54ac59b9-c0e3-fa2e-fbc1-13a853346280', '_collection_name': 'clothing'}, page_content='Product Name: Jayanti sarees Party Embroidered Women\\'s Kurti\\nBrand: Jayanti sarees\\nCategory: clothing->women\\'s clothing->ethnic wear->kurtas & kurtis->kurtis->jayanti sarees kurtis->jayanti sarees party embroidered women\\'s kurti\\nDescription: Key Features of Jayanti sarees Party Embroidered Women\\'s Kurti 3/4 Sleeve Grey,Jayanti sarees Party Embroidered Women\\'s Kurti Price: Rs. 599 DESCRIPTIONBrand:- Jayantisarees Style:- Designer Top Fabric:- Georgette Bottom Fabric :- Santoon Pattern/Work :- Embroidery Ideal For :- Women Colour :- As per picture Occasion :- Party, Wedding, Festival Wash Care :- Normal Wash \\uf0d8 FEED BACK • We strive for 100% customer satisfaction on every sale we complete. If, for any reason you are not satisfied with your purchase, please contact us before leaving neutral or negative feedback. We will work with you to until you are satisfied. • We request our valued customers to send us a positive feedback as we are ever depending on reviews from you and need every assistance. • Please do not leave a negative or neutral feedback before before giving us a chance to resolve your problem. \\uf0d8 CONTACT US You can contact me on 09966002595 or whatsapp num. 09866592000,Specifications of Jayanti sarees Party Embroidered Women\\'s Kurti In The Box 1 Kurti Kurti Details Sleeve 3/4 Sleeve Number of Contents in Sales Package Pack of 1 Fabric Cotton General Details Pattern Embroidered Ideal For Women\\'s Occasion Party Fabric Care Normal Wash\\nSpecification: {[{\"1 Kurti\"}, {\"Sleeve\", \"3/4 Sleeve\"}, {\"Number of Contents in Sales Package\", \"Pack of 1\"}, {\"Fabric\", \"Cotton\"}, {\"Pattern\", \"Embroidered\"}, {\"Ideal For\", \"Women\\'s\"}, {\"Occasion\", \"Party\"}, {\"Normal Wash\"}]}')]\n",
      "Exiting category clothing ...\n",
      "Final requirements:['clothing', 'jewellery']\n",
      "New product handler ...\n",
      "%%%%%%%%%%%%\n",
      "Requirements: {'clothing': {'secondary_status': 'completed', 'list_of_requirements': [['Ethnic wear for a wedding party', 'Jewellery for the wedding party', 'Beauty products for the wedding party'], []], 'list_of_products': [['8f4a7f67f1813a71c939163de08c9bee', '51ed47da1fa24924fcbebacbc956a3da', '03e73f773de691d3cf9d1465a3ce71f5', '40e2ab6b0b3480c05e2c11caafb6481b', 'f9a1ed7ffe8b738af6c356643046ca87', '734672bbe95f3338b73d3ccbb90194d0', '02bffb9f6b29dc9aca582e4691d4c9d7', '7888fb346e28b3b2f0ae3cbd66967e01', '2737da8c77cf060724702f8e17fdf75a', '54ac59b9c0e3fa2efbc113a853346280']], 'thread_conversation': [SystemMessage(content='Do you want to add a new product under the same category or move to the next category?')], 'price_lower_bounds': [1000.0, 0.0], 'price_upper_bounds': [5000.0, 100000.0], 'secondary_done': 'completed'}, 'jewellery': {'secondary_status': 'new requirement', 'list_of_requirements': [[]], 'list_of_products': [], 'thread_conversation': [], 'price_lower_bounds': [0.0], 'price_upper_bounds': [100000.0]}}\n",
      "%%%%%%%%%%%%\n"
     ]
    }
   ],
   "source": [
    "snap = my_agent.resume_with_user_input(\"I want to got a wedding party. So i want ethnic wear, jewellery, and beauty products. Price should be between 1000 and 5000\")\n",
    "# snap = my_agent.resume_with_user_input(\"I want this for my grandmother. Show me some sarees for old ladies.\")\n",
    "# snap = my_agent.resume_with_user_input(\"Golden and pearl\")\n",
    "# snap = my_agent.resume_with_user_input(\"Platinu and diamond\")\n",
    "snap = my_agent.resume_with_user_input(\" iam satisified\")"
   ]
  },
  {
   "cell_type": "code",
   "execution_count": null,
   "metadata": {},
   "outputs": [
    {
     "name": "stdout",
     "output_type": "stream",
     "text": [
      "Chosen requirements:\n",
      "- Category: Ethnic wear\n",
      "- Product: Sarees\n",
      "- Target demographic: Older women\n",
      "\n",
      "Do you want to add or remove any requirements? \n",
      "\n",
      "Do you want to:\n",
      "1. Add a new product under the same category\n",
      "2. Complete this category and move to the next category\n"
     ]
    }
   ],
   "source": [
    "print(my_agent.get_last_secondary_message().content)"
   ]
  },
  {
   "cell_type": "code",
   "execution_count": null,
   "metadata": {},
   "outputs": [
    {
     "name": "stdout",
     "output_type": "stream",
     "text": [
      "Human node (secondary) ...\n",
      "(Sec) Chat:  system : Hi looks like you are looking for some clothing products. I can help you with that. Tell me about your requirements and I will suggest products accordingly.\n",
      "human : I want to got a wedding party. So i want ethnic wear, jewellery, and beauty products.\n",
      "system : Chosen requirements:\n",
      "1. Ethnic wear for a wedding party\n",
      "2. Jewellery to complement the outfit for the wedding party\n",
      "3. Beauty products for the wedding party\n",
      "\n",
      "Do you want to add or remove any requirements? \n",
      "\n",
      "Do you want to:\n",
      "1. Add a new product under the same category\n",
      "2. Complete with this category and move to the next category?\n",
      "human : I want this for my grandmother. Show me some sarees for old ladies.\n",
      "system : Chosen requirements:\n",
      "- Category: Ethnic wear\n",
      "- Product: Sarees\n",
      "- Target demographic: Older women\n",
      "\n",
      "Do you want to add or remove any requirements? \n",
      "\n",
      "Do you want to:\n",
      "1. Add a new product under the same category\n",
      "2. Complete this category and move to the next category\n",
      "human : No thanks!\n"
     ]
    },
    {
     "name": "stdout",
     "output_type": "stream",
     "text": [
      "Is fullfilled (secondary) ??????? : {'satisfaction_status': True}\n",
      "Exiting category clothing ...\n",
      "Final requirements:['clothing', 'jewellery']\n",
      "New product handler ...\n",
      "%%%%%%%%%%%%\n",
      "Requirements: {'clothing': {'secondary_status': 'completed', 'list_of_requirements': [['Ethnic wear - Sarees suitable for older women'], []], 'list_of_products': [['clothing_1_0', 'clothing_1_1', 'clothing_1_2', 'clothing_1_3', 'clothing_1_4']], 'thread_conversation': [SystemMessage(content='Do you want to add a new product under the same category or move to the next category?')], 'secondary_done': 'completed'}, 'jewellery': {'secondary_status': 'new requirement', 'list_of_requirements': [[]], 'list_of_products': [], 'thread_conversation': []}}\n",
      "%%%%%%%%%%%%\n"
     ]
    }
   ],
   "source": [
    "snap = my_agent.resume_with_user_input_secondary(\"No thanks!\")"
   ]
  },
  {
   "cell_type": "code",
   "execution_count": null,
   "metadata": {},
   "outputs": [],
   "source": [
    "# snap"
   ]
  },
  {
   "cell_type": "code",
   "execution_count": 1114,
   "metadata": {},
   "outputs": [
    {
     "name": "stdout",
     "output_type": "stream",
     "text": [
      "['bags_wallets_belts', 'beauty_and_personal_care', 'watches', 'sunglasses', 'sports_fitness', 'health_personal_care_appliances', 'home_decor_festive_needs', 'home_furnishing', 'kithen_dining', 'homes_kitchen', 'furniture', 'pet_supplies', 'pens_stationery', 'automotive', 'tools_hardware', 'baby_care', 'mobile_accessories', 'computers', 'cameras_accessories', 'gaming', 'home_improvement', 'home_entertainment']\n",
      "['clothing', 'jewellery']\n"
     ]
    }
   ],
   "source": [
    "print(my_agent.get_recent_state_snap()['first_level_not_chosen'])\n",
    "print(my_agent.get_recent_state_snap()['first_level_chosen'])"
   ]
  },
  {
   "cell_type": "code",
   "execution_count": 1115,
   "metadata": {},
   "outputs": [
    {
     "data": {
      "text/plain": [
       "{'clothing': {'secondary_status': 'completed',\n",
       "  'list_of_requirements': [['Ethnic wear - Sarees suitable for older women'],\n",
       "   []],\n",
       "  'list_of_products': [['clothing_1_0',\n",
       "    'clothing_1_1',\n",
       "    'clothing_1_2',\n",
       "    'clothing_1_3',\n",
       "    'clothing_1_4']],\n",
       "  'thread_conversation': [SystemMessage(content='Do you want to add a new product under the same category or move to the next category?')],\n",
       "  'secondary_done': 'completed'},\n",
       " 'jewellery': {'secondary_status': 'new requirement',\n",
       "  'list_of_requirements': [[]],\n",
       "  'list_of_products': [],\n",
       "  'thread_conversation': []}}"
      ]
     },
     "execution_count": 1115,
     "metadata": {},
     "output_type": "execute_result"
    }
   ],
   "source": [
    "my_agent.get_recent_state_snap()['requirements']"
   ]
  },
  {
   "cell_type": "code",
   "execution_count": 1116,
   "metadata": {},
   "outputs": [],
   "source": [
    "# ['clothing','food']\n",
    "\n",
    "\n",
    "\n",
    "# clothing\n",
    "\n",
    "# chat\n",
    "# sytem: tell clothing required\n",
    "# human: sold seasonm  , girls\n",
    "# systiem: tell me more \n",
    "# human: no\n",
    "# [p1,pp2, p3]\n",
    "# ->add to cart\n",
    "\n",
    "\n",
    "# ..... repeat\n",
    "\n",
    "\n",
    "\n",
    "\n",
    "# clothijng close\n",
    "\n",
    "# food\n"
   ]
  },
  {
   "cell_type": "code",
   "execution_count": null,
   "metadata": {},
   "outputs": [],
   "source": []
  },
  {
   "cell_type": "code",
   "execution_count": null,
   "metadata": {},
   "outputs": [],
   "source": []
  }
 ],
 "metadata": {
  "kernelspec": {
   "display_name": ".venv",
   "language": "python",
   "name": "python3"
  },
  "language_info": {
   "codemirror_mode": {
    "name": "ipython",
    "version": 3
   },
   "file_extension": ".py",
   "mimetype": "text/x-python",
   "name": "python",
   "nbconvert_exporter": "python",
   "pygments_lexer": "ipython3",
   "version": "3.10.4"
  }
 },
 "nbformat": 4,
 "nbformat_minor": 2
}
